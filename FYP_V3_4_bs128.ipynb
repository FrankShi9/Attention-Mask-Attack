{
  "cells": [
    {
      "cell_type": "code",
      "source": [
        "from google.colab import drive\n",
        "drive.mount('/content/drive')"
      ],
      "metadata": {
        "colab": {
          "base_uri": "https://localhost:8080/"
        },
        "id": "SoX-kXwG2dIM",
        "outputId": "d8b63fe5-b33d-4f0f-f3bc-f5b3efa4956a"
      },
      "execution_count": 1,
      "outputs": [
        {
          "output_type": "stream",
          "name": "stdout",
          "text": [
            "Mounted at /content/drive\n"
          ]
        }
      ]
    },
    {
      "cell_type": "markdown",
      "metadata": {
        "id": "jUvnj-aWyuCp"
      },
      "source": [
        "# Setup"
      ]
    },
    {
      "cell_type": "code",
      "execution_count": 1,
      "metadata": {
        "id": "Ei7nCUro1Q4S"
      },
      "outputs": [],
      "source": [
        "!pip install --quiet pytorch_lightning \n",
        "import numpy as np\n",
        "import argparse\n",
        "import torch\n",
        "import torch.nn as nn\n",
        "import torch.nn.functional as F\n",
        "import torch.optim as optim\n",
        "import torchvision\n",
        "#import pytorch_lightning\n",
        "from torchvision import transforms\n",
        "import torch.utils.data\n",
        "from torch.utils.data import DataLoader\n",
        "from torch.autograd import Variable\n",
        "\n",
        "from datetime import datetime\n",
        "import time\n",
        "import math"
      ]
    },
    {
      "cell_type": "code",
      "execution_count": 2,
      "metadata": {
        "id": "cwugDl4mhCVm"
      },
      "outputs": [],
      "source": [
        "parser = argparse.ArgumentParser(description='PyTorch MNIST Training')\n",
        "parser.add_argument('--batch-size', type=int, default=128, metavar='N', help='input batch size for training (default: 128)')\n",
        "parser.add_argument('--test-batch-size', type=int, default=128, metavar='N',\n",
        "                    help='input batch size for testing (default: 128)')\n",
        "parser.add_argument('--epochs', type=int, default=10, metavar='N', # 1 for test, 10 for train\n",
        "                    help='number of epochs to train')\n",
        "parser.add_argument('--num-classes', default=10,\n",
        "                    help='number of classes in the input dataset')\n",
        "parser.add_argument('--lr', type=float, default=0.0002, metavar='LR',\n",
        "                    help='learning rate')\n",
        "# parser.add_argument('--lr', type=float, default=0.1, metavar='LR',\n",
        "#                     help='learning rate')  # cascade version, original = 0.01\n",
        "parser.add_argument('--no-cuda', action='store_true', default=True, # True for NIFGSM only\n",
        "                    help='disables CUDA training')\n",
        "parser.add_argument('--seed', type=int, default=1, metavar='S',\n",
        "                    help='random seed (default: 1)')\n",
        "parser.add_argument('--random', default=True,\n",
        "                    help='random initialization for PGD')\n",
        "# FGSM: num-steps:1 step-size:0.1099   PGD-20: num-steps:20 step-size:0.005495\n",
        "parser.add_argument('--epsilon', default=0.1099, # matters for region\n",
        "                    help='perturbation')\n",
        "parser.add_argument('--num-steps', default=20,\n",
        "                    help='perturb number of steps, FGSM: 1, PGD-20: 20')\n",
        "parser.add_argument('--step-size', default=0.005495,\n",
        "                    help='perturb step size, FGSM: 0.1099, PGD-20: 0.005495') # change from 0.1099 to 0.005495 3/12/2021\n",
        "\n",
        "args = parser.parse_args(args=[])\n",
        "# Device setup\n",
        "if args.no_cuda:\n",
        "\tdevice = torch.device(\"cpu\")\n",
        "else:\n",
        "\tdevice = torch.device(\"cuda:0\")"
      ]
    },
    {
      "cell_type": "code",
      "execution_count": 3,
      "metadata": {
        "colab": {
          "base_uri": "https://localhost:8080/"
        },
        "id": "qhQirQPNi7lc",
        "outputId": "62eb1990-202d-41d9-e676-d4eecc24f11c"
      },
      "outputs": [
        {
          "output_type": "stream",
          "name": "stdout",
          "text": [
            "cpu\n"
          ]
        }
      ],
      "source": [
        "print(device)"
      ]
    },
    {
      "cell_type": "code",
      "execution_count": 4,
      "metadata": {
        "id": "CufsfCjK1cZQ"
      },
      "outputs": [],
      "source": [
        "# MNIST data\n",
        "train_set = torchvision.datasets.MNIST(root='./data', train=True, download=True, transform=transforms.Compose([transforms.ToTensor()]))\n",
        "\n",
        "test_set = torchvision.datasets.MNIST(root='./data', train=False, download=True, transform=transforms.Compose([transforms.ToTensor()]))\n",
        "\n",
        "train_loader = DataLoader(train_set, batch_size=args.batch_size, shuffle=True, drop_last=True)\n",
        "\n",
        "test_loader = DataLoader(test_set, batch_size=args.batch_size,  shuffle=False, drop_last=True)\n",
        "\n",
        "train_data, val_data = torch.utils.data.random_split(train_set, [42000, 18000])\n",
        "\n",
        "train_loader = DataLoader(train_data, batch_size=args.batch_size, shuffle=True, drop_last=True)\n",
        "\n",
        "val_loader = DataLoader(val_data, batch_size=args.batch_size, shuffle=False, drop_last=True)"
      ]
    },
    {
      "cell_type": "code",
      "source": [
        "import warnings\n",
        "\n",
        "warnings.filterwarnings(\"ignore\")"
      ],
      "metadata": {
        "id": "7JUJTQu-DBY2"
      },
      "execution_count": 5,
      "outputs": []
    },
    {
      "cell_type": "code",
      "source": [
        "torch.backends.cudnn.benchmark = True\n",
        "torch.backends.cudnn.enabled = True"
      ],
      "metadata": {
        "id": "WFUA8ZKI2JJx"
      },
      "execution_count": 6,
      "outputs": []
    },
    {
      "cell_type": "code",
      "source": [
        "import pickle"
      ],
      "metadata": {
        "id": "7c1FUTR_LX3N"
      },
      "execution_count": 7,
      "outputs": []
    },
    {
      "cell_type": "markdown",
      "metadata": {
        "id": "RuNvXzbZy2C_"
      },
      "source": [
        "# Attack model"
      ]
    },
    {
      "cell_type": "code",
      "execution_count": 8,
      "metadata": {
        "id": "TMWoCZS4hGi_"
      },
      "outputs": [],
      "source": [
        "class Fnn(nn.Module):\n",
        "\tdef __init__(self):\n",
        "\t\tsuper(Fnn, self).__init__()\n",
        "\t\tself.fc1 = nn.Linear(28*28, 128)\n",
        "\t\tself.fc2 = nn.Linear(128, 64)\n",
        "\t\tself.fc3 = nn.Linear(64, 32)\n",
        "\t\tself.fc4 = nn.Linear(32, 10)\n",
        "\t\n",
        "\tdef forward(self, x):\n",
        "\t\tx = self.fc1(x)\n",
        "\t\tx = F.relu(x)\n",
        "\t\tx = self.fc2(x)\n",
        "\t\tx = F.relu(x)\n",
        "\t\tx = self.fc3(x)\n",
        "\t\tx = F.relu(x)\n",
        "\t\tx = self.fc4(x)\n",
        "\t\tx = F.relu(x)\n",
        "\t\tx = F.log_softmax(x, dim=1)\n",
        "\t\treturn x"
      ]
    },
    {
      "cell_type": "code",
      "execution_count": 9,
      "metadata": {
        "id": "St-sMmcJhmBU"
      },
      "outputs": [],
      "source": [
        "from IPython.utils.path import target_update\n",
        "def train(args, model, device, train_loader, optimizer, epoch):\n",
        "    model.train()\n",
        "    # correct = 0\n",
        "    for batch_idx, (data, target) in enumerate(train_loader):\n",
        "        data, target = data.to(device), target.to(device)\n",
        "        data = data.view(data.size(0), 28 * 28)\n",
        "\n",
        "        # clear gradients\n",
        "        optimizer.zero_grad()\n",
        "\n",
        "        #print(model(data).shape, target.shape)\n",
        "        #print(model(data).dtype, target.dtype)\n",
        "        loss = F.cross_entropy(model(data), target)\n",
        "\n",
        "        # get gradients and update\n",
        "        loss.backward()\n",
        "        optimizer.step()"
      ]
    },
    {
      "cell_type": "code",
      "execution_count": 10,
      "metadata": {
        "id": "9UxM-3lmh58y"
      },
      "outputs": [],
      "source": [
        "def eval_test(model, device, test_loader):\n",
        "    model.eval()\n",
        "    test_loss = 0\n",
        "    correct = 0\n",
        "    idx = 0\n",
        "    with torch.no_grad():\n",
        "        for batch_idx, (data, target) in enumerate(test_loader):\n",
        "            data, target = data.to(device), target.to(device)\n",
        "            data = data.view(data.size(0), 28 * 28)\n",
        "            output = model(data)\n",
        "            test_loss += F.cross_entropy(output, target, size_average=False).item()\n",
        "            pred = output.max(1, keepdim=True)[1]\n",
        "            correct += pred.eq(target.view_as(pred)).sum().item()\n",
        "            #print(batch_idx, 'misclassified:', args.batch_size-pred.eq(target.view_as(pred)).sum().item())\n",
        "            idx += 1\n",
        "\n",
        "    test_loss /= len(test_loader.dataset)\n",
        "    test_accuracy = correct / len(test_loader.dataset)\n",
        "    return test_loss, test_accuracy"
      ]
    },
    {
      "cell_type": "code",
      "execution_count": 11,
      "metadata": {
        "id": "ugn21fYAC4b4"
      },
      "outputs": [],
      "source": [
        "def train_fnn(model):\n",
        "\tmodel = model.to(device)\n",
        " \n",
        "\tfor epoch in range(1, args.epochs+1):\n",
        "\t\tstart_time = time.time()\n",
        "\t\tsgd = optim.SGD(model.parameters(), lr=args.lr)\n",
        "  \n",
        "\t\ttrain(args, model, device, train_loader, sgd, epoch)\n",
        "\n",
        "\t\ttrnloss, trnacc = eval_test(model, device, train_loader)\n",
        "\n",
        "\t\tprint('Epoch ' + str(epoch) + ': ' + str(int(time.time() - start_time)) + 's', end=', ')\n",
        "\t\tprint('trn_loss: {:.4f}, trn_acc: {:.2f}%'.format(trnloss, 100. * trnacc), end='\\n')\n",
        "\n",
        "\treturn model"
      ]
    },
    {
      "cell_type": "code",
      "execution_count": 12,
      "metadata": {
        "id": "7366NhV2MPyL"
      },
      "outputs": [],
      "source": [
        "# fnn = Fnn().to(device)\n",
        "# fnn = train_fnn(Fnn())"
      ]
    },
    {
      "cell_type": "code",
      "source": [
        "# torch.save(fnn.state_dict(), \"./\"+'fnn128'+'.pt')"
      ],
      "metadata": {
        "id": "7GeTkyGL5bo1"
      },
      "execution_count": 13,
      "outputs": []
    },
    {
      "cell_type": "code",
      "source": [
        "fnn = Fnn().to(device)"
      ],
      "metadata": {
        "id": "cXKbNpep8NwZ"
      },
      "execution_count": 14,
      "outputs": []
    },
    {
      "cell_type": "code",
      "source": [
        "fnn.load_state_dict(torch.load('/content/drive/MyDrive/FYP/fnn.pt'))"
      ],
      "metadata": {
        "colab": {
          "base_uri": "https://localhost:8080/"
        },
        "id": "0r0mRDx85hbm",
        "outputId": "f9617b5e-5848-44d3-ea56-96f73e4f15be"
      },
      "execution_count": 15,
      "outputs": [
        {
          "output_type": "execute_result",
          "data": {
            "text/plain": [
              "<All keys matched successfully>"
            ]
          },
          "metadata": {},
          "execution_count": 15
        }
      ]
    },
    {
      "cell_type": "code",
      "source": [
        "fnn.eval()"
      ],
      "metadata": {
        "colab": {
          "base_uri": "https://localhost:8080/"
        },
        "id": "VDPqNjc6Dsq8",
        "outputId": "4124d904-95d6-477e-a77a-b427dfe9491c"
      },
      "execution_count": 16,
      "outputs": [
        {
          "output_type": "execute_result",
          "data": {
            "text/plain": [
              "Fnn(\n",
              "  (fc1): Linear(in_features=784, out_features=128, bias=True)\n",
              "  (fc2): Linear(in_features=128, out_features=64, bias=True)\n",
              "  (fc3): Linear(in_features=64, out_features=32, bias=True)\n",
              "  (fc4): Linear(in_features=32, out_features=10, bias=True)\n",
              ")"
            ]
          },
          "metadata": {},
          "execution_count": 16
        }
      ]
    },
    {
      "cell_type": "code",
      "source": [
        "# tesloss, tesacc = eval_test(fnn, device, test_loader)\n",
        "# print('test_loss: {:.4f}, trn_acc: {:.2f}%'.format(tesloss, 100. * tesacc), end='\\n')"
      ],
      "metadata": {
        "id": "Y3yfVnRcJE3b"
      },
      "execution_count": 17,
      "outputs": []
    },
    {
      "cell_type": "code",
      "execution_count": 18,
      "metadata": {
        "id": "a-qsMxrQ4Dsr"
      },
      "outputs": [],
      "source": [
        "!pip install --quiet captum"
      ]
    },
    {
      "cell_type": "code",
      "source": [
        "import matplotlib.pyplot as plt"
      ],
      "metadata": {
        "id": "C_okAhn-wLXE"
      },
      "execution_count": 19,
      "outputs": []
    },
    {
      "cell_type": "markdown",
      "source": [
        "# Integrated Gradient"
      ],
      "metadata": {
        "id": "_RigL-3xh09O"
      }
    },
    {
      "cell_type": "code",
      "source": [
        "#train_loader = DataLoader(train_set, batch_size=args.batch_size, shuffle=False, drop_last=True)"
      ],
      "metadata": {
        "id": "C6qPUdGWnKuW"
      },
      "execution_count": null,
      "outputs": []
    },
    {
      "cell_type": "code",
      "execution_count": 20,
      "metadata": {
        "id": "QbRA1516hS4E"
      },
      "outputs": [],
      "source": [
        "# from copy import deepcopy\n",
        "from captum.attr import IntegratedGradients"
      ]
    },
    {
      "cell_type": "code",
      "execution_count": 21,
      "metadata": {
        "id": "xcoYxVLO4uNZ"
      },
      "outputs": [],
      "source": [
        "saliency = IntegratedGradients(fnn)\n",
        "\n",
        "label = []\n",
        "sample = train_set[0]\n",
        "\n",
        "for data, target in test_loader:\n",
        "  #print(target)\n",
        "  data, target = data.to(device), target.to(device)\n",
        "  data = data.view(data.size(0), 28 * 28)\n",
        "  attribution = saliency.attribute(data, target=target)\n",
        "  label.append(attribution)"
      ]
    },
    {
      "cell_type": "code",
      "source": [
        "with open(\"/content/drive/MyDrive/FYP/label128\", \"rb\") as fp:\n",
        "  label = pickle.load(fp)"
      ],
      "metadata": {
        "id": "79DeNTuELlvn"
      },
      "execution_count": null,
      "outputs": []
    },
    {
      "cell_type": "code",
      "source": [
        "print(torch.max(label[0]))"
      ],
      "metadata": {
        "colab": {
          "base_uri": "https://localhost:8080/"
        },
        "id": "9rfkWx1fr00K",
        "outputId": "e1c53287-a8d9-40e3-e853-cfdb77f52a98"
      },
      "execution_count": null,
      "outputs": [
        {
          "output_type": "stream",
          "name": "stdout",
          "text": [
            "tensor(0.4111, device='cuda:0', dtype=torch.float64)\n"
          ]
        }
      ]
    },
    {
      "cell_type": "code",
      "source": [
        "print(torch.min(label[0]))"
      ],
      "metadata": {
        "colab": {
          "base_uri": "https://localhost:8080/"
        },
        "id": "EI9NDiLNJkXS",
        "outputId": "f8bacbf0-2d64-44be-c7f5-43631fd19487"
      },
      "execution_count": null,
      "outputs": [
        {
          "output_type": "stream",
          "name": "stdout",
          "text": [
            "tensor(-0.3875, device='cuda:0', dtype=torch.float64)\n"
          ]
        }
      ]
    },
    {
      "cell_type": "code",
      "source": [
        "# plt.imshow(sample[0].cpu().detach().numpy().reshape((28,28)), cmap='gray')"
      ],
      "metadata": {
        "id": "V5mSYKd6jQLY"
      },
      "execution_count": null,
      "outputs": []
    },
    {
      "cell_type": "code",
      "source": [
        "plt.imshow(label[0][0,:].cpu().detach().numpy().reshape((28,28)), cmap='gray')"
      ],
      "metadata": {
        "id": "Sogoo_g1i2XQ"
      },
      "execution_count": null,
      "outputs": []
    },
    {
      "cell_type": "markdown",
      "source": [
        "# Mutated XAI mixture attention mask"
      ],
      "metadata": {
        "id": "s88uApKTgAeN"
      }
    },
    {
      "cell_type": "code",
      "source": [
        "from captum.attr import GuidedBackprop"
      ],
      "metadata": {
        "id": "Jy1sUUbGRe76"
      },
      "execution_count": null,
      "outputs": []
    },
    {
      "cell_type": "code",
      "source": [
        "# GB = GuidedBackprop(fnn)\n",
        "\n",
        "# mask = []\n",
        "\n",
        "# for data, target in train_loader:\n",
        "#   data, target = data.to(device), target.to(device)\n",
        "#   data = data.view(data.size(0), 28 * 28)\n",
        "#   attribution = GB.attribute(data, target=target)\n",
        "#   mask.append(attribution)"
      ],
      "metadata": {
        "id": "bQpN3r2ORkZf"
      },
      "execution_count": null,
      "outputs": []
    },
    {
      "cell_type": "code",
      "source": [
        "# with open(\"/content/drive/MyDrive/FYP/mask128\", \"wb\") as fp:\n",
        "#   pickle.dump(mask, fp)"
      ],
      "metadata": {
        "id": "zjzG-9crOi0W"
      },
      "execution_count": null,
      "outputs": []
    },
    {
      "cell_type": "code",
      "source": [
        "with open(\"/content/drive/MyDrive/FYP/mask128\", \"rb\") as fp:\n",
        "  mask = pickle.load(fp)"
      ],
      "metadata": {
        "id": "81Rfh31QOrdD"
      },
      "execution_count": null,
      "outputs": []
    },
    {
      "cell_type": "code",
      "source": [
        "plt.imshow(mask[0][0,:].cpu().detach().numpy().reshape((28,28)), cmap='gray')"
      ],
      "metadata": {
        "id": "CQOk1FJiiaNg"
      },
      "execution_count": null,
      "outputs": []
    },
    {
      "cell_type": "code",
      "source": [
        "from captum.attr import LRP"
      ],
      "metadata": {
        "id": "R-bsF0EsqYY0"
      },
      "execution_count": null,
      "outputs": []
    },
    {
      "cell_type": "code",
      "source": [
        "lrpa = LRP(fnn)\n",
        "\n",
        "lrp = []\n",
        "\n",
        "for data, target in test_loader:\n",
        "  data, target = data.to(device), target.to(device)\n",
        "  data = data.view(data.size(0), 28 * 28)\n",
        "  attribution = lrpa.attribute(data, target=target)\n",
        "  lrp.append(attribution)"
      ],
      "metadata": {
        "id": "6Szbo-uFqaFz"
      },
      "execution_count": null,
      "outputs": []
    },
    {
      "cell_type": "code",
      "source": [
        "# with open(\"/content/drive/MyDrive/FYP/lrp128\", \"wb\") as fp:\n",
        "#   pickle.dump(lrp, fp)"
      ],
      "metadata": {
        "id": "q243ORTsPEwn"
      },
      "execution_count": null,
      "outputs": []
    },
    {
      "cell_type": "code",
      "source": [
        "with open(\"/content/drive/MyDrive/FYP/lrp128\", \"rb\") as fp:\n",
        "  lrp = pickle.load(fp)"
      ],
      "metadata": {
        "id": "k74ASpilPHMn"
      },
      "execution_count": null,
      "outputs": []
    },
    {
      "cell_type": "code",
      "source": [
        "plt.imshow(lrp[0][0,:].cpu().detach().numpy().reshape((28,28)), cmap='gray')"
      ],
      "metadata": {
        "id": "IBbyDli6iAJS"
      },
      "execution_count": null,
      "outputs": []
    },
    {
      "cell_type": "code",
      "source": [
        "print(torch.max(lrp[0]))"
      ],
      "metadata": {
        "colab": {
          "base_uri": "https://localhost:8080/"
        },
        "id": "6GJU4az_PgIg",
        "outputId": "f2bdcca7-8fad-4e07-d16b-93e1b0aef71b"
      },
      "execution_count": null,
      "outputs": [
        {
          "output_type": "stream",
          "name": "stdout",
          "text": [
            "tensor(8.0268, device='cuda:0', grad_fn=<MaxBackward1>)\n"
          ]
        }
      ]
    },
    {
      "cell_type": "code",
      "source": [
        "print(torch.min(lrp[0]))"
      ],
      "metadata": {
        "colab": {
          "base_uri": "https://localhost:8080/"
        },
        "id": "uUKqMFLYOlAT",
        "outputId": "2855f668-8db1-4ed5-f425-f0687d1d1be6"
      },
      "execution_count": null,
      "outputs": [
        {
          "output_type": "stream",
          "name": "stdout",
          "text": [
            "tensor(-12.7111, device='cuda:0', grad_fn=<MinBackward1>)\n"
          ]
        }
      ]
    },
    {
      "cell_type": "code",
      "source": [
        "import random"
      ],
      "metadata": {
        "id": "lSuCWIldFnsR"
      },
      "execution_count": null,
      "outputs": []
    },
    {
      "cell_type": "code",
      "source": [
        "def mute(a=.5, b=.5, thr=.5):\n",
        "  \"\"\"\n",
        "  random mutation on weight\n",
        "  \"\"\"\n",
        "  rand = random.random()\n",
        "  a = rand\n",
        "  b = 1-a\n",
        "  if rand<thr:\n",
        "    #print('mute')\n",
        "    a = 1-a\n",
        "    b = 1-b\n",
        "  #print('a:', a, 'b:', b)\n",
        "  return (a,b)\n",
        "\n",
        "lbl = []\n",
        "\n",
        "#importance mask\n",
        "for i in range(len(lrp)):\n",
        "  a, b = mute()\n",
        "  with torch.no_grad():\n",
        "    lbl.append(torch.ones_like(lrp[i])-(b*F.normalize(lrp[i])+a*label[i]))"
      ],
      "metadata": {
        "id": "NDSqSVx14a0b"
      },
      "execution_count": null,
      "outputs": []
    },
    {
      "cell_type": "code",
      "source": [
        "print(torch.max(lbl[0]))"
      ],
      "metadata": {
        "id": "_eKcHbqHKA7s",
        "colab": {
          "base_uri": "https://localhost:8080/"
        },
        "outputId": "81d89ecd-41d2-4bc0-b547-61cfcc8bbb8f"
      },
      "execution_count": null,
      "outputs": [
        {
          "output_type": "stream",
          "name": "stdout",
          "text": [
            "tensor(1.3471, device='cuda:0', dtype=torch.float64)\n"
          ]
        }
      ]
    },
    {
      "cell_type": "code",
      "source": [
        "print(torch.min(lbl[0]))"
      ],
      "metadata": {
        "id": "l1a7RqjhtIIx",
        "colab": {
          "base_uri": "https://localhost:8080/"
        },
        "outputId": "e9743fb8-f2f7-46cc-9b16-b7dfcc584da4"
      },
      "execution_count": null,
      "outputs": [
        {
          "output_type": "stream",
          "name": "stdout",
          "text": [
            "tensor(0.6378, device='cuda:0', dtype=torch.float64)\n"
          ]
        }
      ]
    },
    {
      "cell_type": "code",
      "source": [
        "print(lbl[0])"
      ],
      "metadata": {
        "id": "LKozYKkPI1Tw",
        "colab": {
          "base_uri": "https://localhost:8080/"
        },
        "outputId": "23879460-c088-4fce-8d8f-62f4df31aa25"
      },
      "execution_count": null,
      "outputs": [
        {
          "output_type": "stream",
          "name": "stdout",
          "text": [
            "tensor([[1., 1., 1.,  ..., 1., 1., 1.],\n",
            "        [1., 1., 1.,  ..., 1., 1., 1.],\n",
            "        [1., 1., 1.,  ..., 1., 1., 1.],\n",
            "        ...,\n",
            "        [1., 1., 1.,  ..., 1., 1., 1.],\n",
            "        [1., 1., 1.,  ..., 1., 1., 1.],\n",
            "        [1., 1., 1.,  ..., 1., 1., 1.]], device='cuda:0', dtype=torch.float64)\n"
          ]
        }
      ]
    },
    {
      "cell_type": "code",
      "source": [
        "print(torch.equal(label[0][0,:], lbl[0][0,:]))"
      ],
      "metadata": {
        "id": "xqS0BRkl_aCe",
        "colab": {
          "base_uri": "https://localhost:8080/"
        },
        "outputId": "ff7f0bb5-a3d8-4d52-e6fa-7ecdbaa73a2a"
      },
      "execution_count": null,
      "outputs": [
        {
          "output_type": "stream",
          "name": "stdout",
          "text": [
            "False\n"
          ]
        }
      ]
    },
    {
      "cell_type": "code",
      "source": [
        "print(torch.equal(lrp[0][0,:], lbl[0][0,:]))"
      ],
      "metadata": {
        "id": "2Lxvrfz6Djfg",
        "colab": {
          "base_uri": "https://localhost:8080/"
        },
        "outputId": "4c6ffe49-8c65-4f18-c347-556e18ca1dff"
      },
      "execution_count": null,
      "outputs": [
        {
          "output_type": "stream",
          "name": "stdout",
          "text": [
            "False\n"
          ]
        }
      ]
    },
    {
      "cell_type": "code",
      "source": [
        "plt.imshow(lbl[0][0,:].cpu().detach().numpy().reshape((28,28)), cmap='gray')"
      ],
      "metadata": {
        "id": "fIms3X1q9vYJ"
      },
      "execution_count": null,
      "outputs": []
    },
    {
      "cell_type": "markdown",
      "source": [
        "# Integrated Gradient discover attack"
      ],
      "metadata": {
        "id": "wFWOLu4rfvCw"
      }
    },
    {
      "cell_type": "markdown",
      "source": [
        "original data XAI"
      ],
      "metadata": {
        "id": "iKo_PA0xF1N_"
      }
    },
    {
      "cell_type": "code",
      "source": [
        "plt.imshow(label[0][0,:].cpu().detach().numpy().reshape((28,28)), cmap='gray')"
      ],
      "metadata": {
        "colab": {
          "base_uri": "https://localhost:8080/",
          "height": 283
        },
        "outputId": "e090950d-2853-4b71-9905-74cfe9c61629",
        "id": "EFXONA9oF1e5"
      },
      "execution_count": null,
      "outputs": [
        {
          "output_type": "execute_result",
          "data": {
            "text/plain": [
              "<matplotlib.image.AxesImage at 0x7fc690868670>"
            ]
          },
          "metadata": {},
          "execution_count": 17
        },
        {
          "output_type": "display_data",
          "data": {
            "text/plain": [
              "<Figure size 432x288 with 1 Axes>"
            ],
            "image/png": "[encoded data removed]"
          },
          "metadata": {
            "needs_background": "light"
          }
        }
      ]
    },
    {
      "cell_type": "code",
      "source": [
        "saliency = IntegratedGradients(fnn)\n",
        "\n",
        "audit1 = []\n",
        "sample = train_set[0]\n",
        "\n",
        "for idx, (data, target) in enumerate(train_loader):\n",
        "  data, target = data.to(device), target.to(device)\n",
        "  data = data.view(data.size(0), 28 * 28)\n",
        "  adv_data = pgd_whitebox0(idx+1, fnn, data, target)\n",
        "  attribution = saliency.attribute(adv_data, target=target)\n",
        "  audit1.append(attribution)"
      ],
      "metadata": {
        "id": "IjW68jTKWm4M"
      },
      "execution_count": null,
      "outputs": []
    },
    {
      "cell_type": "code",
      "source": [
        "plt.imshow(audit1[0][0,:].cpu().detach().numpy().reshape((28,28)), cmap='gray')"
      ],
      "metadata": {
        "colab": {
          "base_uri": "https://localhost:8080/",
          "height": 283
        },
        "id": "M8THcABQmSGr",
        "outputId": "e46c7ef2-466c-4b55-9784-d66c8749fb87"
      },
      "execution_count": null,
      "outputs": [
        {
          "output_type": "execute_result",
          "data": {
            "text/plain": [
              "<matplotlib.image.AxesImage at 0x7fc6903ef460>"
            ]
          },
          "metadata": {},
          "execution_count": 21
        },
        {
          "output_type": "display_data",
          "data": {
            "text/plain": [
              "<Figure size 432x288 with 1 Axes>"
            ],
            "image/png": "[encoded data removed]"
          },
          "metadata": {
            "needs_background": "light"
          }
        }
      ]
    },
    {
      "cell_type": "code",
      "source": [
        "umodel = UNet().to(device)\n",
        "umodel.load_state_dict(torch.load('/content/drive/MyDrive/FYP/u1.1030278996743863.pt'))"
      ],
      "metadata": {
        "colab": {
          "base_uri": "https://localhost:8080/"
        },
        "id": "BcNHoLxPqPf0",
        "outputId": "c0095890-611b-4470-a7e2-c2ca6ef37b40"
      },
      "execution_count": null,
      "outputs": [
        {
          "output_type": "execute_result",
          "data": {
            "text/plain": [
              "<All keys matched successfully>"
            ]
          },
          "metadata": {},
          "execution_count": 62
        }
      ]
    },
    {
      "cell_type": "code",
      "source": [
        "umodel.eval()"
      ],
      "metadata": {
        "id": "DMM0j4psr587"
      },
      "execution_count": null,
      "outputs": []
    },
    {
      "cell_type": "code",
      "source": [
        "saliency = IntegratedGradients(fnn)\n",
        "\n",
        "audit2 = []\n",
        "sample = train_set[0]\n",
        "\n",
        "for idx, (data, target) in enumerate(train_loader):\n",
        "  data, target = data.to(device), target.to(device)\n",
        "  #data = data.view(data.size(0), 28 * 28)\n",
        "  mask = umodel(data)\n",
        "  adv_data = pgd_whitebox(idx+1, fnn, data.view(data.size(0), 28 * 28), mask.view(mask.size(0), 28 * 28), target, device=device)\n",
        "  attribution = saliency.attribute(adv_data, target=target)\n",
        "  audit2.append(attribution)"
      ],
      "metadata": {
        "id": "H2Wtgo3AjP8W"
      },
      "execution_count": null,
      "outputs": []
    },
    {
      "cell_type": "code",
      "source": [
        "plt.imshow(audit2[0][0,:].cpu().detach().numpy().reshape((28,28)), cmap='gray')"
      ],
      "metadata": {
        "id": "06v6ACvamGKK"
      },
      "execution_count": null,
      "outputs": []
    },
    {
      "cell_type": "code",
      "source": [
        "saliency = IntegratedGradients(fnn)\n",
        "\n",
        "audit3 = []\n",
        "sample = train_set[0]\n",
        "\n",
        "for idx, (data, target) in enumerate(test_loader):\n",
        "  data, target = data.to(device), target.to(device)\n",
        "  data = data.view(data.size(0), 28 * 28)\n",
        "  adv_data = pgd_whitebox(idx+1, fnn, data, lbl[idx].to(torch.float32), target, device=device)\n",
        "  attribution = saliency.attribute(adv_data, target=target)\n",
        "  audit3.append(attribution)"
      ],
      "metadata": {
        "id": "jSv78N7UFM1z"
      },
      "execution_count": null,
      "outputs": []
    },
    {
      "cell_type": "code",
      "source": [
        "plt.imshow(audit3[0][0,:].cpu().detach().numpy().reshape((28,28)), cmap='gray')"
      ],
      "metadata": {
        "colab": {
          "base_uri": "https://localhost:8080/",
          "height": 283
        },
        "id": "SpWAkH-0FOQ8",
        "outputId": "5641e84f-cda0-4f06-c106-4d2210636034"
      },
      "execution_count": null,
      "outputs": [
        {
          "output_type": "execute_result",
          "data": {
            "text/plain": [
              "<matplotlib.image.AxesImage at 0x7fc52d70ef40>"
            ]
          },
          "metadata": {},
          "execution_count": 54
        },
        {
          "output_type": "display_data",
          "data": {
            "text/plain": [
              "<Figure size 432x288 with 1 Axes>"
            ],
            "image/png": "[encoded data removed]"
          },
          "metadata": {
            "needs_background": "light"
          }
        }
      ]
    },
    {
      "cell_type": "code",
      "source": [
        "#@title XAI(data vs PGD)\n",
        "sim = 0\n",
        "for i in range(len(label)):\n",
        "  sim += torch.mean(nn.CosineSimilarity()(label[i], audit1[i]))\n",
        "\n",
        "mean = sim/float(len(label))\n",
        "print(mean)"
      ],
      "metadata": {
        "colab": {
          "base_uri": "https://localhost:8080/"
        },
        "id": "IFHGDS6XGe11",
        "outputId": "d34732d6-1660-498a-9216-00dc1545ddbb"
      },
      "execution_count": null,
      "outputs": [
        {
          "output_type": "stream",
          "name": "stdout",
          "text": [
            "tensor(0.8745, device='cuda:0', dtype=torch.float64, grad_fn=<DivBackward0>)\n"
          ]
        }
      ]
    },
    {
      "cell_type": "code",
      "source": [
        "#@title XAI(data vs GB PGD)\n",
        "sim = 0\n",
        "for i in range(len(label)):\n",
        "  sim += torch.mean(nn.CosineSimilarity()(label[i], audit2[i]))\n",
        "\n",
        "mean = sim/float(len(label))\n",
        "print(mean)"
      ],
      "metadata": {
        "colab": {
          "base_uri": "https://localhost:8080/"
        },
        "id": "1EUaMzUAG9IT",
        "outputId": "eaf067cc-3ed1-4450-c883-3d61fa23dd8b"
      },
      "execution_count": null,
      "outputs": [
        {
          "output_type": "stream",
          "name": "stdout",
          "text": [
            "tensor(0.9265, device='cuda:0', dtype=torch.float64, grad_fn=<DivBackward0>)\n"
          ]
        }
      ]
    },
    {
      "cell_type": "code",
      "source": [
        "#@title XAI(data vs gene-mean(LRP-IG) PGD)\n",
        "sim = 0\n",
        "for i in range(len(label)):\n",
        "  sim += torch.mean(nn.CosineSimilarity()(label[i], audit3[i]))\n",
        "\n",
        "mean = sim/float(len(label))\n",
        "print(mean)"
      ],
      "metadata": {
        "colab": {
          "base_uri": "https://localhost:8080/"
        },
        "id": "Or6DdMvDG9bJ",
        "outputId": "c3e7fee8-4f31-465d-cdb6-5a840f484fe2"
      },
      "execution_count": null,
      "outputs": [
        {
          "output_type": "stream",
          "name": "stdout",
          "text": [
            "tensor(0.9807, device='cuda:0', dtype=torch.float64, grad_fn=<DivBackward0>)\n"
          ]
        }
      ]
    },
    {
      "cell_type": "markdown",
      "source": [
        "# ."
      ],
      "metadata": {
        "id": "TVf8PyJNIaHQ"
      }
    },
    {
      "cell_type": "code",
      "source": [
        "#@title XAI(data vs GB PGD)\n",
        "sim = 0\n",
        "for i in range(len(label)):\n",
        "  sim += torch.mean(nn.CosineSimilarity()(label[i], audit2[i]))\n",
        "\n",
        "mean = sim/float(len(label))\n",
        "print(mean)"
      ],
      "metadata": {
        "colab": {
          "base_uri": "https://localhost:8080/"
        },
        "id": "rbZ9WUb8oDbc",
        "outputId": "d93c2068-9f60-45db-8019-8e0aed14984e",
        "cellView": "form"
      },
      "execution_count": null,
      "outputs": [
        {
          "output_type": "stream",
          "name": "stdout",
          "text": [
            "tensor(0.8388, device='cuda:0', dtype=torch.float64, grad_fn=<DivBackward0>)\n"
          ]
        }
      ]
    },
    {
      "cell_type": "code",
      "source": [
        "#@title XAI(data vs gene-mean(LRP-IG) PGD)\n",
        "sim = 0\n",
        "for i in range(len(label)):\n",
        "  sim += torch.mean(nn.CosineSimilarity()(label[i], audit3[i]))\n",
        "\n",
        "mean = sim/float(len(label))\n",
        "print(mean)"
      ],
      "metadata": {
        "id": "rlRBYpFCvwYp",
        "colab": {
          "base_uri": "https://localhost:8080/"
        },
        "outputId": "c99936f2-8dc1-4984-fec5-d019c6dedd22",
        "cellView": "form"
      },
      "execution_count": null,
      "outputs": [
        {
          "output_type": "stream",
          "name": "stdout",
          "text": [
            "tensor(0.8415, device='cuda:0', dtype=torch.float64, grad_fn=<DivBackward0>)\n"
          ]
        }
      ]
    },
    {
      "cell_type": "markdown",
      "metadata": {
        "id": "67fzQEFVyZJy"
      },
      "source": [
        "\n",
        "\n",
        "---\n",
        "\n"
      ]
    },
    {
      "cell_type": "markdown",
      "source": [
        "# attention mask via UModel"
      ],
      "metadata": {
        "id": "a4dT5tszuZez"
      }
    },
    {
      "cell_type": "code",
      "source": [
        "def SLU(x, a=.5):\n",
        "\treturn torch.max(torch.zeros_like(x),x) + a*torch.sin(x)"
      ],
      "metadata": {
        "id": "YRpzGqL71ZEg"
      },
      "execution_count": 35,
      "outputs": []
    },
    {
      "cell_type": "code",
      "source": [
        "def g_normal_(\n",
        "    tensor, in_c, out_c, kernel_size):\n",
        "    if 0 in tensor.shape:\n",
        "        warnings.warn(\"Initializing zero-element tensors is a no-op\")\n",
        "        return tensor\n",
        "    std = 2 / ((in_c+out_c)*kernel_size)\n",
        "    with torch.no_grad():\n",
        "        return tensor.normal_(0, std)"
      ],
      "metadata": {
        "id": "F5hhmkq23CpY"
      },
      "execution_count": 36,
      "outputs": []
    },
    {
      "cell_type": "code",
      "execution_count": 37,
      "metadata": {
        "id": "3pIW7g7m9TE5"
      },
      "outputs": [],
      "source": [
        "class Block(nn.Module): # vgg/res inspired\n",
        "\tdef __init__(self, in_c, out_c):\n",
        "\t\tsuper().__init__()\n",
        "\t\tself.conv1 = nn.Conv2d(in_c, out_c, 3, 1, 1)\n",
        "\t\tg_normal_(self.conv1.weight, in_c, out_c, 3) # init\n",
        "\t\tself.bn = nn.BatchNorm2d(out_c)\n",
        "\t\t#self.lrelu = nn.LeakyReLU(0.1)\n",
        "\t\tself.elu = nn.ELU()\n",
        "\t\tself.conv2 = nn.Conv2d(out_c, out_c, 3, 1, 1)\n",
        "\t\tself.gn = nn.GroupNorm(8, out_c)\n",
        "\t\tself.dropout = nn.Dropout2d(p=.25)\n",
        "\t\n",
        "\tdef forward(self, x):\n",
        "\t\t#return self.gm(self.lrelu(self.conv2(SLU(self.conv1(x)))))\n",
        "\n",
        "\t\ty = self.conv1(x)\n",
        "\t\tidentity = y\n",
        "\t\ty = self.bn(y)\n",
        "\t\ty = SLU(y)\n",
        "\t\ty = self.conv2(y)\n",
        "\t\ty = self.gn(y)\n",
        "\t\ty = self.dropout(y)\n",
        "\t\n",
        "\t\ty += identity\n",
        "\t\ty = self.elu(y)\n",
        "\n",
        "\t\treturn y\n",
        "\n",
        "class Encoder(nn.Module):\n",
        "\tdef __init__(self, chs=(3,64,128,256)):\n",
        "\t\tsuper().__init__()\n",
        "\t\tself.enc_blocks = nn.ModuleList([Block(chs[i], chs[i+1]) for i in range(len(chs)-1)])\n",
        "\t\t#self.pool = nn.MaxPool2d(2)\n",
        "\t\tself.pool_blks = nn.ModuleList([nn.Conv2d(chs[i+1], chs[i+1], 1, 2, 0) for i in range(len(chs)-1)])\n",
        "\t\n",
        "\tdef forward(self, x, cifar=False):\n",
        "\t\tif not cifar:\n",
        "\t\t\tx = x.reshape(args.batch_size, 1, 28, 28)\n",
        "\t\t\tx = x.repeat(1, 3, 1, 1)\n",
        "\n",
        "\t\tftrs = []\n",
        "\t\ti = 1\n",
        "\t\tfor (idx, block) in enumerate(self.enc_blocks):\t\n",
        "\t\t\tx = block(x)\n",
        "\t\t\tftrs.append(x)\n",
        "\t\t\t#x = self.pool(x)\n",
        "\t\t\tx = self.pool_blks[idx](x)\n",
        "\t\t\ti+=1\n",
        "\n",
        "\t\treturn ftrs\n",
        "\n",
        "\n",
        "class Decoder(nn.Module):\n",
        "\tdef __init__(self, chs=(256, 128, 64)):\n",
        "\t\tsuper().__init__()\n",
        "\t\tself.chs = chs\n",
        "\t\tself.upconvs = nn.ModuleList([nn.ConvTranspose2d(chs[i], chs[i+1], 2, 2, 0) for i in range(len(chs)-1)])\n",
        "\t\tself.dec_blocks = nn.ModuleList([Block(chs[i], chs[i+1]) for i in range(len(chs)-1)])\n",
        "\n",
        "\n",
        "\tdef forward(self, x, encoder_features, cifar=False):\n",
        "\t\tfor i in range(len(self.chs)-1):\n",
        "\t\t\tx = self.upconvs[i](x)\n",
        "\t\t\tenc_ftrs = self.crop(encoder_features[i], x)\n",
        "\t\t\tx = torch.cat([x, enc_ftrs], dim=1)\n",
        "\t\t\tx = self.dec_blocks[i](x)\n",
        "\t\t\n",
        "\t\treturn x\n",
        "\n",
        "\tdef crop(self, enc_ftrs, x):\n",
        "\t\t_, _, H, W = x.shape\n",
        "\t\tenc_ftrs = torchvision.transforms.CenterCrop([H,W])(enc_ftrs)\n",
        "\t\treturn enc_ftrs\n",
        "\n",
        "class UNet(nn.Module):\n",
        "\tdef __init__(self, enc_chs=(3,64,128,256), dec_chs=(256, 128, 64), num_class=1, retain_dim=False, out_sz=(28,28)):\n",
        "\t\tsuper().__init__()\n",
        "\t\tself.encoder = Encoder(enc_chs)\n",
        "\t\tself.decoder = Decoder(dec_chs)\n",
        "\t\tself.head = nn.Conv2d(dec_chs[-1], num_class, 1)\n",
        "\t\tself.retain_dim = retain_dim\n",
        "\n",
        "\tdef forward(self, x):\n",
        "\t\tenc_ftrs = self.encoder(x)\n",
        "\t\tout = self.decoder(enc_ftrs[::-1][0], enc_ftrs[::-1][1:])\n",
        "\t\tout = self.head(out)\n",
        "\n",
        "\t\tif self.retain_dim:\n",
        "\t\t\tout = F.interpolate(out, out_sz)\n",
        "\n",
        "\t\treturn out\n",
        "\t"
      ]
    },
    {
      "cell_type": "code",
      "source": [
        "eps=.3"
      ],
      "metadata": {
        "id": "_2grxZZwZY61"
      },
      "execution_count": null,
      "outputs": []
    },
    {
      "cell_type": "code",
      "source": [
        "def BYOL(x, xp):\n",
        "\t\treturn torch.sum(2-2*torch.nan_to_num(torch.div(torch.stack((x,xp)), eps+torch.norm(x.float(), p=float('inf')))*torch.norm(xp.float(), p=float('inf'))), dim=None)"
      ],
      "metadata": {
        "id": "ZTpOa-MiEYgQ"
      },
      "execution_count": null,
      "outputs": []
    },
    {
      "cell_type": "markdown",
      "metadata": {
        "id": "c73i34uMp6Eb"
      },
      "source": [
        "# Saliency MyLoss train"
      ]
    },
    {
      "cell_type": "code",
      "execution_count": null,
      "metadata": {
        "id": "OoQZ1tDw2yoN"
      },
      "outputs": [],
      "source": [
        "def pgd_whitebox(bi, model, X, mask, y, epsilon=args.epsilon, num_steps=args.num_steps, step_size=args.step_size, device=device):\n",
        "\n",
        "\tX_pgd = Variable(X.data, requires_grad=True)\n",
        " \n",
        "\tif args.random: \n",
        "\t\tnoise = torch.clamp(mask, -epsilon, epsilon).to(device) # XAI mask\n",
        "\t\tX_pgd = Variable(X_pgd.data + noise, requires_grad=True)\n",
        "\tst = time.time()\n",
        "\tlss = []\n",
        "\tfor _ in range(args.num_steps):\n",
        "\t\topt = optim.SGD([X_pgd], lr=1e-3)\n",
        "\t\topt.zero_grad()\n",
        "\n",
        "\t\twith torch.enable_grad():\n",
        "\t\t\tloss = F.cross_entropy(model(X_pgd), y)\n",
        "\t\t\tif not bi % 200: lss.append(loss.item())\n",
        "\t\tloss.backward()\n",
        "\n",
        "\t\teta = torch.clamp(mask, -step_size, step_size) * X_pgd.grad.data.sign() #grad for patch only # XAI mask based pixel wise step size\n",
        "\t\tX_pgd = Variable(X_pgd.data + eta, requires_grad=True)\n",
        "\t\teta = torch.clamp(X_pgd.data - X.data, -epsilon, epsilon)\n",
        "\t\tX_pgd = Variable(X.data + eta, requires_grad=True)\n",
        "\t\tX_pgd = Variable(torch.clamp(X_pgd, 0, 1.0), requires_grad=True)\n",
        "\tet = time.time()\n",
        "\t#print('pgd time: ', et-st, ' s')\n",
        "\tst = [i for i in range(20)]\n",
        "\tif not bi % 200: plt.plot(st, lss)\n",
        "\t#if not bi: plt.imsave('2.png', X_pgd.view(X_pgd.shape[0],28,28)[0,:,:].cpu(), cmap='gray')\n",
        "\treturn X_pgd"
      ]
    },
    {
      "cell_type": "code",
      "source": [
        "def pgd_whitebox0(bi, model, X, y, epsilon=args.epsilon, num_stpes=args.num_steps, step_size=args.step_size, device=device, cifar=False):\n",
        "\tout = model(X)\n",
        "\tX_pgd = Variable(X.data, requires_grad=True)\n",
        "\tif args.random:\n",
        "\t\trandom_noise = torch.FloatTensor(*X_pgd.shape).uniform_(-epsilon, epsilon).to(device)\n",
        "\t\tX_pgd = Variable(X_pgd.data + random_noise, requires_grad=True)\n",
        "  \n",
        "\tst = time.time()\n",
        "\tlss = []\n",
        "\tfor _ in range(args.num_steps):\n",
        "\t\topt = optim.SGD([X_pgd], lr=1e-3)\n",
        "\t\topt.zero_grad()\n",
        "\n",
        "\t\twith torch.enable_grad():\n",
        "\t\t\tloss = nn.CrossEntropyLoss()(model(X_pgd), y)\n",
        "\t\t\tlss.append(loss.item())\n",
        "\t\tloss.backward()\n",
        "\t\teta = step_size * X_pgd.grad.data.sign()\n",
        "\t\tX_pgd = Variable(X_pgd.data + eta, requires_grad=True)\n",
        "\t\teta = torch.clamp(X_pgd.data - X.data, -epsilon, epsilon)\n",
        "\t\tX_pgd = Variable(X.data + eta, requires_grad=True)\n",
        "\t\tX_pgd = Variable(torch.clamp(X_pgd, 0, 1.0), requires_grad=True)\n",
        "\n",
        "\tet = time.time()\n",
        "\t#print('pgd time: ', et-st, ' s')\n",
        "\t#st = [i for i in range(20)]\n",
        "\t#plt.plot(st, lss)\n",
        "\t#if not bi: plt.imsave('2.png', X_pgd.view(X_pgd.shape[0],28,28)[0,:,:].cpu(), cmap='gray')\n",
        "\n",
        "\treturn X_pgd"
      ],
      "metadata": {
        "id": "8Df4zL5ADcJD"
      },
      "execution_count": null,
      "outputs": []
    },
    {
      "cell_type": "code",
      "source": [
        "iters = len(train_loader)\n",
        "from datetime import datetime\n",
        "# Getting the current date and time\n",
        "dt = datetime.now()\n",
        "from torch.optim.lr_scheduler import CosineAnnealingWarmRestarts"
      ],
      "metadata": {
        "id": "eh9hh7mYdbNY"
      },
      "execution_count": null,
      "outputs": []
    },
    {
      "cell_type": "code",
      "source": [
        "def adv(model, idx, data, target, device=device):\n",
        "\n",
        "    model.eval().to(device)\n",
        "    fnn.eval().to(device)\n",
        "    correct = 0\n",
        "    \n",
        "    with torch.no_grad():\n",
        "      data = data.to(device)\n",
        "      target = target.to(device)\n",
        "      buf = model(data)\n",
        "      adv = pgd_whitebox(idx, fnn, data.view(data.size(0), 28*28), buf.view(buf.size(0), 28*28), target,\\\n",
        "                         device=device)\n",
        "      output = fnn(adv)\n",
        "      pred = output.max(1, keepdim=True)[1]\n",
        "      correct += pred.eq(target.view_as(pred)).sum().item()\n",
        "            \n",
        "    accuracy = correct / len(target)\n",
        "    return accuracy"
      ],
      "metadata": {
        "id": "BIthEpqG9wa3"
      },
      "execution_count": null,
      "outputs": []
    },
    {
      "cell_type": "code",
      "source": [
        "def adv0(model, idx, data, target, device=device):\n",
        "\n",
        "    model.eval().to(device)\n",
        "    fnn.eval().to(device)\n",
        "    correct = 0\n",
        "    \n",
        "    with torch.no_grad():\n",
        "      data = data.to(device)\n",
        "      target = target.to(device)\n",
        "      adv = pgd_whitebox0(idx, fnn, data.view(data.size(0), 28*28), target, device=device)\n",
        "      output = fnn(adv)\n",
        "      pred = output.max(1, keepdim=True)[1]\n",
        "      correct += pred.eq(target.view_as(pred)).sum().item()\n",
        "            \n",
        "    accuracy = correct / len(target)\n",
        "    return accuracy"
      ],
      "metadata": {
        "id": "0hWf1BV8AL5_"
      },
      "execution_count": null,
      "outputs": []
    },
    {
      "cell_type": "code",
      "source": [
        "def train_model(epoch=args.epochs):\n",
        "\tlbd=1e-2\n",
        "\t\n",
        "\tloss_t = []\n",
        "\tloss_v = []\n",
        "\t\n",
        "\tk = torch.Tensor([1,1,1])\n",
        "\tl1loss = nn.L1Loss()\n",
        "\t#l1loss = nn.CrossEntropyLoss()\n",
        "\t\t\t\t\t\t\t\t\t\n",
        "\tmodel = UNet().to(device)\n",
        "\t\n",
        "\tmodel_name = str(datetime.now()) + '.pt'\n",
        "\n",
        "\t#early_stopping = EarlyStopping(patience=15, verbose=True)\n",
        " \n",
        "\tfor epoch in range(1, epoch+1):\n",
        "\t\tmodel.train()\n",
        "\t\n",
        "\t\tstart_time = time.time()\n",
        "\t\toptimizer = optim.SGD(model.parameters() , lr=args.lr)\n",
        "\t\tscheduler = CosineAnnealingWarmRestarts(optimizer, int(iters/2))\n",
        "\t\n",
        "\t\t\n",
        "\t\tlb = lbl\n",
        "\t\t\n",
        "\t\ttotal_l_t = 0.0\n",
        "\t\ttotal_l_v = 0.0\n",
        "\n",
        "\t\tfor batch_idx, (data, target) in enumerate(train_loader):\n",
        "\t\t\tdata = data.to(device)\n",
        "\t\t\ttarget = target.to(device)   \n",
        "\n",
        "\t\t\toptimizer.zero_grad()\n",
        "\n",
        "\t\t\t# self loss itr 3\n",
        "\t\t\tmask = model(data)\n",
        "\t\t\tloss = k[0]*l1loss(pgd_whitebox(batch_idx, fnn, data.view(data.size(0), 28*28), mask.view(mask.size(0), 28*28), \\\n",
        "\t\t\t                              target, device=device), data.view(data.size(0), 28*28)).requires_grad + \\\n",
        "\t\t\t\t\t\t\t\t\t\t\t\t\t\t\t\t\t\tk[1]*l1loss(mask.view(mask.size(0), 28*28), lbl[batch_idx]) + k[2]*(\n",
        "\t\t\t\t\t\t\t\t\t\t\t\t\t\t\t\t\t\t\t\tadv(model, batch_idx, data, target)-adv0(model, batch_idx, data, target)\n",
        "\t\t\t\t\t\t\t\t\t\t\t\t\t\t\t\t\t\t)\n",
        "\n",
        "\t\t\tloss.retain_grad()\n",
        "\t\t\tloss /= args.batch_size\n",
        "\t\t\tloss.backward()\n",
        "\t \n",
        "\t\t\tloss += lbd*loss.grad\n",
        "\t\t\t\n",
        "\t\t\t\n",
        "\t\t\ttotal_l_t += loss.item()\n",
        "\t \n",
        "\t\t\t\n",
        "\t\t\toptimizer.step()\n",
        "\t\t\tscheduler.step(epoch + batch_idx / iters)\n",
        "\n",
        "\t\tloss_t.append(total_l_t/len(train_loader))\n",
        "\t\n",
        "\t\tfor batch_idx, (data, target) in enumerate(val_loader):\n",
        "\t\t\tmodel.eval()\n",
        "\t\t\tdata = data.to(device)\n",
        "\t\t\ttarget = target.to(device) \n",
        "\n",
        "\t\t\tmask = model(data)\n",
        "\t\t\tloss = k[0]*l1loss(pgd_whitebox(batch_idx, fnn, data.view(data.size(0), 28*28), mask.view(mask.size(0), 28*28), \\\n",
        "\t\t\t                              target, device=device), data.view(data.size(0), 28*28)).requires_grad + \\\n",
        "\t\t\t\t\t\t\t\t\t\t\t\t\t\t\t\t\t\tk[1]*l1loss(mask.view(mask.size(0), 28*28), lbl[batch_idx]) + k[2]*(\n",
        "\t\t\t\t\t\t\t\t\t\t\t\t\t\t\t\t\t\t\t\tadv(model, batch_idx, data, target)-adv0(model, batch_idx, data, target)\n",
        "\t\t\t\t\t\t\t\t\t\t\t\t\t\t\t\t\t\t)\n",
        "\t\t\ttotal_l_v += loss.item()\n",
        "\t \n",
        "\t\tloss_v.append(total_l_v/len(val_loader))\n",
        "\t \n",
        "\t\t# early_stopping(loss_v[0], model)\n",
        "\t\n",
        "\t\t# if early_stopping.early_stop:\n",
        "\t\t# \tprint(\"Early stopping\")\n",
        "\t\t# \tbreak\n",
        "\t\t\n",
        "\t\tprint('Epoch ' + str(epoch) + ': ' + str(int(time.time() - start_time)) + 's', \\\n",
        "\t\t      'val loss', float(loss_v[-1]))\n",
        "\t\n",
        "\ttorch.save(model.state_dict(), \"/content/drive/MyDrive/FYP/\"+'u'+str(loss_v[-1])+'.pt')\n",
        "\n",
        "\treturn model"
      ],
      "metadata": {
        "id": "FRZ9uxkmFJP-"
      },
      "execution_count": null,
      "outputs": []
    },
    {
      "cell_type": "code",
      "source": [
        "torch.autograd.set_detect_anomaly(True)"
      ],
      "metadata": {
        "colab": {
          "base_uri": "https://localhost:8080/"
        },
        "id": "EH_BBAXOq9o-",
        "outputId": "4be78737-ab8e-494f-ae7c-a2c504b87dca"
      },
      "execution_count": null,
      "outputs": [
        {
          "output_type": "execute_result",
          "data": {
            "text/plain": [
              "<torch.autograd.anomaly_mode.set_detect_anomaly at 0x7f0749d42f40>"
            ]
          },
          "metadata": {},
          "execution_count": 61
        }
      ]
    },
    {
      "cell_type": "markdown",
      "source": [
        "# Runs"
      ],
      "metadata": {
        "id": "c22Haa7fXlat"
      }
    },
    {
      "cell_type": "code",
      "source": [
        "#@title 5 epoch already good\n",
        "umodel = train_model(5)"
      ],
      "metadata": {
        "colab": {
          "base_uri": "https://localhost:8080/",
          "height": 352
        },
        "id": "BXkcviB7EU2p",
        "outputId": "0fe454aa-ea6e-445c-c5a5-9c9e1ab6bee5",
        "cellView": "form"
      },
      "execution_count": null,
      "outputs": [
        {
          "output_type": "stream",
          "name": "stdout",
          "text": [
            "Epoch 1: 446s val loss 1.1778593572533262\n",
            "Epoch 2: 436s val loss 1.1539802672398765\n",
            "Epoch 3: 452s val loss 1.1390762534633996\n",
            "Epoch 4: 436s val loss 1.128444440222264\n",
            "Epoch 5: 433s val loss 1.1205452645162384\n"
          ]
        },
        {
          "output_type": "display_data",
          "data": {
            "text/plain": [
              "<Figure size 432x288 with 1 Axes>"
            ],
            "image/png": "[encoded data removed]"
          },
          "metadata": {
            "needs_background": "light"
          }
        }
      ]
    },
    {
      "cell_type": "code",
      "source": [
        "umodel = train_model(5)"
      ],
      "metadata": {
        "colab": {
          "base_uri": "https://localhost:8080/"
        },
        "id": "5IvZJCn2wpxF",
        "outputId": "568bf0ac-ef70-4a8e-9361-56e5eaa81abc"
      },
      "execution_count": null,
      "outputs": [
        {
          "output_type": "stream",
          "name": "stdout",
          "text": [
            "Epoch 1: 418s val loss 1.192833474477728\n",
            "Epoch 2: 417s val loss 1.1527210271893917\n",
            "Epoch 3: 409s val loss 1.1276541233159196\n",
            "Epoch 4: 405s val loss 1.1114904032266644\n",
            "Epoch 5: 406s val loss 1.1029349589012938\n"
          ]
        },
        {
          "output_type": "display_data",
          "data": {
            "text/plain": [
              "<Figure size 432x288 with 1 Axes>"
            ],
            "image/png": "[encoded data removed]"
          },
          "metadata": {
            "needs_background": "light"
          }
        }
      ]
    },
    {
      "cell_type": "code",
      "source": [
        "umodel = train_model(50)"
      ],
      "metadata": {
        "id": "C4fv5raYbn4F",
        "colab": {
          "base_uri": "https://localhost:8080/",
          "height": 1000
        },
        "outputId": "787505f4-e262-414f-cec8-0a90b2e622d2"
      },
      "execution_count": null,
      "outputs": [
        {
          "output_type": "stream",
          "name": "stdout",
          "text": [
            "Epoch 1: 426s val loss 1.2075706731668578\n",
            "Epoch 2: 434s val loss 1.164285443234178\n",
            "Epoch 3: 435s val loss 1.1376415218888758\n",
            "Epoch 4: 437s val loss 1.1194555422971921\n",
            "Epoch 5: 433s val loss 1.1072013017570974\n",
            "Epoch 6: 431s val loss 1.1002269751237788\n",
            "Epoch 7: 429s val loss 1.0939016168167366\n",
            "Epoch 8: 427s val loss 1.09087771816802\n",
            "Epoch 9: 427s val loss 1.0874716414491699\n",
            "Epoch 10: 428s val loss 1.0848626516738975\n",
            "Epoch 11: 428s val loss 1.084208944022314\n",
            "Epoch 12: 424s val loss 1.0833073369209585\n",
            "Epoch 13: 428s val loss 1.083870274374459\n",
            "Epoch 14: 429s val loss 1.0844474649462836\n",
            "Epoch 15: 426s val loss 1.0844793534237986\n",
            "Epoch 16: 426s val loss 1.0848609196450258\n",
            "Epoch 17: 426s val loss 1.085631653369253\n",
            "Epoch 18: 426s val loss 1.0859762947506806\n",
            "Epoch 19: 427s val loss 1.087054383183328\n",
            "Epoch 20: 425s val loss 1.0880657668981037\n",
            "Epoch 21: 426s val loss 1.0888113632169563\n",
            "Epoch 22: 427s val loss 1.08970993148121\n",
            "Epoch 23: 427s val loss 1.0904903816419123\n",
            "Epoch 24: 425s val loss 1.0907458871331288\n",
            "Epoch 25: 425s val loss 1.0925322994256712\n",
            "Epoch 26: 425s val loss 1.0921772037464026\n",
            "Epoch 27: 424s val loss 1.0930830820459068\n",
            "Epoch 28: 424s val loss 1.094554831315979\n",
            "Epoch 29: 426s val loss 1.0951171339223138\n",
            "Epoch 30: 426s val loss 1.0955358446980097\n",
            "Epoch 31: 431s val loss 1.0959207621591034\n",
            "Epoch 32: 432s val loss 1.0966738449594569\n",
            "Epoch 33: 430s val loss 1.0981447418864303\n",
            "Epoch 34: 426s val loss 1.0980296094773672\n",
            "Epoch 35: 426s val loss 1.0989024271176735\n",
            "Epoch 36: 426s val loss 1.0992810291541975\n",
            "Epoch 37: 425s val loss 1.0995608871112392\n",
            "Epoch 38: 427s val loss 1.0989912929148513\n",
            "Epoch 39: 427s val loss 1.1004636029482116\n",
            "Epoch 40: 425s val loss 1.0996281412906952\n",
            "Epoch 41: 425s val loss 1.1005101631148988\n",
            "Epoch 42: 429s val loss 1.1009103086022904\n",
            "Epoch 43: 427s val loss 1.100993251435211\n",
            "Epoch 44: 428s val loss 1.1013479067331824\n",
            "Epoch 45: 428s val loss 1.1011780110201697\n",
            "Epoch 46: 432s val loss 1.1032437565142885\n",
            "Epoch 47: 434s val loss 1.102212517931413\n",
            "Epoch 48: 436s val loss 1.1031798979830743\n",
            "Epoch 49: 435s val loss 1.1032772876829147\n",
            "Epoch 50: 432s val loss 1.1030278996743863\n"
          ]
        },
        {
          "output_type": "display_data",
          "data": {
            "text/plain": [
              "<Figure size 432x288 with 1 Axes>"
            ],
            "image/png": "[encoded data removed]"
          },
          "metadata": {
            "needs_background": "light"
          }
        }
      ]
    },
    {
      "cell_type": "code",
      "source": [
        "umodel = train_model(50)"
      ],
      "metadata": {
        "colab": {
          "base_uri": "https://localhost:8080/",
          "height": 1000
        },
        "id": "Je3phbo3QVMO",
        "outputId": "0abdb3b9-e267-418b-ddf4-d7fc18a25e0c"
      },
      "execution_count": null,
      "outputs": [
        {
          "output_type": "stream",
          "name": "stdout",
          "text": [
            "Epoch 1: 437s val loss 1.1536750294216338\n",
            "Epoch 2: 441s val loss 1.1132683203280243\n",
            "Epoch 3: 450s val loss 1.0959419859285329\n",
            "Epoch 4: 445s val loss 1.0851952252627475\n",
            "Epoch 5: 444s val loss 1.0816575794074839\n",
            "Epoch 6: 444s val loss 1.0777363509284437\n",
            "Epoch 7: 444s val loss 1.076565994401676\n",
            "Epoch 8: 442s val loss 1.0752149662910782\n",
            "Epoch 9: 447s val loss 1.0747385558656473\n",
            "Epoch 10: 445s val loss 1.0752419870736165\n",
            "Epoch 11: 444s val loss 1.0756764499274085\n",
            "Epoch 12: 445s val loss 1.0758572348093478\n",
            "Epoch 13: 444s val loss 1.0758692565758732\n",
            "Epoch 14: 442s val loss 1.0761781591080697\n",
            "Epoch 15: 443s val loss 1.0764254108253624\n",
            "Epoch 16: 441s val loss 1.0771118276225122\n",
            "Epoch 17: 467s val loss 1.0778973260865454\n",
            "Epoch 18: 461s val loss 1.0796713083249476\n",
            "Epoch 19: 450s val loss 1.0803549078361536\n",
            "Epoch 20: 443s val loss 1.0817201749095016\n",
            "Epoch 21: 437s val loss 1.0824599455906816\n",
            "Epoch 22: 437s val loss 1.083958525568371\n",
            "Epoch 23: 437s val loss 1.084271591171841\n",
            "Epoch 24: 435s val loss 1.0848827059065311\n",
            "Epoch 25: 438s val loss 1.0852500519184647\n",
            "Epoch 26: 436s val loss 1.0872339508616633\n",
            "Epoch 27: 437s val loss 1.0875723109563826\n",
            "Epoch 28: 436s val loss 1.0895342446497247\n",
            "Epoch 29: 437s val loss 1.0892619728805375\n",
            "Epoch 30: 437s val loss 1.08977508574675\n",
            "Epoch 31: 437s val loss 1.0900536374941288\n",
            "Epoch 32: 435s val loss 1.092054890253955\n",
            "Epoch 33: 440s val loss 1.091846330318911\n",
            "Epoch 34: 439s val loss 1.0925924657845472\n",
            "Epoch 35: 438s val loss 1.0925776760045707\n",
            "Epoch 36: 438s val loss 1.092443001466684\n",
            "Epoch 37: 439s val loss 1.093605535998736\n",
            "Epoch 38: 439s val loss 1.0941514747878673\n",
            "Epoch 39: 440s val loss 1.0937671354166814\n",
            "Epoch 40: 441s val loss 1.0956206633916359\n",
            "Epoch 41: 438s val loss 1.093967434631382\n",
            "Epoch 42: 443s val loss 1.09565044287831\n",
            "Epoch 43: 439s val loss 1.095416776493032\n",
            "Epoch 44: 442s val loss 1.0960702553188153\n",
            "Epoch 45: 443s val loss 1.0965247671552523\n",
            "Epoch 46: 442s val loss 1.0967074623334465\n",
            "Epoch 47: 443s val loss 1.0971103479247069\n",
            "Epoch 48: 441s val loss 1.0966503014467082\n",
            "Epoch 49: 442s val loss 1.0972842132742207\n",
            "Epoch 50: 440s val loss 1.0973079915941528\n"
          ]
        },
        {
          "output_type": "display_data",
          "data": {
            "text/plain": [
              "<Figure size 432x288 with 1 Axes>"
            ],
            "image/png": "[encoded data removed]"
          },
          "metadata": {
            "needs_background": "light"
          }
        }
      ]
    },
    {
      "cell_type": "markdown",
      "source": [
        "# U mask"
      ],
      "metadata": {
        "id": "blO3JRs10iDA"
      }
    },
    {
      "cell_type": "code",
      "source": [
        "umodel.eval()\n",
        "for batch_idx, (data, target) in enumerate(test_loader):\n",
        "  if not batch_idx:  \n",
        "    data = data.to(device)\n",
        "    target = target.to(device)   \n",
        "    # self loss itr 2\n",
        "    mask = umodel(data)\n",
        "\n",
        "print(mask.shape)\n",
        "print(mask[0])"
      ],
      "metadata": {
        "colab": {
          "base_uri": "https://localhost:8080/"
        },
        "id": "o_St3uwMf6RQ",
        "outputId": "b098d6dc-dbf3-4c09-ad65-645f9e4371b4"
      },
      "execution_count": null,
      "outputs": [
        {
          "output_type": "stream",
          "name": "stdout",
          "text": [
            "torch.Size([128, 1, 28, 28])\n",
            "tensor([[[0.8035, 0.9354, 0.9420, 1.0207, 0.9570, 1.0177, 1.0244, 1.0188,\n",
            "          0.9749, 1.0581, 1.0096, 1.0112, 0.9968, 1.0432, 1.0128, 1.0916,\n",
            "          1.0124, 1.0312, 1.0075, 1.0388, 1.0543, 1.0056, 1.0137, 0.9863,\n",
            "          0.9588, 1.0099, 0.9595, 0.7913],\n",
            "         [0.8514, 0.9995, 0.9737, 0.9989, 0.9948, 0.9469, 0.9921, 0.9818,\n",
            "          1.0194, 0.9600, 1.0875, 0.9792, 1.0370, 0.9561, 0.9652, 1.0299,\n",
            "          1.0089, 0.9529, 0.9897, 0.9892, 1.0097, 0.9856, 0.9981, 1.0301,\n",
            "          0.9719, 1.0541, 0.9975, 1.0120],\n",
            "         [0.9626, 0.9907, 1.0054, 1.0296, 1.0013, 0.9696, 1.0221, 0.9643,\n",
            "          0.9655, 1.0230, 0.9013, 1.0017, 0.8433, 1.0391, 0.9278, 1.0742,\n",
            "          0.9584, 1.0215, 1.0110, 1.0945, 1.0871, 1.0929, 1.0777, 0.9890,\n",
            "          0.9510, 1.0747, 1.0014, 0.9781],\n",
            "         [0.9840, 1.0169, 1.0645, 1.1103, 1.0396, 1.0502, 1.1237, 0.9620,\n",
            "          0.9096, 0.8504, 0.9531, 0.8945, 0.9563, 0.9453, 1.0215, 0.9380,\n",
            "          1.0064, 0.9617, 1.0727, 0.9948, 1.1373, 1.0218, 1.0273, 0.9825,\n",
            "          1.0073, 0.9547, 0.9923, 0.9780],\n",
            "         [0.9257, 0.8984, 0.9082, 1.0829, 0.9554, 0.9870, 1.1091, 1.1626,\n",
            "          1.1630, 0.9782, 0.9779, 0.8242, 1.0101, 0.8721, 0.8702, 0.8405,\n",
            "          0.9880, 0.7974, 0.8513, 0.8625, 0.7580, 0.9981, 1.0387, 0.9414,\n",
            "          0.9937, 1.0741, 1.0755, 0.9974],\n",
            "         [0.9388, 0.9986, 0.8970, 1.0318, 0.9627, 1.0602, 1.0235, 0.8293,\n",
            "          0.9787, 1.0066, 0.9291, 1.0211, 0.8843, 1.0490, 0.9866, 0.9639,\n",
            "          0.8168, 1.0472, 0.9903, 0.9356, 0.7978, 0.9600, 0.8695, 1.0128,\n",
            "          0.9526, 1.0111, 0.9708, 1.0020],\n",
            "         [1.1010, 0.9290, 1.0119, 1.0767, 1.0291, 1.0035, 1.0795, 1.0495,\n",
            "          0.9720, 0.9011, 1.0062, 1.0014, 0.9206, 1.0441, 0.9352, 0.9789,\n",
            "          0.9824, 0.9883, 1.0526, 1.1705, 0.9672, 0.9391, 0.9675, 1.0483,\n",
            "          0.9689, 0.9521, 0.9406, 0.9858],\n",
            "         [0.9357, 0.9922, 0.8809, 1.0339, 1.1014, 0.9359, 0.9291, 0.9188,\n",
            "          0.9631, 1.0422, 0.8992, 1.1103, 0.8211, 0.7439, 0.6753, 0.7513,\n",
            "          0.7856, 0.7506, 0.7965, 0.7662, 0.9673, 1.2506, 1.1163, 1.0708,\n",
            "          1.0159, 0.9180, 1.0093, 0.9985],\n",
            "         [0.9424, 1.0422, 0.9091, 1.0681, 1.0297, 1.1148, 1.1215, 1.0449,\n",
            "          1.1622, 0.9064, 1.1158, 0.8017, 1.0593, 0.9855, 1.0648, 0.9163,\n",
            "          0.9286, 0.9011, 0.9647, 0.9573, 1.1631, 0.9797, 0.9464, 0.9977,\n",
            "          0.9508, 0.9626, 1.0126, 1.0410],\n",
            "         [0.9876, 1.0790, 1.0695, 1.0633, 1.0902, 1.1094, 1.1534, 1.0046,\n",
            "          1.1519, 0.9507, 1.2633, 0.8818, 1.1392, 0.8772, 0.9254, 0.8452,\n",
            "          1.0523, 1.1074, 1.0401, 0.9220, 1.0544, 0.7630, 0.9482, 0.9872,\n",
            "          0.8639, 0.9496, 0.9900, 0.9678],\n",
            "         [1.0097, 1.0758, 1.0257, 1.0426, 1.0901, 0.8152, 0.9792, 1.0286,\n",
            "          0.9795, 1.1546, 1.1438, 1.2353, 0.9033, 1.1163, 1.0579, 1.2097,\n",
            "          0.9965, 1.0055, 1.1301, 1.1875, 1.1566, 0.9798, 0.9227, 0.9432,\n",
            "          1.0292, 0.9171, 0.9512, 0.9813],\n",
            "         [1.0215, 1.0611, 1.0233, 1.0797, 0.9970, 1.0302, 0.9381, 0.9719,\n",
            "          0.9873, 1.0538, 0.9910, 0.9511, 0.9616, 0.8673, 1.1263, 1.0285,\n",
            "          0.8808, 0.8502, 1.0692, 1.1811, 0.9409, 0.9787, 1.0739, 0.9975,\n",
            "          1.0280, 0.9128, 0.9958, 0.9747],\n",
            "         [0.9954, 1.0123, 0.9503, 0.9715, 1.1028, 1.0059, 0.9198, 1.0398,\n",
            "          1.1275, 1.0144, 1.1202, 1.0855, 1.1007, 0.9761, 1.0774, 1.1629,\n",
            "          1.0750, 1.1818, 1.0385, 0.8488, 1.2164, 1.1799, 0.9270, 0.9992,\n",
            "          0.9484, 1.0266, 0.9594, 0.9586],\n",
            "         [1.0296, 1.0091, 1.0472, 0.9973, 1.1000, 0.9475, 1.0124, 0.9558,\n",
            "          1.0627, 0.9510, 0.9877, 1.0943, 0.9993, 0.8403, 1.0259, 0.9042,\n",
            "          1.0993, 1.0229, 0.8126, 0.9491, 1.0333, 1.1036, 1.1092, 1.1016,\n",
            "          0.9891, 0.9407, 1.0589, 0.9407],\n",
            "         [0.9659, 1.0756, 0.9783, 1.0256, 1.0176, 1.0612, 1.0092, 1.0854,\n",
            "          0.9689, 0.9346, 1.0407, 1.0735, 0.9313, 1.0186, 1.0513, 0.9765,\n",
            "          0.9792, 0.9826, 0.8745, 0.9251, 1.1303, 0.9459, 1.0642, 1.0926,\n",
            "          0.9885, 1.0031, 1.0025, 0.9541],\n",
            "         [0.9688, 1.1209, 1.0138, 1.0464, 0.9986, 1.0633, 0.9896, 1.0045,\n",
            "          1.0999, 1.0828, 1.0512, 1.0709, 0.9304, 1.0232, 0.9622, 0.9579,\n",
            "          0.9894, 1.0424, 1.0048, 0.9159, 1.0477, 1.0325, 0.8759, 1.0021,\n",
            "          1.0367, 0.9667, 1.0459, 1.0215],\n",
            "         [0.9686, 0.9830, 0.9584, 1.0253, 1.0045, 1.0125, 1.0386, 0.9066,\n",
            "          0.9790, 0.9637, 0.9893, 0.9889, 0.9960, 1.0222, 0.9300, 0.9883,\n",
            "          0.9225, 1.0095, 0.9977, 1.1653, 1.0560, 1.0492, 0.9633, 1.0386,\n",
            "          1.0363, 0.9542, 1.0604, 0.9173],\n",
            "         [0.9911, 1.0247, 0.9968, 0.9839, 0.9956, 0.9480, 0.9453, 1.0044,\n",
            "          0.9458, 0.9831, 0.9741, 0.9147, 1.0235, 0.9887, 0.8891, 1.0343,\n",
            "          0.9441, 1.0023, 0.9116, 1.1115, 1.1413, 1.0411, 0.9195, 1.0366,\n",
            "          0.9626, 0.9871, 1.0012, 0.9854],\n",
            "         [1.0286, 0.9968, 1.0688, 0.9446, 1.0362, 1.0211, 1.0067, 0.9871,\n",
            "          0.9757, 1.0590, 0.9416, 1.0043, 1.0117, 1.0262, 1.0305, 0.9276,\n",
            "          0.8580, 1.0070, 1.1957, 1.0648, 1.1247, 0.9998, 0.9239, 0.9565,\n",
            "          1.0016, 0.9831, 1.0639, 0.9649],\n",
            "         [0.9997, 1.0398, 0.9706, 1.0144, 1.0570, 1.0825, 0.9784, 1.0115,\n",
            "          0.9721, 0.9328, 1.0329, 1.0640, 0.8713, 0.8788, 0.9718, 1.0349,\n",
            "          0.9863, 0.9860, 1.0275, 1.0279, 0.9528, 0.9585, 1.0354, 1.0363,\n",
            "          0.9762, 1.0011, 1.0236, 0.9862],\n",
            "         [0.9785, 0.9726, 0.9720, 0.9901, 1.0191, 0.8942, 0.9586, 0.9327,\n",
            "          0.9105, 0.9064, 1.0340, 1.1012, 0.9107, 0.9891, 0.9831, 0.9864,\n",
            "          0.9678, 1.1712, 0.9823, 1.0553, 0.9796, 1.0324, 0.9709, 0.9508,\n",
            "          1.0249, 0.8823, 0.9992, 0.9823],\n",
            "         [1.0148, 1.0541, 1.0096, 1.0292, 1.0466, 1.0679, 0.9865, 0.9772,\n",
            "          0.9977, 0.9533, 1.0160, 0.9798, 0.8819, 0.9098, 1.0159, 0.9716,\n",
            "          0.9223, 0.9769, 1.0192, 1.0033, 1.0343, 1.0538, 1.0096, 0.9102,\n",
            "          1.0014, 0.9543, 0.9911, 1.0094],\n",
            "         [0.9693, 1.0236, 0.9948, 0.9478, 1.0081, 1.0111, 0.9579, 0.9481,\n",
            "          0.9862, 1.0243, 0.9812, 1.0529, 0.9878, 1.1701, 1.0823, 0.8843,\n",
            "          1.1188, 1.0485, 1.0031, 0.9961, 1.0602, 1.0504, 1.1220, 0.9224,\n",
            "          1.0119, 1.0176, 0.9975, 0.9886],\n",
            "         [1.0464, 1.0546, 1.0112, 1.0273, 0.9795, 1.0381, 0.9580, 0.9223,\n",
            "          0.9664, 0.9489, 0.9179, 0.8456, 0.9651, 1.1212, 1.0098, 1.0239,\n",
            "          1.0676, 0.9489, 0.8795, 0.9961, 1.0175, 1.0443, 0.9982, 0.9919,\n",
            "          1.0316, 1.0222, 0.9716, 1.0039],\n",
            "         [0.9758, 1.0015, 1.0061, 0.9514, 0.9694, 0.9347, 1.0021, 1.0671,\n",
            "          1.0004, 0.9623, 1.1218, 1.0361, 1.0080, 0.8308, 1.1689, 1.0786,\n",
            "          1.0563, 0.8705, 0.9381, 1.0521, 0.9830, 0.9083, 1.0473, 1.0176,\n",
            "          0.9704, 1.0696, 0.9380, 1.0018],\n",
            "         [1.0108, 1.0074, 1.0109, 1.0278, 0.9867, 1.0588, 0.9445, 0.9840,\n",
            "          0.9350, 1.1536, 0.9860, 1.0215, 0.9748, 0.8621, 1.0664, 1.0139,\n",
            "          1.0013, 0.9769, 1.0308, 1.0551, 0.9507, 0.9676, 1.0666, 1.0291,\n",
            "          1.0130, 1.0316, 0.9652, 1.0039],\n",
            "         [0.7649, 1.0101, 0.9532, 1.0117, 1.0476, 0.9490, 1.0208, 1.0583,\n",
            "          0.8921, 1.0425, 1.0371, 1.0415, 0.8916, 1.0718, 0.9622, 0.9501,\n",
            "          1.0670, 1.1209, 1.0338, 0.9287, 1.0416, 1.0035, 1.0041, 1.0377,\n",
            "          0.9613, 1.0182, 0.9423, 0.9801],\n",
            "         [0.7393, 0.9624, 0.8951, 0.9694, 0.9320, 1.0168, 0.9377, 1.1605,\n",
            "          1.0274, 1.1343, 0.8862, 1.1640, 0.5172, 0.7794, 0.7634, 0.8905,\n",
            "          0.9291, 1.0445, 0.9804, 1.0055, 0.9218, 1.0001, 1.0756, 1.0024,\n",
            "          1.0087, 0.9713, 0.7518, 0.7874]]], device='cuda:0',\n",
            "       grad_fn=<SelectBackward0>)\n"
          ]
        }
      ]
    },
    {
      "cell_type": "code",
      "source": [
        "plt.imshow(lbl[0][0,:].cpu().detach().numpy().reshape((28,28)), cmap='gray')"
      ],
      "metadata": {
        "colab": {
          "base_uri": "https://localhost:8080/",
          "height": 282
        },
        "id": "-mq6DmX19JRw",
        "outputId": "d633a420-f74a-4b17-b5fb-eb2a00a8371d"
      },
      "execution_count": null,
      "outputs": [
        {
          "output_type": "execute_result",
          "data": {
            "text/plain": [
              "<matplotlib.image.AxesImage at 0x7f63ee290bb0>"
            ]
          },
          "metadata": {},
          "execution_count": 88
        },
        {
          "output_type": "display_data",
          "data": {
            "text/plain": [
              "<Figure size 432x288 with 1 Axes>"
            ],
            "image/png": "[encoded data removed]"
          },
          "metadata": {
            "needs_background": "light"
          }
        }
      ]
    },
    {
      "cell_type": "code",
      "source": [
        "plt.imshow(mask[0][0,:].cpu().detach().numpy().reshape((28,28)), cmap='gray')"
      ],
      "metadata": {
        "colab": {
          "base_uri": "https://localhost:8080/",
          "height": 282
        },
        "id": "I_GuxHiribl5",
        "outputId": "098d3e4b-0cf5-4d0a-cba2-15b3de20871b"
      },
      "execution_count": null,
      "outputs": [
        {
          "output_type": "execute_result",
          "data": {
            "text/plain": [
              "<matplotlib.image.AxesImage at 0x7f63cd88ddf0>"
            ]
          },
          "metadata": {},
          "execution_count": 93
        },
        {
          "output_type": "display_data",
          "data": {
            "text/plain": [
              "<Figure size 432x288 with 1 Axes>"
            ],
            "image/png": "[encoded data removed]"
          },
          "metadata": {
            "needs_background": "light"
          }
        }
      ]
    },
    {
      "cell_type": "markdown",
      "source": [
        "# New Section"
      ],
      "metadata": {
        "id": "kQOiIGQ9nej8"
      }
    },
    {
      "cell_type": "code",
      "source": [
        "umodel.eval()\n",
        "for batch_idx, (data, target) in enumerate(test_loader):\n",
        "  if not batch_idx:  \n",
        "    data = data.to(device)\n",
        "    target = target.to(device)   \n",
        "    # self loss itr 2\n",
        "    mask = umodel(data)\n",
        "\n",
        "print(mask.shape)\n",
        "print(mask[0])"
      ],
      "metadata": {
        "colab": {
          "base_uri": "https://localhost:8080/"
        },
        "outputId": "f338b929-facc-4558-9b7d-cb3697230f59",
        "id": "IDBkHYLs8sgF"
      },
      "execution_count": null,
      "outputs": [
        {
          "output_type": "stream",
          "name": "stdout",
          "text": [
            "torch.Size([128, 1, 28, 28])\n",
            "tensor([[[0.7261, 0.9148, 0.9606, 0.9233, 1.0009, 0.9396, 0.9674, 0.8709,\n",
            "          1.0133, 0.9395, 0.9861, 0.9081, 1.0131, 0.9464, 0.9826, 0.9163,\n",
            "          1.0072, 0.9360, 0.9837, 0.9122, 1.0086, 0.9734, 0.9694, 0.9454,\n",
            "          0.9946, 0.9211, 0.7702, 0.3650],\n",
            "         [0.9258, 0.9666, 1.0222, 0.9778, 1.0292, 1.0296, 1.0059, 0.9794,\n",
            "          0.9960, 1.0259, 1.0179, 0.9838, 1.0183, 1.0130, 1.0211, 0.9771,\n",
            "          1.0116, 1.0192, 1.0224, 0.9698, 0.9949, 1.0207, 1.0111, 0.9950,\n",
            "          0.9957, 0.9464, 0.9046, 0.4962],\n",
            "         [0.8499, 0.9739, 1.0132, 0.9640, 0.9901, 0.9991, 0.9882, 1.0062,\n",
            "          1.0222, 1.0143, 0.9992, 0.9811, 1.0094, 1.0105, 1.0129, 0.9914,\n",
            "          1.0136, 1.0209, 1.0024, 1.0039, 1.0222, 1.0270, 0.9865, 1.0004,\n",
            "          1.0105, 1.0355, 1.0062, 0.6516],\n",
            "         [0.9389, 0.9706, 0.9827, 1.0148, 1.0040, 0.9864, 1.0153, 0.9730,\n",
            "          0.9875, 1.0253, 1.0277, 0.9889, 0.9858, 1.0231, 1.0286, 0.9797,\n",
            "          0.9715, 1.0217, 1.0381, 0.9873, 0.9929, 1.0031, 0.9928, 1.0200,\n",
            "          1.0110, 1.0095, 1.0241, 0.7375],\n",
            "         [0.8639, 1.0431, 0.9969, 1.0123, 0.9807, 1.0128, 0.9846, 1.0067,\n",
            "          0.9972, 1.0350, 0.9862, 1.0001, 0.9969, 0.9944, 0.9659, 0.9757,\n",
            "          0.9707, 0.9715, 0.9427, 0.9928, 0.9787, 0.9803, 0.9527, 0.9766,\n",
            "          0.9439, 0.9963, 1.0063, 0.7452],\n",
            "         [1.0074, 1.0377, 0.9513, 0.9828, 0.9685, 1.0187, 0.9129, 0.9999,\n",
            "          0.9630, 0.9955, 0.9741, 0.9628, 1.0094, 0.9844, 0.9848, 0.9935,\n",
            "          1.0343, 1.0287, 1.0127, 0.9841, 1.0171, 1.0135, 0.9973, 1.0175,\n",
            "          0.9715, 1.0019, 1.0018, 0.7110],\n",
            "         [0.8831, 0.9874, 1.0326, 0.9844, 1.0405, 1.0396, 1.0428, 1.0637,\n",
            "          1.0544, 1.0555, 0.9908, 1.0189, 0.9736, 1.0386, 1.0130, 1.0280,\n",
            "          1.0166, 1.0506, 1.0180, 1.0405, 0.9962, 1.0328, 1.0407, 0.9955,\n",
            "          1.0127, 1.0196, 1.0012, 0.6904],\n",
            "         [0.9705, 0.9777, 1.0024, 0.9880, 1.0413, 1.0188, 1.0347, 0.9883,\n",
            "          1.0580, 1.0856, 1.0552, 1.0405, 1.0354, 1.0027, 1.0326, 0.9682,\n",
            "          1.0571, 0.9801, 1.0783, 0.9693, 1.0369, 0.9211, 0.9865, 0.9794,\n",
            "          0.9601, 0.9567, 1.0151, 0.7492],\n",
            "         [0.8750, 1.0214, 1.0191, 0.9497, 0.9996, 0.8825, 0.9198, 0.8547,\n",
            "          0.9497, 0.9870, 1.0111, 1.0637, 1.0993, 1.0290, 1.0871, 1.0482,\n",
            "          1.0180, 1.0365, 1.0333, 1.1109, 1.0118, 1.0133, 1.0280, 1.0224,\n",
            "          0.9643, 0.9908, 1.0115, 0.7887],\n",
            "         [1.0340, 1.0708, 1.0058, 0.9828, 1.0132, 0.9879, 0.9165, 0.9222,\n",
            "          0.8458, 0.9125, 0.8797, 0.8657, 0.8617, 0.9296, 0.8977, 0.8973,\n",
            "          0.8341, 1.0465, 0.9507, 1.0471, 1.0103, 1.1005, 1.0738, 1.0306,\n",
            "          0.9349, 0.9928, 0.9959, 0.6898],\n",
            "         [0.8954, 1.0016, 1.0152, 1.0425, 0.9881, 0.9594, 1.0121, 1.0502,\n",
            "          0.9411, 0.9649, 0.9806, 0.9549, 1.0017, 0.9239, 0.9674, 0.9396,\n",
            "          0.9686, 1.0008, 0.9427, 0.9957, 1.0228, 1.0057, 1.0375, 1.0025,\n",
            "          0.9925, 1.0113, 1.0150, 0.7074],\n",
            "         [0.9615, 0.9869, 0.9938, 1.0253, 1.0537, 1.0577, 1.0135, 1.0446,\n",
            "          0.9760, 1.0065, 0.9685, 0.9889, 0.9706, 0.9945, 1.0030, 0.9903,\n",
            "          0.9836, 1.0629, 0.9913, 0.8804, 0.9422, 0.9971, 0.9885, 1.0404,\n",
            "          0.9910, 0.9977, 1.0032, 0.7811],\n",
            "         [0.8801, 1.0257, 0.9916, 1.0061, 0.9938, 1.0011, 1.0106, 1.0606,\n",
            "          1.0477, 0.9703, 1.0350, 0.9785, 1.0426, 0.9486, 1.0041, 1.0424,\n",
            "          1.0806, 0.9975, 0.9923, 0.9991, 1.0653, 0.9885, 0.9774, 0.9914,\n",
            "          1.0163, 1.0490, 0.9957, 0.7773],\n",
            "         [1.0147, 1.0647, 1.0037, 0.9878, 0.9795, 1.0338, 0.9988, 1.0128,\n",
            "          0.9624, 0.9976, 1.0172, 0.9902, 0.9967, 0.9806, 0.9669, 1.0281,\n",
            "          1.0326, 0.9785, 0.9344, 0.9129, 1.0321, 1.0034, 0.9721, 0.9984,\n",
            "          0.9448, 1.0133, 0.9976, 0.6942],\n",
            "         [0.8919, 0.9953, 0.9909, 1.0111, 0.9751, 1.0044, 0.9773, 1.0417,\n",
            "          0.9778, 1.0099, 0.9965, 1.0175, 0.9959, 0.9988, 0.9782, 1.0896,\n",
            "          0.9776, 0.9037, 1.0126, 1.0785, 1.0293, 0.9441, 0.9664, 0.9607,\n",
            "          1.0292, 1.0552, 0.9972, 0.7054],\n",
            "         [0.9687, 0.9726, 1.0050, 0.9992, 1.0210, 1.0266, 0.9813, 0.9823,\n",
            "          0.9833, 1.0350, 0.9782, 0.9861, 0.9836, 1.0063, 0.9964, 1.0543,\n",
            "          1.0841, 0.9010, 0.9889, 1.0555, 0.9877, 0.9390, 0.9562, 1.0109,\n",
            "          1.0059, 1.0033, 1.0336, 0.7829],\n",
            "         [0.8679, 1.0173, 1.0082, 1.0033, 0.9798, 0.9943, 1.0104, 1.0151,\n",
            "          1.0130, 0.9897, 1.0068, 1.0042, 0.9988, 0.9963, 1.0069, 1.0702,\n",
            "          0.9859, 0.9462, 1.0127, 1.0693, 0.9825, 0.9071, 0.9969, 1.0024,\n",
            "          0.9928, 1.0119, 0.9888, 0.7641],\n",
            "         [1.0120, 1.0693, 1.0004, 0.9931, 1.0030, 1.0282, 0.9807, 1.0228,\n",
            "          0.9915, 0.9816, 0.9983, 0.9869, 0.9844, 1.0703, 1.0826, 0.9495,\n",
            "          0.9750, 0.9882, 1.0461, 0.9604, 0.9359, 0.9878, 0.9986, 1.0215,\n",
            "          0.9681, 1.0107, 1.0072, 0.7010],\n",
            "         [0.8938, 0.9949, 1.0045, 1.0122, 0.9733, 0.9817, 0.9984, 1.0220,\n",
            "          1.0036, 0.9818, 1.0026, 1.0222, 1.0056, 1.0851, 1.0129, 0.9702,\n",
            "          1.0306, 1.0538, 0.9930, 0.9716, 0.9840, 0.9959, 1.0082, 1.0166,\n",
            "          1.0055, 1.0179, 1.0129, 0.7203],\n",
            "         [0.9637, 0.9789, 1.0061, 1.0106, 1.0245, 1.0329, 1.0089, 1.0001,\n",
            "          0.9868, 1.0092, 1.0154, 1.0162, 1.0511, 1.0619, 1.0341, 0.9268,\n",
            "          0.9920, 1.0687, 0.9860, 0.9497, 0.9893, 1.0117, 0.9859, 1.0390,\n",
            "          0.9955, 1.0265, 1.0364, 0.7680],\n",
            "         [0.8702, 1.0161, 1.0159, 1.0124, 0.9824, 1.0199, 1.0242, 0.9937,\n",
            "          1.0059, 1.0111, 0.9669, 1.0740, 0.9739, 0.9887, 0.9733, 1.0048,\n",
            "          1.0460, 1.0105, 0.9632, 0.9730, 0.9970, 0.9781, 0.9917, 1.0009,\n",
            "          0.9861, 1.0217, 0.9958, 0.7633],\n",
            "         [1.0104, 1.0477, 0.9940, 0.9843, 0.9718, 1.0351, 0.9912, 1.0162,\n",
            "          0.9873, 0.9994, 0.9962, 1.0879, 1.0314, 0.9369, 0.9261, 1.0301,\n",
            "          1.0723, 0.9917, 0.9513, 0.9565, 1.0172, 1.0065, 0.9992, 1.0079,\n",
            "          1.0106, 0.9926, 1.0221, 0.6729],\n",
            "         [0.8966, 0.9705, 1.0101, 0.9707, 0.9752, 0.9933, 1.0065, 0.9848,\n",
            "          0.9857, 1.0094, 1.0300, 1.0710, 1.0344, 0.9830, 1.0231, 1.0747,\n",
            "          0.9852, 0.9417, 0.9995, 0.9773, 1.0216, 1.0161, 0.9671, 0.9663,\n",
            "          1.0004, 1.0231, 0.9973, 0.6883],\n",
            "         [1.0072, 0.9683, 1.0485, 1.0313, 1.0574, 1.0531, 1.0387, 0.9894,\n",
            "          1.0035, 1.1113, 1.0824, 1.0820, 1.0044, 1.0716, 0.9903, 1.0973,\n",
            "          0.9865, 0.9799, 1.0246, 1.0401, 1.0226, 1.0262, 1.0219, 1.0396,\n",
            "          1.0521, 1.0133, 1.0857, 0.7300],\n",
            "         [0.9317, 0.9994, 1.0418, 0.9977, 1.0364, 1.0391, 1.0388, 1.0488,\n",
            "          1.0096, 1.0489, 0.9895, 1.0113, 1.0173, 1.1086, 1.0674, 1.0435,\n",
            "          1.0207, 0.9904, 1.0040, 1.0557, 1.0377, 0.9967, 1.0073, 1.0335,\n",
            "          1.0246, 1.0631, 0.9791, 0.7061],\n",
            "         [0.9545, 1.0318, 1.0338, 1.0042, 1.0307, 1.0303, 1.0120, 1.0213,\n",
            "          0.9983, 1.0750, 1.0088, 0.9524, 0.8773, 1.0022, 0.9881, 1.0047,\n",
            "          1.0034, 1.0107, 1.0055, 1.0206, 1.0213, 1.0328, 1.0124, 1.0228,\n",
            "          1.0365, 0.9698, 1.0505, 0.7091],\n",
            "         [0.7284, 0.9239, 0.8156, 0.9047, 0.8248, 0.8943, 0.8947, 0.9407,\n",
            "          0.8340, 0.9079, 0.8181, 0.8315, 0.8383, 0.9375, 0.8905, 0.8922,\n",
            "          0.8830, 0.9273, 0.9020, 0.9263, 0.8785, 0.9249, 0.8912, 0.9150,\n",
            "          0.8874, 0.8581, 0.7379, 0.5311],\n",
            "         [0.2868, 0.5171, 0.5899, 0.6018, 0.6086, 0.6689, 0.6460, 0.6311,\n",
            "          0.6514, 0.6836, 0.6364, 0.5793, 0.5427, 0.5721, 0.5244, 0.5696,\n",
            "          0.5951, 0.6503, 0.6094, 0.6095, 0.5859, 0.6676, 0.6202, 0.6349,\n",
            "          0.5534, 0.7069, 0.5263, 0.4127]]], device='cuda:0',\n",
            "       grad_fn=<SelectBackward0>)\n"
          ]
        }
      ]
    },
    {
      "cell_type": "code",
      "source": [
        "plt.imshow(lbl[0][0,:].cpu().detach().numpy().reshape((28,28)), cmap='gray')"
      ],
      "metadata": {
        "colab": {
          "base_uri": "https://localhost:8080/"
        },
        "outputId": "33a4edc3-7b12-4bb4-b153-af6c23e29d0c",
        "id": "zN5qxBtz8sgF"
      },
      "execution_count": null,
      "outputs": [
        {
          "output_type": "execute_result",
          "data": {
            "text/plain": [
              "<matplotlib.image.AxesImage at 0x7fc446ac7af0>"
            ]
          },
          "metadata": {},
          "execution_count": 64
        },
        {
          "output_type": "display_data",
          "data": {
            "text/plain": [
              "<Figure size 432x288 with 1 Axes>"
            ],
            "image/png": "[encoded data removed]"
          },
          "metadata": {
            "needs_background": "light"
          }
        }
      ]
    },
    {
      "cell_type": "code",
      "source": [
        "plt.imshow(buf[1][0,:].cpu().detach().numpy().reshape((28,28)), cmap='gray')"
      ],
      "metadata": {
        "colab": {
          "base_uri": "https://localhost:8080/",
          "height": 283
        },
        "outputId": "c0867914-41e0-4ac6-f81b-81bb51ba745c",
        "id": "-o_VCFQlnTnJ"
      },
      "execution_count": null,
      "outputs": [
        {
          "output_type": "execute_result",
          "data": {
            "text/plain": [
              "<matplotlib.image.AxesImage at 0x7f0569f06640>"
            ]
          },
          "metadata": {},
          "execution_count": 93
        },
        {
          "output_type": "display_data",
          "data": {
            "text/plain": [
              "<Figure size 432x288 with 1 Axes>"
            ],
            "image/png": "[encoded data removed]"
          },
          "metadata": {
            "needs_background": "light"
          }
        }
      ]
    },
    {
      "cell_type": "markdown",
      "source": [
        "# New Section"
      ],
      "metadata": {
        "id": "0NXyxCjunW1H"
      }
    },
    {
      "cell_type": "code",
      "source": [
        "umodel.eval()\n",
        "for batch_idx, (data, target) in enumerate(test_loader):\n",
        "  if not batch_idx:  \n",
        "    data = data.to(device)\n",
        "    target = target.to(device)   \n",
        "    # self loss itr 2\n",
        "    mask = umodel(data)\n",
        "\n",
        "print(mask.shape)\n",
        "print(mask[0])"
      ],
      "metadata": {
        "id": "5GdkiAObb-m4",
        "colab": {
          "base_uri": "https://localhost:8080/"
        },
        "outputId": "4d52af7b-b3e6-493e-8e1b-35793e18035d"
      },
      "execution_count": null,
      "outputs": [
        {
          "output_type": "stream",
          "name": "stdout",
          "text": [
            "torch.Size([128, 1, 28, 28])\n",
            "tensor([[[0.6433, 0.8228, 0.9558, 1.0097, 0.9417, 0.9858, 1.0117, 0.9842,\n",
            "          1.0367, 1.0029, 0.9953, 1.0346, 0.9827, 1.0182, 1.0334, 1.0707,\n",
            "          0.9888, 1.0342, 0.9677, 0.9992, 0.9357, 1.0385, 1.0042, 0.9735,\n",
            "          0.9369, 0.9696, 0.9003, 0.7632],\n",
            "         [0.8306, 0.9049, 0.9414, 1.0361, 1.0395, 0.9840, 1.0238, 1.0347,\n",
            "          0.9815, 1.0419, 1.0548, 1.0524, 0.9900, 0.9695, 1.0920, 1.0226,\n",
            "          1.0253, 0.9875, 1.0844, 1.0253, 0.9735, 1.0322, 1.0527, 1.0239,\n",
            "          0.9873, 1.0174, 1.0702, 0.9340],\n",
            "         [0.9652, 1.0148, 1.0292, 0.9964, 1.0257, 1.0647, 1.0074, 0.9586,\n",
            "          1.0552, 0.9911, 0.9873, 0.9985, 0.9974, 1.0043, 0.9724, 0.9993,\n",
            "          1.0601, 1.0160, 0.9754, 1.0221, 1.0040, 1.0659, 0.9575, 1.0015,\n",
            "          1.0196, 1.0504, 1.0171, 1.0409],\n",
            "         [0.9586, 1.0366, 1.0669, 1.0717, 1.0433, 0.9755, 1.0255, 0.9856,\n",
            "          0.9523, 0.9781, 0.9981, 0.9318, 1.0098, 0.9342, 1.0376, 0.9399,\n",
            "          1.0199, 0.9144, 1.0201, 0.9849, 1.0086, 0.9604, 0.9774, 0.9935,\n",
            "          1.0192, 0.9929, 0.9960, 0.9416],\n",
            "         [0.9958, 1.0056, 1.0269, 0.9413, 0.9374, 0.8805, 1.0078, 0.9825,\n",
            "          1.0413, 0.9304, 1.0786, 0.9938, 1.0846, 0.9690, 0.9871, 1.0338,\n",
            "          1.0554, 0.9929, 0.9713, 1.0822, 0.9832, 1.0219, 0.9449, 1.0383,\n",
            "          0.9159, 1.0000, 0.9863, 1.0163],\n",
            "         [0.9390, 1.0053, 1.0870, 0.9998, 1.0991, 1.0677, 1.0252, 0.8975,\n",
            "          0.9719, 0.9920, 1.0298, 0.9359, 0.9526, 0.9768, 0.9691, 0.9641,\n",
            "          0.8609, 1.0312, 1.0218, 1.0077, 1.0268, 0.9045, 0.9780, 0.9004,\n",
            "          0.9915, 0.9852, 0.9448, 1.0058],\n",
            "         [1.0470, 0.9814, 0.9811, 1.0355, 1.0882, 0.9271, 1.0868, 1.0732,\n",
            "          1.0494, 1.0339, 1.0669, 1.0006, 0.9288, 1.0851, 0.9998, 0.9970,\n",
            "          0.8929, 1.1069, 1.0837, 1.0838, 0.9407, 0.9157, 1.0209, 0.8941,\n",
            "          0.9764, 0.9780, 1.0520, 1.0026],\n",
            "         [1.0266, 0.9912, 1.0787, 0.9326, 1.3144, 0.9110, 0.9174, 0.9055,\n",
            "          0.8649, 1.1061, 1.0134, 1.1008, 1.0172, 1.1113, 1.0967, 0.9984,\n",
            "          0.9282, 1.1410, 1.1585, 1.0910, 0.9353, 0.9116, 1.0844, 1.0515,\n",
            "          0.9761, 0.9700, 0.9197, 0.9462],\n",
            "         [0.9624, 1.0254, 0.9634, 0.8781, 0.9801, 0.8069, 0.8012, 0.9566,\n",
            "          1.0020, 0.9296, 0.9014, 0.8783, 0.8640, 0.8769, 0.7194, 0.9263,\n",
            "          0.7978, 1.0483, 0.9047, 1.0191, 1.1152, 0.9411, 0.8058, 0.9625,\n",
            "          0.8076, 1.0331, 0.9654, 1.0386],\n",
            "         [1.0223, 0.9812, 1.0162, 0.8845, 1.1200, 1.0750, 0.9889, 0.9837,\n",
            "          1.3672, 1.1179, 1.0287, 0.8818, 0.9596, 1.0413, 1.0207, 0.9146,\n",
            "          0.9249, 0.9042, 0.9657, 0.9498, 1.0792, 0.9322, 0.8613, 0.9599,\n",
            "          0.9892, 0.9474, 0.9092, 1.1203],\n",
            "         [1.0195, 1.0019, 1.0376, 1.0046, 0.9470, 0.9342, 1.0493, 1.0488,\n",
            "          1.0044, 0.9704, 0.9501, 1.0431, 1.0856, 1.1663, 1.0652, 1.0240,\n",
            "          0.9680, 1.1970, 0.8505, 0.9291, 0.7040, 1.0170, 0.8705, 0.9301,\n",
            "          1.0476, 0.9961, 0.9984, 1.0226],\n",
            "         [1.0134, 0.9581, 0.9520, 0.9899, 1.0534, 1.0021, 1.0018, 0.9163,\n",
            "          1.1106, 1.0774, 0.8735, 1.0708, 0.9667, 1.1102, 1.0107, 0.8935,\n",
            "          1.1632, 0.6795, 0.8263, 0.9823, 0.8389, 1.1543, 0.9693, 1.0391,\n",
            "          0.9601, 0.9078, 0.9769, 1.0167],\n",
            "         [1.0353, 0.9497, 1.0831, 0.9831, 0.9852, 1.0990, 0.9966, 0.9589,\n",
            "          0.9438, 1.0121, 0.8444, 1.2059, 0.9521, 1.1854, 1.2101, 0.9784,\n",
            "          1.0456, 0.9698, 1.4067, 1.0582, 1.0946, 1.0021, 0.9384, 1.0347,\n",
            "          1.0156, 0.9808, 1.0151, 1.0587],\n",
            "         [0.9340, 0.9990, 0.9738, 0.9749, 0.9343, 0.9633, 0.9503, 1.0212,\n",
            "          0.9820, 1.0681, 0.9457, 1.0811, 0.9247, 0.9653, 0.8148, 1.1139,\n",
            "          1.0795, 1.0413, 1.0267, 1.0735, 1.0533, 0.9570, 1.0289, 1.0664,\n",
            "          1.0011, 1.0387, 1.1119, 0.9841],\n",
            "         [1.0120, 1.0169, 1.0515, 1.0420, 1.0305, 0.9701, 0.9945, 0.9342,\n",
            "          0.9993, 0.9950, 0.9600, 1.0692, 0.9388, 0.9975, 0.8693, 0.9014,\n",
            "          1.1305, 1.3112, 1.1404, 1.0442, 0.9235, 1.0975, 1.0131, 0.9756,\n",
            "          0.9664, 0.9804, 1.0579, 1.0426],\n",
            "         [0.9456, 0.9917, 0.9985, 0.9433, 0.9178, 0.9684, 0.9875, 0.9364,\n",
            "          1.0108, 0.9288, 0.9784, 1.0664, 0.9817, 0.9223, 1.0103, 1.0740,\n",
            "          1.1587, 1.1116, 0.9350, 1.1543, 0.8033, 1.1290, 0.8777, 0.9750,\n",
            "          0.9036, 1.0079, 0.9858, 1.0449],\n",
            "         [0.9929, 0.9965, 0.9227, 1.0642, 1.0018, 0.9503, 1.0183, 1.0244,\n",
            "          0.9923, 0.9980, 0.9668, 0.9515, 1.1325, 1.0632, 0.9458, 0.9183,\n",
            "          1.1387, 1.0263, 1.0629, 1.0262, 1.0353, 0.9456, 0.9512, 0.9955,\n",
            "          0.9797, 0.9806, 1.0586, 1.0309],\n",
            "         [1.0085, 1.0001, 1.0316, 0.9803, 1.0070, 0.9444, 1.0063, 0.9830,\n",
            "          1.0283, 0.9671, 0.9418, 0.9675, 0.9658, 1.0133, 1.0559, 0.9976,\n",
            "          0.9113, 0.9638, 0.9991, 0.8927, 1.0748, 1.0416, 0.9889, 1.0316,\n",
            "          1.0121, 0.9752, 1.0108, 1.0594],\n",
            "         [0.9862, 1.0018, 0.9731, 1.0018, 0.9710, 0.9517, 1.0343, 0.9843,\n",
            "          0.9448, 1.0579, 1.0221, 0.9400, 1.0907, 0.9625, 1.1408, 1.2617,\n",
            "          1.0017, 1.0266, 0.9727, 0.9824, 1.0014, 0.9586, 0.9393, 0.9382,\n",
            "          0.9865, 0.9872, 1.0472, 1.0402],\n",
            "         [0.9862, 0.9964, 0.9759, 1.0379, 0.9984, 0.9219, 1.0142, 1.0221,\n",
            "          1.0542, 1.0236, 0.9686, 1.0926, 1.0536, 0.9964, 1.0573, 0.9683,\n",
            "          1.2001, 1.0040, 0.9159, 1.0060, 1.0540, 0.9841, 0.9952, 0.9784,\n",
            "          0.9786, 1.0210, 0.9575, 1.0280],\n",
            "         [1.0060, 0.9839, 0.9832, 1.0317, 1.0083, 0.9273, 0.9704, 0.9812,\n",
            "          1.0140, 1.0500, 0.8817, 1.1487, 1.0229, 1.0762, 0.8079, 1.0812,\n",
            "          1.0898, 0.9171, 1.1606, 0.9227, 0.9751, 0.8744, 0.9650, 0.9829,\n",
            "          0.9851, 0.9876, 1.0446, 0.9955],\n",
            "         [0.9860, 1.0136, 0.9898, 0.9852, 0.9787, 1.0005, 0.9927, 1.0811,\n",
            "          0.9273, 0.8893, 1.0236, 0.8661, 0.9746, 1.1736, 0.9934, 1.0418,\n",
            "          0.8981, 1.0858, 1.0029, 1.0969, 1.0114, 1.0128, 1.0103, 0.8962,\n",
            "          0.9941, 1.0712, 1.0163, 1.0153],\n",
            "         [0.9828, 0.9908, 0.9914, 1.0259, 1.0696, 0.9741, 1.0084, 0.9102,\n",
            "          1.0895, 0.9239, 1.0251, 0.9173, 1.0021, 1.2324, 1.2428, 1.1282,\n",
            "          0.9929, 1.2066, 0.9624, 1.0267, 0.9740, 0.9359, 0.9742, 1.0090,\n",
            "          0.9828, 0.9908, 1.0029, 1.0113],\n",
            "         [1.0078, 0.9997, 1.0160, 1.0091, 0.9567, 0.9758, 1.0577, 1.0361,\n",
            "          1.0673, 1.1121, 1.0418, 1.0219, 1.0788, 1.0545, 1.1359, 0.9834,\n",
            "          1.1765, 0.9290, 1.0774, 1.0599, 0.9900, 0.9374, 1.0499, 1.0261,\n",
            "          1.0073, 0.9887, 1.0393, 0.9885],\n",
            "         [1.0056, 0.9952, 0.9999, 1.0059, 0.9638, 1.0038, 0.9553, 1.0761,\n",
            "          1.0377, 0.9795, 1.0684, 0.8087, 0.9514, 0.8617, 1.0565, 1.1899,\n",
            "          0.9966, 0.9040, 1.0454, 0.9869, 1.0459, 0.9888, 0.9726, 0.9771,\n",
            "          0.9283, 1.0283, 1.0268, 0.9761],\n",
            "         [1.0093, 1.0567, 1.0292, 0.9657, 1.0204, 1.0722, 1.0214, 0.9801,\n",
            "          1.1660, 1.1794, 0.7178, 0.8611, 1.0114, 0.9921, 0.7761, 1.0114,\n",
            "          0.9815, 1.0274, 1.0591, 1.0396, 0.9885, 0.9884, 0.9835, 0.9616,\n",
            "          1.0287, 1.0436, 0.9917, 0.8953],\n",
            "         [0.8701, 0.8870, 1.0121, 0.9806, 1.0422, 1.0364, 0.9683, 0.9467,\n",
            "          0.7272, 1.0838, 0.7472, 0.7934, 1.4545, 1.0654, 1.0239, 0.9355,\n",
            "          0.9221, 1.0166, 1.0379, 1.0295, 0.9685, 1.0806, 1.0047, 0.9961,\n",
            "          0.9740, 0.9939, 0.9732, 0.8853],\n",
            "         [0.8557, 0.8342, 0.9331, 0.9867, 1.0337, 1.0206, 0.9902, 0.9377,\n",
            "          0.9954, 0.8425, 0.7222, 1.0006, 1.1764, 0.8357, 0.9105, 0.9612,\n",
            "          1.0394, 1.1209, 1.0367, 1.0224, 1.0395, 1.0125, 0.9931, 1.0704,\n",
            "          0.9908, 1.0247, 0.8921, 0.6905]]], device='cuda:0',\n",
            "       grad_fn=<SelectBackward0>)\n"
          ]
        }
      ]
    },
    {
      "cell_type": "code",
      "source": [
        "plt.imshow(lbl[0][0,:].cpu().detach().numpy().reshape((28,28)), cmap='gray')"
      ],
      "metadata": {
        "id": "iqdv86_Yb-m4",
        "colab": {
          "base_uri": "https://localhost:8080/",
          "height": 283
        },
        "outputId": "51d3072a-b590-4720-aa6f-7de3b4322ab0"
      },
      "execution_count": null,
      "outputs": [
        {
          "output_type": "execute_result",
          "data": {
            "text/plain": [
              "<matplotlib.image.AxesImage at 0x7fc41964c4c0>"
            ]
          },
          "metadata": {},
          "execution_count": 71
        },
        {
          "output_type": "display_data",
          "data": {
            "text/plain": [
              "<Figure size 432x288 with 1 Axes>"
            ],
            "image/png": "[encoded data removed]"
          },
          "metadata": {
            "needs_background": "light"
          }
        }
      ]
    },
    {
      "cell_type": "code",
      "source": [
        "plt.imshow(mask[0][0,:].cpu().detach().numpy().reshape((28,28)), cmap='gray')"
      ],
      "metadata": {
        "id": "DnpR7Ic4b-m5",
        "colab": {
          "base_uri": "https://localhost:8080/",
          "height": 283
        },
        "outputId": "db433792-c02f-4128-aed9-fe6d11954743"
      },
      "execution_count": null,
      "outputs": [
        {
          "output_type": "execute_result",
          "data": {
            "text/plain": [
              "<matplotlib.image.AxesImage at 0x7fc4195d0850>"
            ]
          },
          "metadata": {},
          "execution_count": 72
        },
        {
          "output_type": "display_data",
          "data": {
            "text/plain": [
              "<Figure size 432x288 with 1 Axes>"
            ],
            "image/png": "[encoded data removed]"
          },
          "metadata": {
            "needs_background": "light"
          }
        }
      ]
    },
    {
      "cell_type": "markdown",
      "metadata": {
        "id": "-zvKlWkvRo1j"
      },
      "source": [
        "# mixture mask attack Evaluate"
      ]
    },
    {
      "cell_type": "code",
      "source": [
        "#@title save data txt\n",
        "import numpy as np\n",
        "np.savetxt('my_file.txt', lbl[0][0,:].cpu().detach().numpy())"
      ],
      "metadata": {
        "id": "ZDWbtJRdWJPB"
      },
      "execution_count": null,
      "outputs": []
    },
    {
      "cell_type": "code",
      "execution_count": null,
      "metadata": {
        "id": "R6AEkTdRRo1k"
      },
      "outputs": [],
      "source": [
        "def pgd_whitebox(bi, model, X, mask, y, epsilon=args.epsilon, num_stpes=args.num_steps, step_size=args.step_size, device=device):\n",
        "\n",
        "\tX_pgd = Variable(X.data, requires_grad=True)\n",
        " \n",
        "\tif args.random:\n",
        "\t\tnoise = torch.clamp(mask, -epsilon, epsilon).to(device) # XAI mask\n",
        "\t\tX_pgd = Variable(X_pgd.data + noise, requires_grad=True)\n",
        "\tst = time.time()\n",
        "\tlss = []\n",
        "\tfor _ in range(args.num_steps):\n",
        "\t\topt = optim.SGD([X_pgd], lr=1e-3)\n",
        "\t\topt.zero_grad()\n",
        "\n",
        "\t\twith torch.enable_grad():\n",
        "\t\t\tloss = F.cross_entropy(model(X_pgd), y)\n",
        "\t\t\tif not bi % 200: lss.append(loss.item())\n",
        "\t\tloss.backward()\n",
        "\n",
        "\t\teta = torch.clamp(mask, -step_size, step_size) * X_pgd.grad.data.sign() #grad for patch only # XAI mask based pixel wise step size\n",
        "\t\tX_pgd = Variable(X_pgd.data + eta, requires_grad=True)\n",
        "\t\teta = torch.clamp(X_pgd.data - X.data, -epsilon, epsilon)\n",
        "\t\tX_pgd = Variable(X.data + eta, requires_grad=True)\n",
        "\t\tX_pgd = Variable(torch.clamp(X_pgd, 0, 1.0), requires_grad=True)\n",
        "\tet = time.time()\n",
        "\tprint('pgd time: ', et-st, ' s')\n",
        "\tst = [i for i in range(20)]\n",
        "\tif not bi % 200: plt.plot(st, lss)\n",
        "\tif not bi: plt.imsave('2.png', X_pgd.view(X_pgd.shape[0],28,28)[0,:,:].cpu(), cmap='gray')\n",
        "\treturn X_pgd"
      ]
    },
    {
      "cell_type": "code",
      "source": [
        "def pgd_whitebox0(bi, model, X, y, epsilon=args.epsilon, num_stpes=args.num_steps, step_size=args.step_size, device=device, cifar=False):\n",
        "\tout = model(X)\n",
        "\tX_pgd = Variable(X.data, requires_grad=True)\n",
        "\tif args.random:\n",
        "\t\trandom_noise = torch.FloatTensor(*X_pgd.shape).uniform_(-epsilon, epsilon).to(device)\n",
        "\t\tX_pgd = Variable(X_pgd.data + random_noise, requires_grad=True)\n",
        "  \n",
        "\tst = time.time()\n",
        "\tlss = []\n",
        "\tfor _ in range(args.num_steps):\n",
        "\t\topt = optim.SGD([X_pgd], lr=1e-3)\n",
        "\t\topt.zero_grad()\n",
        "\n",
        "\t\twith torch.enable_grad():\n",
        "\t\t\tloss = nn.CrossEntropyLoss()(model(X_pgd), y)\n",
        "\t\t\tlss.append(loss.item())\n",
        "\t\tloss.backward()\n",
        "\t\teta = step_size * X_pgd.grad.data.sign()\n",
        "\t\tX_pgd = Variable(X_pgd.data + eta, requires_grad=True)\n",
        "\t\teta = torch.clamp(X_pgd.data - X.data, -epsilon, epsilon)\n",
        "\t\tX_pgd = Variable(X.data + eta, requires_grad=True)\n",
        "\t\tX_pgd = Variable(torch.clamp(X_pgd, 0, 1.0), requires_grad=True)\n",
        "\n",
        "\tet = time.time()\n",
        "\tprint('pgd time: ', et-st, ' s')\n",
        "\tst = [i for i in range(20)]\n",
        "\tif not bi % 200: plt.plot(st, lss)\n",
        "\tif not bi: plt.imsave('2.png', X_pgd.view(X_pgd.shape[0],28,28)[0,:,:].cpu(), cmap='gray')\n",
        "\n",
        "\treturn X_pgd"
      ],
      "metadata": {
        "id": "KOOwOQ53R28n"
      },
      "execution_count": null,
      "outputs": []
    },
    {
      "cell_type": "code",
      "source": [
        "def pgd_eval_adv_test(device, test_loader):\n",
        "\n",
        "    fnn.eval()\n",
        "    test_loss = 0\n",
        "    correct = 0\n",
        "\n",
        "    with torch.no_grad():\n",
        "        for batch_idx, (data, target) in enumerate(test_loader):\n",
        "            print(batch_idx)\n",
        "            data, target = data.to(device), target.to(device)\n",
        "\n",
        "            data = data.view(data.size(0), 28 * 28)\n",
        "            adv_data = pgd_whitebox0(batch_idx, fnn, data, target, device=device)\n",
        "\n",
        "            output = fnn(adv_data)\n",
        "            test_loss += F.cross_entropy(output, target, size_average=False).item()\n",
        "            pred = output.max(1, keepdim=True)[1]\n",
        "            correct += pred.eq(target.view_as(pred)).sum().item()\n",
        "            print(batch_idx, 'misclassified:', args.batch_size-pred.eq(target.view_as(pred)).sum().item())\n",
        "            \n",
        "    test_loss /= len(test_loader.dataset)\n",
        "    test_accuracy = correct / len(test_loader.dataset)\n",
        "    return test_loss, test_accuracy"
      ],
      "metadata": {
        "id": "mayVcv0t_2o0"
      },
      "execution_count": null,
      "outputs": []
    },
    {
      "cell_type": "code",
      "source": [
        "advloss, advacc = pgd_eval_adv_test(device, test_loader) # train or test\n",
        "print('test_loss: {:.4f}, test_acc: {:.2f}%'.format(advloss, 100. * advacc), end=', ')"
      ],
      "metadata": {
        "colab": {
          "base_uri": "https://localhost:8080/",
          "height": 1000
        },
        "id": "1DD62a_nuDxH",
        "outputId": "eccef502-cf57-433c-aed3-306cb044806b"
      },
      "execution_count": null,
      "outputs": [
        {
          "output_type": "stream",
          "name": "stdout",
          "text": [
            "0\n",
            "pgd time:  0.2492682933807373  s\n",
            "0 misclassified: 103\n",
            "1\n",
            "pgd time:  0.1479802131652832  s\n",
            "1 misclassified: 101\n",
            "2\n",
            "pgd time:  0.15346813201904297  s\n",
            "2 misclassified: 102\n",
            "3\n",
            "pgd time:  0.15243268013000488  s\n",
            "3 misclassified: 107\n",
            "4\n",
            "pgd time:  0.30528712272644043  s\n",
            "4 misclassified: 99\n",
            "5\n",
            "pgd time:  0.3077380657196045  s\n",
            "5 misclassified: 105\n",
            "6\n",
            "pgd time:  0.18210959434509277  s\n",
            "6 misclassified: 103\n",
            "7\n",
            "pgd time:  0.14175772666931152  s\n",
            "7 misclassified: 102\n",
            "8\n",
            "pgd time:  0.14792585372924805  s\n",
            "8 misclassified: 109\n",
            "9\n",
            "pgd time:  0.15200471878051758  s\n",
            "9 misclassified: 101\n",
            "10\n",
            "pgd time:  0.15281295776367188  s\n",
            "10 misclassified: 112\n",
            "11\n",
            "pgd time:  0.14810729026794434  s\n",
            "11 misclassified: 104\n",
            "12\n",
            "pgd time:  0.1466960906982422  s\n",
            "12 misclassified: 106\n",
            "13\n",
            "pgd time:  0.14714431762695312  s\n",
            "13 misclassified: 105\n",
            "14\n",
            "pgd time:  0.15537548065185547  s\n",
            "14 misclassified: 107\n",
            "15\n",
            "pgd time:  0.25507545471191406  s\n",
            "15 misclassified: 113\n",
            "16\n",
            "pgd time:  0.31721043586730957  s\n",
            "16 misclassified: 104\n",
            "17\n",
            "pgd time:  0.2529916763305664  s\n",
            "17 misclassified: 110\n",
            "18\n",
            "pgd time:  0.15288019180297852  s\n",
            "18 misclassified: 106\n",
            "19\n",
            "pgd time:  0.16047239303588867  s\n",
            "19 misclassified: 103\n",
            "20\n",
            "pgd time:  0.14624905586242676  s\n",
            "20 misclassified: 101\n",
            "21\n",
            "pgd time:  0.15665411949157715  s\n",
            "21 misclassified: 102\n",
            "22\n",
            "pgd time:  0.14359021186828613  s\n",
            "22 misclassified: 100\n",
            "23\n",
            "pgd time:  0.15041589736938477  s\n",
            "23 misclassified: 105\n",
            "24\n",
            "pgd time:  0.14393234252929688  s\n",
            "24 misclassified: 106\n",
            "25\n",
            "pgd time:  0.152679443359375  s\n",
            "25 misclassified: 95\n",
            "26\n",
            "pgd time:  0.13549351692199707  s\n",
            "26 misclassified: 105\n",
            "27\n",
            "pgd time:  0.15355563163757324  s\n",
            "27 misclassified: 107\n",
            "28\n",
            "pgd time:  0.13515806198120117  s\n",
            "28 misclassified: 92\n",
            "29\n",
            "pgd time:  0.14585208892822266  s\n",
            "29 misclassified: 104\n",
            "30\n",
            "pgd time:  0.1526646614074707  s\n",
            "30 misclassified: 102\n",
            "31\n",
            "pgd time:  0.15512800216674805  s\n",
            "31 misclassified: 101\n",
            "32\n",
            "pgd time:  0.15056943893432617  s\n",
            "32 misclassified: 106\n",
            "33\n",
            "pgd time:  0.1448533535003662  s\n",
            "33 misclassified: 106\n",
            "34\n",
            "pgd time:  0.1411581039428711  s\n",
            "34 misclassified: 100\n",
            "35\n",
            "pgd time:  0.1415550708770752  s\n",
            "35 misclassified: 109\n",
            "36\n",
            "pgd time:  0.15892601013183594  s\n",
            "36 misclassified: 105\n",
            "37\n",
            "pgd time:  0.31239986419677734  s\n",
            "37 misclassified: 101\n",
            "38\n",
            "pgd time:  0.30579686164855957  s\n",
            "38 misclassified: 103\n",
            "39\n",
            "pgd time:  0.19261574745178223  s\n",
            "39 misclassified: 89\n",
            "40\n",
            "pgd time:  0.15302181243896484  s\n",
            "40 misclassified: 103\n",
            "41\n",
            "pgd time:  0.1425034999847412  s\n",
            "41 misclassified: 77\n",
            "42\n",
            "pgd time:  0.14991211891174316  s\n",
            "42 misclassified: 88\n",
            "43\n",
            "pgd time:  0.1520090103149414  s\n",
            "43 misclassified: 107\n",
            "44\n",
            "pgd time:  0.14388656616210938  s\n",
            "44 misclassified: 104\n",
            "45\n",
            "pgd time:  0.15082287788391113  s\n",
            "45 misclassified: 93\n",
            "46\n",
            "pgd time:  0.22711706161499023  s\n",
            "46 misclassified: 101\n",
            "47\n",
            "pgd time:  0.21592044830322266  s\n",
            "47 misclassified: 85\n",
            "48\n",
            "pgd time:  0.2155134677886963  s\n",
            "48 misclassified: 73\n",
            "49\n",
            "pgd time:  0.38561415672302246  s\n",
            "49 misclassified: 79\n",
            "50\n",
            "pgd time:  0.33871912956237793  s\n",
            "50 misclassified: 89\n",
            "51\n",
            "pgd time:  0.2263963222503662  s\n",
            "51 misclassified: 104\n",
            "52\n",
            "pgd time:  0.20989227294921875  s\n",
            "52 misclassified: 100\n",
            "53\n",
            "pgd time:  0.22722506523132324  s\n",
            "53 misclassified: 90\n",
            "54\n",
            "pgd time:  0.22194528579711914  s\n",
            "54 misclassified: 86\n",
            "55\n",
            "pgd time:  0.21593165397644043  s\n",
            "55 misclassified: 78\n",
            "56\n",
            "pgd time:  0.2655973434448242  s\n",
            "56 misclassified: 97\n",
            "57\n",
            "pgd time:  0.40622377395629883  s\n",
            "57 misclassified: 102\n",
            "58\n",
            "pgd time:  0.23690128326416016  s\n",
            "58 misclassified: 106\n",
            "59\n",
            "pgd time:  0.22133135795593262  s\n",
            "59 misclassified: 104\n",
            "60\n",
            "pgd time:  0.23553824424743652  s\n",
            "60 misclassified: 86\n",
            "61\n",
            "pgd time:  0.22844314575195312  s\n",
            "61 misclassified: 85\n",
            "62\n",
            "pgd time:  0.23180341720581055  s\n",
            "62 misclassified: 81\n",
            "63\n",
            "pgd time:  0.15650534629821777  s\n",
            "63 misclassified: 91\n",
            "64\n",
            "pgd time:  0.2865738868713379  s\n",
            "64 misclassified: 92\n",
            "65\n",
            "pgd time:  0.31295323371887207  s\n",
            "65 misclassified: 91\n",
            "66\n",
            "pgd time:  0.2004530429840088  s\n",
            "66 misclassified: 84\n",
            "67\n",
            "pgd time:  0.14115214347839355  s\n",
            "67 misclassified: 91\n",
            "68\n",
            "pgd time:  0.1491689682006836  s\n",
            "68 misclassified: 75\n",
            "69\n",
            "pgd time:  0.17370867729187012  s\n",
            "69 misclassified: 78\n",
            "70\n",
            "pgd time:  0.16547513008117676  s\n",
            "70 misclassified: 97\n",
            "71\n",
            "pgd time:  0.13742947578430176  s\n",
            "71 misclassified: 83\n",
            "72\n",
            "pgd time:  0.1377544403076172  s\n",
            "72 misclassified: 88\n",
            "73\n",
            "pgd time:  0.13515186309814453  s\n",
            "73 misclassified: 94\n",
            "74\n",
            "pgd time:  0.13960886001586914  s\n",
            "74 misclassified: 89\n",
            "75\n",
            "pgd time:  0.1427927017211914  s\n",
            "75 misclassified: 95\n",
            "76\n",
            "pgd time:  0.15315890312194824  s\n",
            "76 misclassified: 110\n",
            "77\n",
            "pgd time:  0.15425491333007812  s\n",
            "77 misclassified: 106\n",
            "test_loss: 2.7214, test_acc: 23.61%, "
          ]
        },
        {
          "output_type": "display_data",
          "data": {
            "text/plain": [
              "<Figure size 432x288 with 1 Axes>"
            ],
            "image/png": "[encoded data removed]"
          },
          "metadata": {
            "needs_background": "light"
          }
        }
      ]
    },
    {
      "cell_type": "code",
      "execution_count": null,
      "metadata": {
        "id": "YSzzGpkYusKI"
      },
      "outputs": [],
      "source": [
        "def lbl_eval_adv_test(mask, device, test_loader):\n",
        "\n",
        "    fnn.eval()\n",
        "    test_loss = 0\n",
        "    correct = 0\n",
        "    with torch.no_grad():\n",
        "        for batch_idx, (data, target) in enumerate(test_loader):\n",
        "            data, target = data.to(device), target.to(device)\n",
        "            \n",
        "            data = data.view(data.size(0), 28*28)\n",
        "            #print(data.dtype, mask[batch_idx].dtype)\n",
        "            adv_data = pgd_whitebox(batch_idx, fnn, data, mask[batch_idx].to(torch.float32), target, device=device)\n",
        "\n",
        "            #adv_data = adv_data.view(adv_data.size(0), 28*28)\n",
        "            output = fnn(adv_data)\n",
        "            test_loss += F.cross_entropy(output, target, size_average=False).item()\n",
        "            pred = output.max(1, keepdim=True)[1]\n",
        "            correct += pred.eq(target.view_as(pred)).sum().item()\n",
        "            print(batch_idx, 'misclassified:', args.batch_size-pred.eq(target.view_as(pred)).sum().item())\n",
        "            \n",
        "    test_loss /= len(test_loader.dataset)\n",
        "    test_accuracy = correct / len(test_loader.dataset)\n",
        "    return test_loss, test_accuracy"
      ]
    },
    {
      "cell_type": "code",
      "source": [
        "advloss, advacc = lbl_eval_adv_test(lbl, device, test_loader) # train or test\n",
        "print('test_loss: {:.4f}, test_acc: {:.2f}%'.format(advloss, 100. * advacc), end=', ')"
      ],
      "metadata": {
        "colab": {
          "base_uri": "https://localhost:8080/",
          "height": 1000
        },
        "id": "qkbb5ymaRR3P",
        "outputId": "682273f1-b569-442e-9c3e-56b972f5069c"
      },
      "execution_count": null,
      "outputs": [
        {
          "output_type": "stream",
          "name": "stdout",
          "text": [
            "pgd time:  0.15489602088928223  s\n",
            "0 misclassified: 101\n",
            "pgd time:  0.14969134330749512  s\n",
            "1 misclassified: 97\n",
            "pgd time:  0.1731550693511963  s\n",
            "2 misclassified: 97\n",
            "pgd time:  0.3310368061065674  s\n",
            "3 misclassified: 102\n",
            "pgd time:  0.3050508499145508  s\n",
            "4 misclassified: 96\n",
            "pgd time:  0.16005659103393555  s\n",
            "5 misclassified: 100\n",
            "pgd time:  0.13814544677734375  s\n",
            "6 misclassified: 96\n",
            "pgd time:  0.1365370750427246  s\n",
            "7 misclassified: 100\n",
            "pgd time:  0.14117097854614258  s\n",
            "8 misclassified: 103\n",
            "pgd time:  0.15344667434692383  s\n",
            "9 misclassified: 97\n",
            "pgd time:  0.141218900680542  s\n",
            "10 misclassified: 107\n",
            "pgd time:  0.18911147117614746  s\n",
            "11 misclassified: 96\n",
            "pgd time:  0.15066099166870117  s\n",
            "12 misclassified: 103\n",
            "pgd time:  0.16179871559143066  s\n",
            "13 misclassified: 102\n",
            "pgd time:  0.2844674587249756  s\n",
            "14 misclassified: 103\n",
            "pgd time:  0.3143937587738037  s\n",
            "15 misclassified: 109\n",
            "pgd time:  0.23806047439575195  s\n",
            "16 misclassified: 99\n",
            "pgd time:  0.1381831169128418  s\n",
            "17 misclassified: 103\n",
            "pgd time:  0.1442711353302002  s\n",
            "18 misclassified: 96\n",
            "pgd time:  0.15234971046447754  s\n",
            "19 misclassified: 99\n",
            "pgd time:  0.1834561824798584  s\n",
            "20 misclassified: 95\n",
            "pgd time:  0.14396929740905762  s\n",
            "21 misclassified: 100\n",
            "pgd time:  0.1599254608154297  s\n",
            "22 misclassified: 96\n",
            "pgd time:  0.1445300579071045  s\n",
            "23 misclassified: 101\n",
            "pgd time:  0.1421492099761963  s\n",
            "24 misclassified: 103\n",
            "pgd time:  0.13747024536132812  s\n",
            "25 misclassified: 88\n",
            "pgd time:  0.15117144584655762  s\n",
            "26 misclassified: 101\n",
            "pgd time:  0.13785767555236816  s\n",
            "27 misclassified: 101\n",
            "pgd time:  0.14156579971313477  s\n",
            "28 misclassified: 89\n",
            "pgd time:  0.13484597206115723  s\n",
            "29 misclassified: 100\n",
            "pgd time:  0.1387641429901123  s\n",
            "30 misclassified: 96\n",
            "pgd time:  0.14434218406677246  s\n",
            "31 misclassified: 95\n",
            "pgd time:  0.14919757843017578  s\n",
            "32 misclassified: 101\n",
            "pgd time:  0.1618976593017578  s\n",
            "33 misclassified: 102\n",
            "pgd time:  0.15090537071228027  s\n",
            "34 misclassified: 91\n",
            "pgd time:  0.1392498016357422  s\n",
            "35 misclassified: 106\n",
            "pgd time:  0.1659557819366455  s\n",
            "36 misclassified: 102\n",
            "pgd time:  0.3868682384490967  s\n",
            "37 misclassified: 95\n",
            "pgd time:  0.2644505500793457  s\n",
            "38 misclassified: 102\n",
            "pgd time:  0.21518158912658691  s\n",
            "39 misclassified: 83\n",
            "pgd time:  0.2575390338897705  s\n",
            "40 misclassified: 96\n",
            "pgd time:  0.22530388832092285  s\n",
            "41 misclassified: 73\n",
            "pgd time:  0.21065568923950195  s\n",
            "42 misclassified: 76\n",
            "pgd time:  0.21872234344482422  s\n",
            "43 misclassified: 100\n",
            "pgd time:  0.22303533554077148  s\n",
            "44 misclassified: 98\n",
            "pgd time:  0.2231760025024414  s\n",
            "45 misclassified: 86\n",
            "pgd time:  0.34012532234191895  s\n",
            "46 misclassified: 99\n",
            "pgd time:  0.3667302131652832  s\n",
            "47 misclassified: 82\n",
            "pgd time:  0.21874213218688965  s\n",
            "48 misclassified: 71\n",
            "pgd time:  0.2220933437347412  s\n",
            "49 misclassified: 71\n",
            "pgd time:  0.21800518035888672  s\n",
            "50 misclassified: 79\n",
            "pgd time:  0.23337650299072266  s\n",
            "51 misclassified: 99\n",
            "pgd time:  0.22757577896118164  s\n",
            "52 misclassified: 95\n",
            "pgd time:  0.3183622360229492  s\n",
            "53 misclassified: 82\n",
            "pgd time:  0.3422818183898926  s\n",
            "54 misclassified: 82\n",
            "pgd time:  0.2169189453125  s\n",
            "55 misclassified: 74\n",
            "pgd time:  0.1621708869934082  s\n",
            "56 misclassified: 96\n",
            "pgd time:  0.14693570137023926  s\n",
            "57 misclassified: 95\n",
            "pgd time:  0.16623544692993164  s\n",
            "58 misclassified: 102\n",
            "pgd time:  0.1509537696838379  s\n",
            "59 misclassified: 93\n",
            "pgd time:  0.15808558464050293  s\n",
            "60 misclassified: 81\n",
            "pgd time:  0.1596229076385498  s\n",
            "61 misclassified: 86\n",
            "pgd time:  0.1505599021911621  s\n",
            "62 misclassified: 75\n",
            "pgd time:  0.31560397148132324  s\n",
            "63 misclassified: 84\n",
            "pgd time:  0.31314516067504883  s\n",
            "64 misclassified: 85\n",
            "pgd time:  0.1910567283630371  s\n",
            "65 misclassified: 86\n",
            "pgd time:  0.1436307430267334  s\n",
            "66 misclassified: 80\n",
            "pgd time:  0.14018893241882324  s\n",
            "67 misclassified: 82\n",
            "pgd time:  0.1497511863708496  s\n",
            "68 misclassified: 72\n",
            "pgd time:  0.1485433578491211  s\n",
            "69 misclassified: 74\n",
            "pgd time:  0.1481614112854004  s\n",
            "70 misclassified: 88\n",
            "pgd time:  0.1650857925415039  s\n",
            "71 misclassified: 81\n",
            "pgd time:  0.14437508583068848  s\n",
            "72 misclassified: 80\n",
            "pgd time:  0.14938974380493164  s\n",
            "73 misclassified: 90\n",
            "pgd time:  0.14831280708312988  s\n",
            "74 misclassified: 81\n",
            "pgd time:  0.14498043060302734  s\n",
            "75 misclassified: 88\n",
            "pgd time:  0.14150524139404297  s\n",
            "76 misclassified: 107\n",
            "pgd time:  0.15195560455322266  s\n",
            "77 misclassified: 98\n",
            "test_loss: 2.4724, test_acc: 27.64%, "
          ]
        },
        {
          "output_type": "display_data",
          "data": {
            "text/plain": [
              "<Figure size 432x288 with 1 Axes>"
            ],
            "image/png": "[encoded data removed]"
          },
          "metadata": {
            "needs_background": "light"
          }
        }
      ]
    },
    {
      "cell_type": "markdown",
      "source": [
        "# Model eva"
      ],
      "metadata": {
        "id": "eWRYmfnDN1-9"
      }
    },
    {
      "cell_type": "code",
      "execution_count": null,
      "metadata": {
        "id": "MYL7MqM8Ro1k"
      },
      "outputs": [],
      "source": [
        "#@title query-efficient\n",
        "#data = data.view(data.size(0), 28*28)\n",
        "buf = []\n",
        "umodel.eval()\n",
        "with torch.no_grad():\n",
        "  for data, target in train_loader:\n",
        "    data, target = data.to(device), target.to(device)\n",
        "    buf.append(umodel(data))"
      ]
    },
    {
      "cell_type": "code",
      "source": [
        "print(buf[0].shape)"
      ],
      "metadata": {
        "colab": {
          "base_uri": "https://localhost:8080/"
        },
        "id": "3DqAdZwUU1Ls",
        "outputId": "499f7069-51a9-4fe7-8a11-3a3157a081bc"
      },
      "execution_count": null,
      "outputs": [
        {
          "output_type": "stream",
          "name": "stdout",
          "text": [
            "torch.Size([512, 1, 28, 28])\n"
          ]
        }
      ]
    },
    {
      "cell_type": "code",
      "source": [
        "plt.imshow(buf[1][0,:].cpu().detach().numpy().reshape((28,28)), cmap='gray')"
      ],
      "metadata": {
        "colab": {
          "base_uri": "https://localhost:8080/",
          "height": 283
        },
        "id": "L9DV_POOQDPE",
        "outputId": "c0867914-41e0-4ac6-f81b-81bb51ba745c"
      },
      "execution_count": null,
      "outputs": [
        {
          "output_type": "execute_result",
          "data": {
            "text/plain": [
              "<matplotlib.image.AxesImage at 0x7f0569f06640>"
            ]
          },
          "metadata": {},
          "execution_count": 93
        },
        {
          "output_type": "display_data",
          "data": {
            "text/plain": [
              "<Figure size 432x288 with 1 Axes>"
            ],
            "image/png": "[encoded data removed]"
          },
          "metadata": {
            "needs_background": "light"
          }
        }
      ]
    },
    {
      "cell_type": "code",
      "source": [
        "plt.imshow(buf[1][0,:].cpu().detach().numpy().reshape((28,28)), cmap='gray')"
      ],
      "metadata": {
        "id": "iPF_nSVYr1jX"
      },
      "execution_count": null,
      "outputs": []
    },
    {
      "cell_type": "code",
      "source": [
        "plt.imshow(buf[1][0,:].cpu().detach().numpy().reshape((28,28)), cmap='gray')"
      ],
      "metadata": {
        "colab": {
          "base_uri": "https://localhost:8080/",
          "height": 282
        },
        "id": "cg0XQJZQlfig",
        "outputId": "23f3804a-40d8-46d0-d24b-8e95471645b8"
      },
      "execution_count": null,
      "outputs": [
        {
          "output_type": "execute_result",
          "data": {
            "text/plain": [
              "<matplotlib.image.AxesImage at 0x7f0749d415b0>"
            ]
          },
          "metadata": {},
          "execution_count": 65
        },
        {
          "output_type": "display_data",
          "data": {
            "text/plain": [
              "<Figure size 432x288 with 1 Axes>"
            ],
            "image/png": "[encoded data removed]"
          },
          "metadata": {
            "needs_background": "light"
          }
        }
      ]
    },
    {
      "cell_type": "code",
      "source": [
        "print(torch.max(buf[1][0,:].cpu()))\n",
        "print(torch.min(buf[1][0,:].cpu()))"
      ],
      "metadata": {
        "colab": {
          "base_uri": "https://localhost:8080/"
        },
        "id": "Hf6VBfhqfTgx",
        "outputId": "eede4ba8-ef5b-4b39-bace-7bfe970bda2a"
      },
      "execution_count": null,
      "outputs": [
        {
          "output_type": "stream",
          "name": "stdout",
          "text": [
            "tensor(1.2269)\n",
            "tensor(0.5578)\n"
          ]
        }
      ]
    },
    {
      "cell_type": "code",
      "execution_count": null,
      "metadata": {
        "id": "kmQSRLMHRo1m"
      },
      "outputs": [],
      "source": [
        "def eval_adv_test(model, device, test_loader):\n",
        "\n",
        "    model.eval().to(device)\n",
        "    fnn.eval().to(device)\n",
        "    test_loss = 0\n",
        "    correct = 0\n",
        "    \n",
        "    with torch.no_grad():\n",
        "        for batch_idx, (data, target) in enumerate(test_loader):\n",
        "            data = data.to(device)\n",
        "            target = target.to(device)\n",
        "            buf = model(data)\n",
        "            adv = pgd_whitebox(batch_idx, fnn, data.view(data.size(0), 28*28), buf.view(buf.size(0), 28*28), target, device=device)\n",
        "            output = fnn(adv)\n",
        "            test_loss += F.cross_entropy(output, target, size_average=False).item()\n",
        "            pred = output.max(1, keepdim=True)[1]\n",
        "            correct += pred.eq(target.view_as(pred)).sum().item()\n",
        "            print(batch_idx, 'misclassified:', args.batch_size-pred.eq(target.view_as(pred)).sum().item())\n",
        "            \n",
        "    test_loss /= len(test_loader.dataset)\n",
        "    test_accuracy = correct / len(test_loader.dataset)\n",
        "    return test_loss, test_accuracy"
      ]
    },
    {
      "cell_type": "code",
      "source": [
        "model = umodel\n",
        "\n",
        "# model.load_state_dict(torch.load(model_name))\n",
        "\n",
        "sgd = optim.SGD(model.parameters(), lr=args.lr)\n",
        "\n",
        "\n",
        "advloss, advacc = eval_adv_test(model, device, train_loader) # train or test\n",
        "print('test_loss: {:.4f}, test_acc: {:.2f}%'.format(advloss, 100. * advacc), end=', ')"
      ],
      "metadata": {
        "colab": {
          "base_uri": "https://localhost:8080/",
          "height": 1000
        },
        "id": "LfHCMp9ve76G",
        "outputId": "7b5d2d60-e133-4700-f089-3fc52971f830"
      },
      "execution_count": null,
      "outputs": [
        {
          "output_type": "stream",
          "name": "stdout",
          "text": [
            "0 misclassified: 96\n",
            "1 misclassified: 90\n",
            "2 misclassified: 87\n",
            "3 misclassified: 88\n",
            "4 misclassified: 95\n",
            "5 misclassified: 90\n",
            "6 misclassified: 91\n",
            "7 misclassified: 85\n",
            "8 misclassified: 104\n",
            "9 misclassified: 92\n",
            "10 misclassified: 91\n",
            "11 misclassified: 94\n",
            "12 misclassified: 92\n",
            "13 misclassified: 96\n",
            "14 misclassified: 89\n",
            "15 misclassified: 86\n",
            "16 misclassified: 80\n",
            "17 misclassified: 88\n",
            "18 misclassified: 88\n",
            "19 misclassified: 97\n",
            "20 misclassified: 91\n",
            "21 misclassified: 94\n",
            "22 misclassified: 91\n",
            "23 misclassified: 89\n",
            "24 misclassified: 98\n",
            "25 misclassified: 95\n",
            "26 misclassified: 93\n",
            "27 misclassified: 95\n",
            "28 misclassified: 82\n",
            "29 misclassified: 90\n",
            "30 misclassified: 97\n",
            "31 misclassified: 98\n",
            "32 misclassified: 97\n",
            "33 misclassified: 91\n",
            "34 misclassified: 86\n",
            "35 misclassified: 90\n",
            "36 misclassified: 82\n",
            "37 misclassified: 99\n",
            "38 misclassified: 101\n",
            "39 misclassified: 98\n",
            "40 misclassified: 99\n",
            "41 misclassified: 88\n",
            "42 misclassified: 80\n",
            "43 misclassified: 88\n",
            "44 misclassified: 92\n",
            "45 misclassified: 101\n",
            "46 misclassified: 90\n",
            "47 misclassified: 81\n",
            "48 misclassified: 94\n",
            "49 misclassified: 96\n",
            "50 misclassified: 81\n",
            "51 misclassified: 89\n",
            "52 misclassified: 92\n",
            "53 misclassified: 102\n",
            "54 misclassified: 93\n",
            "55 misclassified: 98\n",
            "56 misclassified: 104\n",
            "57 misclassified: 96\n",
            "58 misclassified: 104\n",
            "59 misclassified: 97\n",
            "60 misclassified: 100\n",
            "61 misclassified: 82\n",
            "62 misclassified: 96\n",
            "63 misclassified: 98\n",
            "64 misclassified: 94\n",
            "65 misclassified: 96\n",
            "66 misclassified: 95\n",
            "67 misclassified: 100\n",
            "68 misclassified: 100\n",
            "69 misclassified: 99\n",
            "70 misclassified: 88\n",
            "71 misclassified: 93\n",
            "72 misclassified: 103\n",
            "73 misclassified: 86\n",
            "74 misclassified: 97\n",
            "75 misclassified: 96\n",
            "76 misclassified: 80\n",
            "77 misclassified: 80\n",
            "78 misclassified: 90\n",
            "79 misclassified: 89\n",
            "80 misclassified: 90\n",
            "81 misclassified: 91\n",
            "82 misclassified: 89\n",
            "83 misclassified: 95\n",
            "84 misclassified: 97\n",
            "85 misclassified: 87\n",
            "86 misclassified: 88\n",
            "87 misclassified: 100\n",
            "88 misclassified: 84\n",
            "89 misclassified: 95\n",
            "90 misclassified: 96\n",
            "91 misclassified: 93\n",
            "92 misclassified: 88\n",
            "93 misclassified: 90\n",
            "94 misclassified: 90\n",
            "95 misclassified: 93\n",
            "96 misclassified: 91\n",
            "97 misclassified: 106\n",
            "98 misclassified: 90\n",
            "99 misclassified: 94\n",
            "100 misclassified: 93\n",
            "101 misclassified: 93\n",
            "102 misclassified: 94\n",
            "103 misclassified: 88\n",
            "104 misclassified: 83\n",
            "105 misclassified: 81\n",
            "106 misclassified: 101\n",
            "107 misclassified: 91\n",
            "108 misclassified: 91\n",
            "109 misclassified: 94\n",
            "110 misclassified: 93\n",
            "111 misclassified: 97\n",
            "112 misclassified: 100\n",
            "113 misclassified: 102\n",
            "114 misclassified: 105\n",
            "115 misclassified: 103\n",
            "116 misclassified: 93\n",
            "117 misclassified: 96\n",
            "118 misclassified: 92\n",
            "119 misclassified: 92\n",
            "120 misclassified: 98\n",
            "121 misclassified: 85\n",
            "122 misclassified: 95\n",
            "123 misclassified: 99\n",
            "124 misclassified: 90\n",
            "125 misclassified: 101\n",
            "126 misclassified: 87\n",
            "127 misclassified: 92\n",
            "128 misclassified: 94\n",
            "129 misclassified: 81\n",
            "130 misclassified: 105\n",
            "131 misclassified: 106\n",
            "132 misclassified: 96\n",
            "133 misclassified: 92\n",
            "134 misclassified: 91\n",
            "135 misclassified: 92\n",
            "136 misclassified: 97\n",
            "137 misclassified: 105\n",
            "138 misclassified: 100\n",
            "139 misclassified: 109\n",
            "140 misclassified: 95\n",
            "141 misclassified: 98\n",
            "142 misclassified: 89\n",
            "143 misclassified: 102\n",
            "144 misclassified: 96\n",
            "145 misclassified: 98\n",
            "146 misclassified: 96\n",
            "147 misclassified: 84\n",
            "148 misclassified: 95\n",
            "149 misclassified: 98\n",
            "150 misclassified: 91\n",
            "151 misclassified: 92\n",
            "152 misclassified: 91\n",
            "153 misclassified: 78\n",
            "154 misclassified: 82\n",
            "155 misclassified: 92\n",
            "156 misclassified: 94\n",
            "157 misclassified: 97\n",
            "158 misclassified: 98\n",
            "159 misclassified: 90\n",
            "160 misclassified: 86\n",
            "161 misclassified: 90\n",
            "162 misclassified: 96\n",
            "163 misclassified: 102\n",
            "164 misclassified: 95\n",
            "165 misclassified: 92\n",
            "166 misclassified: 90\n",
            "167 misclassified: 96\n",
            "168 misclassified: 89\n",
            "169 misclassified: 100\n",
            "170 misclassified: 82\n",
            "171 misclassified: 89\n",
            "172 misclassified: 95\n",
            "173 misclassified: 98\n",
            "174 misclassified: 97\n",
            "175 misclassified: 101\n",
            "176 misclassified: 94\n",
            "177 misclassified: 90\n",
            "178 misclassified: 88\n",
            "179 misclassified: 77\n",
            "180 misclassified: 86\n",
            "181 misclassified: 91\n",
            "182 misclassified: 88\n",
            "183 misclassified: 96\n",
            "184 misclassified: 91\n",
            "185 misclassified: 95\n",
            "186 misclassified: 100\n",
            "187 misclassified: 92\n",
            "188 misclassified: 97\n",
            "189 misclassified: 97\n",
            "190 misclassified: 90\n",
            "191 misclassified: 99\n",
            "192 misclassified: 92\n",
            "193 misclassified: 103\n",
            "194 misclassified: 89\n",
            "195 misclassified: 93\n",
            "196 misclassified: 96\n",
            "197 misclassified: 97\n",
            "198 misclassified: 86\n",
            "199 misclassified: 86\n",
            "200 misclassified: 89\n",
            "201 misclassified: 99\n",
            "202 misclassified: 99\n",
            "203 misclassified: 91\n",
            "204 misclassified: 98\n",
            "205 misclassified: 90\n",
            "206 misclassified: 106\n",
            "207 misclassified: 106\n",
            "208 misclassified: 99\n",
            "209 misclassified: 101\n",
            "210 misclassified: 101\n",
            "211 misclassified: 104\n",
            "212 misclassified: 100\n",
            "213 misclassified: 92\n",
            "214 misclassified: 99\n",
            "215 misclassified: 90\n",
            "216 misclassified: 97\n",
            "217 misclassified: 98\n",
            "218 misclassified: 82\n",
            "219 misclassified: 87\n",
            "220 misclassified: 91\n",
            "221 misclassified: 90\n",
            "222 misclassified: 84\n",
            "223 misclassified: 94\n",
            "224 misclassified: 96\n",
            "225 misclassified: 95\n",
            "226 misclassified: 94\n",
            "227 misclassified: 105\n",
            "228 misclassified: 93\n",
            "229 misclassified: 87\n",
            "230 misclassified: 95\n",
            "231 misclassified: 96\n",
            "232 misclassified: 99\n",
            "233 misclassified: 107\n",
            "234 misclassified: 96\n",
            "235 misclassified: 101\n",
            "236 misclassified: 97\n",
            "237 misclassified: 95\n",
            "238 misclassified: 101\n",
            "239 misclassified: 104\n",
            "240 misclassified: 97\n",
            "241 misclassified: 99\n",
            "242 misclassified: 97\n",
            "243 misclassified: 99\n",
            "244 misclassified: 96\n",
            "245 misclassified: 94\n",
            "246 misclassified: 100\n",
            "247 misclassified: 108\n",
            "248 misclassified: 100\n",
            "249 misclassified: 94\n",
            "250 misclassified: 88\n",
            "251 misclassified: 105\n",
            "252 misclassified: 98\n",
            "253 misclassified: 100\n",
            "254 misclassified: 90\n",
            "255 misclassified: 101\n",
            "256 misclassified: 99\n",
            "257 misclassified: 91\n",
            "258 misclassified: 90\n",
            "259 misclassified: 94\n",
            "260 misclassified: 93\n",
            "261 misclassified: 102\n",
            "262 misclassified: 103\n",
            "263 misclassified: 96\n",
            "264 misclassified: 88\n",
            "265 misclassified: 93\n",
            "266 misclassified: 91\n",
            "267 misclassified: 88\n",
            "268 misclassified: 93\n",
            "269 misclassified: 83\n",
            "270 misclassified: 95\n",
            "271 misclassified: 93\n",
            "272 misclassified: 99\n",
            "273 misclassified: 87\n",
            "274 misclassified: 103\n",
            "275 misclassified: 92\n",
            "276 misclassified: 98\n",
            "277 misclassified: 91\n",
            "278 misclassified: 90\n",
            "279 misclassified: 94\n",
            "280 misclassified: 98\n",
            "281 misclassified: 102\n",
            "282 misclassified: 90\n",
            "283 misclassified: 91\n",
            "284 misclassified: 98\n",
            "285 misclassified: 100\n",
            "286 misclassified: 87\n",
            "287 misclassified: 85\n",
            "288 misclassified: 92\n",
            "289 misclassified: 97\n",
            "290 misclassified: 94\n",
            "291 misclassified: 97\n",
            "292 misclassified: 92\n",
            "293 misclassified: 105\n",
            "294 misclassified: 92\n",
            "295 misclassified: 92\n",
            "296 misclassified: 89\n",
            "297 misclassified: 89\n",
            "298 misclassified: 100\n",
            "299 misclassified: 104\n",
            "300 misclassified: 99\n",
            "301 misclassified: 97\n",
            "302 misclassified: 90\n",
            "303 misclassified: 90\n",
            "304 misclassified: 82\n",
            "305 misclassified: 95\n",
            "306 misclassified: 91\n",
            "307 misclassified: 96\n",
            "308 misclassified: 93\n",
            "309 misclassified: 92\n",
            "310 misclassified: 100\n",
            "311 misclassified: 104\n",
            "312 misclassified: 92\n",
            "313 misclassified: 88\n",
            "314 misclassified: 90\n",
            "315 misclassified: 99\n",
            "316 misclassified: 102\n",
            "317 misclassified: 91\n",
            "318 misclassified: 96\n",
            "319 misclassified: 95\n",
            "320 misclassified: 100\n",
            "321 misclassified: 90\n",
            "322 misclassified: 93\n",
            "323 misclassified: 88\n",
            "324 misclassified: 98\n",
            "325 misclassified: 98\n",
            "326 misclassified: 104\n",
            "327 misclassified: 88\n",
            "328 misclassified: 90\n",
            "329 misclassified: 104\n",
            "330 misclassified: 100\n",
            "331 misclassified: 99\n",
            "332 misclassified: 93\n",
            "333 misclassified: 88\n",
            "334 misclassified: 90\n",
            "335 misclassified: 98\n",
            "336 misclassified: 95\n",
            "337 misclassified: 87\n",
            "338 misclassified: 85\n",
            "339 misclassified: 89\n",
            "340 misclassified: 88\n",
            "341 misclassified: 93\n",
            "342 misclassified: 97\n",
            "343 misclassified: 97\n",
            "344 misclassified: 95\n",
            "345 misclassified: 92\n",
            "346 misclassified: 93\n",
            "347 misclassified: 95\n",
            "348 misclassified: 88\n",
            "349 misclassified: 94\n",
            "350 misclassified: 101\n",
            "351 misclassified: 99\n",
            "352 misclassified: 92\n",
            "353 misclassified: 95\n",
            "354 misclassified: 94\n",
            "355 misclassified: 94\n",
            "356 misclassified: 103\n",
            "357 misclassified: 101\n",
            "358 misclassified: 99\n",
            "359 misclassified: 100\n",
            "360 misclassified: 109\n",
            "361 misclassified: 101\n",
            "362 misclassified: 98\n",
            "363 misclassified: 97\n",
            "364 misclassified: 85\n",
            "365 misclassified: 85\n",
            "366 misclassified: 86\n",
            "367 misclassified: 82\n",
            "368 misclassified: 91\n",
            "369 misclassified: 100\n",
            "370 misclassified: 97\n",
            "371 misclassified: 93\n",
            "372 misclassified: 91\n",
            "373 misclassified: 87\n",
            "374 misclassified: 93\n",
            "375 misclassified: 87\n",
            "376 misclassified: 80\n",
            "377 misclassified: 86\n",
            "378 misclassified: 87\n",
            "379 misclassified: 80\n",
            "380 misclassified: 82\n",
            "381 misclassified: 85\n",
            "382 misclassified: 105\n",
            "383 misclassified: 95\n",
            "384 misclassified: 93\n",
            "385 misclassified: 96\n",
            "386 misclassified: 97\n",
            "387 misclassified: 100\n",
            "388 misclassified: 103\n",
            "389 misclassified: 107\n",
            "390 misclassified: 92\n",
            "391 misclassified: 96\n",
            "392 misclassified: 93\n",
            "393 misclassified: 99\n",
            "394 misclassified: 81\n",
            "395 misclassified: 97\n",
            "396 misclassified: 100\n",
            "397 misclassified: 107\n",
            "398 misclassified: 84\n",
            "399 misclassified: 95\n",
            "400 misclassified: 91\n",
            "401 misclassified: 86\n",
            "402 misclassified: 90\n",
            "403 misclassified: 90\n",
            "404 misclassified: 86\n",
            "405 misclassified: 95\n",
            "406 misclassified: 91\n",
            "407 misclassified: 104\n",
            "408 misclassified: 97\n",
            "409 misclassified: 96\n",
            "410 misclassified: 95\n",
            "411 misclassified: 88\n",
            "412 misclassified: 92\n",
            "413 misclassified: 98\n",
            "414 misclassified: 85\n",
            "415 misclassified: 96\n",
            "416 misclassified: 85\n",
            "417 misclassified: 88\n",
            "418 misclassified: 101\n",
            "419 misclassified: 89\n",
            "420 misclassified: 91\n",
            "421 misclassified: 91\n",
            "422 misclassified: 99\n",
            "423 misclassified: 101\n",
            "424 misclassified: 94\n",
            "425 misclassified: 90\n",
            "426 misclassified: 92\n",
            "427 misclassified: 92\n",
            "428 misclassified: 95\n",
            "429 misclassified: 97\n",
            "430 misclassified: 87\n",
            "431 misclassified: 84\n",
            "432 misclassified: 90\n",
            "433 misclassified: 92\n",
            "434 misclassified: 80\n",
            "435 misclassified: 88\n",
            "436 misclassified: 91\n",
            "437 misclassified: 85\n",
            "438 misclassified: 83\n",
            "439 misclassified: 92\n",
            "440 misclassified: 93\n",
            "441 misclassified: 94\n",
            "442 misclassified: 97\n",
            "443 misclassified: 91\n",
            "444 misclassified: 86\n",
            "445 misclassified: 95\n",
            "446 misclassified: 88\n",
            "447 misclassified: 107\n",
            "448 misclassified: 92\n",
            "449 misclassified: 90\n",
            "450 misclassified: 94\n",
            "451 misclassified: 102\n",
            "452 misclassified: 96\n",
            "453 misclassified: 88\n",
            "454 misclassified: 81\n",
            "455 misclassified: 81\n",
            "456 misclassified: 86\n",
            "457 misclassified: 94\n",
            "458 misclassified: 101\n",
            "459 misclassified: 94\n",
            "460 misclassified: 73\n",
            "461 misclassified: 91\n",
            "462 misclassified: 81\n",
            "463 misclassified: 99\n",
            "464 misclassified: 83\n",
            "465 misclassified: 95\n",
            "466 misclassified: 90\n",
            "467 misclassified: 79\n",
            "test_loss: 2.4789, test_acc: 26.91%, "
          ]
        },
        {
          "output_type": "display_data",
          "data": {
            "text/plain": [
              "<Figure size 432x288 with 1 Axes>"
            ],
            "image/png": "[encoded data removed]"
          },
          "metadata": {
            "needs_background": "light"
          }
        }
      ]
    },
    {
      "cell_type": "code",
      "source": [
        "model = umodel\n",
        "\n",
        "# model.load_state_dict(torch.load(model_name))\n",
        "\n",
        "sgd = optim.SGD(model.parameters(), lr=args.lr)\n",
        "\n",
        "\n",
        "advloss, advacc = eval_adv_test(model, device, test_loader) # train or test\n",
        "print('test_loss: {:.4f}, test_acc: {:.2f}%'.format(advloss, 100. * advacc), end=', ')"
      ],
      "metadata": {
        "colab": {
          "base_uri": "https://localhost:8080/",
          "height": 1000
        },
        "id": "MHKC0FnouPar",
        "outputId": "0e58b48d-ca58-44da-eda1-6999fd2b93da"
      },
      "execution_count": null,
      "outputs": [
        {
          "output_type": "stream",
          "name": "stdout",
          "text": [
            "pgd time:  0.1673891544342041  s\n",
            "0 misclassified: 101\n",
            "pgd time:  0.3240671157836914  s\n",
            "1 misclassified: 97\n",
            "pgd time:  0.31192803382873535  s\n",
            "2 misclassified: 97\n",
            "pgd time:  0.2307429313659668  s\n",
            "3 misclassified: 102\n",
            "pgd time:  0.15841078758239746  s\n",
            "4 misclassified: 96\n",
            "pgd time:  0.15706110000610352  s\n",
            "5 misclassified: 100\n",
            "pgd time:  0.1551671028137207  s\n",
            "6 misclassified: 96\n",
            "pgd time:  0.16320276260375977  s\n",
            "7 misclassified: 100\n",
            "pgd time:  0.16027522087097168  s\n",
            "8 misclassified: 103\n",
            "pgd time:  0.18323206901550293  s\n",
            "9 misclassified: 97\n",
            "pgd time:  0.17118096351623535  s\n",
            "10 misclassified: 107\n",
            "pgd time:  0.1638178825378418  s\n",
            "11 misclassified: 96\n",
            "pgd time:  0.16856694221496582  s\n",
            "12 misclassified: 103\n",
            "pgd time:  0.1670665740966797  s\n",
            "13 misclassified: 102\n",
            "pgd time:  0.18037652969360352  s\n",
            "14 misclassified: 103\n",
            "pgd time:  0.3232762813568115  s\n",
            "15 misclassified: 109\n",
            "pgd time:  0.3202242851257324  s\n",
            "16 misclassified: 99\n",
            "pgd time:  0.16882753372192383  s\n",
            "17 misclassified: 103\n",
            "pgd time:  0.16448116302490234  s\n",
            "18 misclassified: 96\n",
            "pgd time:  0.16373205184936523  s\n",
            "19 misclassified: 99\n",
            "pgd time:  0.16622281074523926  s\n",
            "20 misclassified: 95\n",
            "pgd time:  0.16179490089416504  s\n",
            "21 misclassified: 100\n",
            "pgd time:  0.16423869132995605  s\n",
            "22 misclassified: 96\n",
            "pgd time:  0.19158339500427246  s\n",
            "23 misclassified: 101\n",
            "pgd time:  0.15900373458862305  s\n",
            "24 misclassified: 103\n",
            "pgd time:  0.1565392017364502  s\n",
            "25 misclassified: 88\n",
            "pgd time:  0.1560506820678711  s\n",
            "26 misclassified: 101\n",
            "pgd time:  0.16307497024536133  s\n",
            "27 misclassified: 101\n",
            "pgd time:  0.17505931854248047  s\n",
            "28 misclassified: 89\n",
            "pgd time:  0.17169713973999023  s\n",
            "29 misclassified: 100\n",
            "pgd time:  0.1705920696258545  s\n",
            "30 misclassified: 96\n",
            "pgd time:  0.18404698371887207  s\n",
            "31 misclassified: 95\n",
            "pgd time:  0.16049838066101074  s\n",
            "32 misclassified: 101\n",
            "pgd time:  0.16767334938049316  s\n",
            "33 misclassified: 102\n",
            "pgd time:  0.2925291061401367  s\n",
            "34 misclassified: 91\n",
            "pgd time:  0.32298707962036133  s\n",
            "35 misclassified: 106\n",
            "pgd time:  0.18813419342041016  s\n",
            "36 misclassified: 102\n",
            "pgd time:  0.17298245429992676  s\n",
            "37 misclassified: 95\n",
            "pgd time:  0.1573033332824707  s\n",
            "38 misclassified: 102\n",
            "pgd time:  0.16165757179260254  s\n",
            "39 misclassified: 83\n",
            "pgd time:  0.1596689224243164  s\n",
            "40 misclassified: 96\n",
            "pgd time:  0.2057509422302246  s\n",
            "41 misclassified: 73\n",
            "pgd time:  0.24549293518066406  s\n",
            "42 misclassified: 76\n",
            "pgd time:  0.38809943199157715  s\n",
            "43 misclassified: 100\n",
            "pgd time:  0.3171515464782715  s\n",
            "44 misclassified: 98\n",
            "pgd time:  0.24110054969787598  s\n",
            "45 misclassified: 86\n",
            "pgd time:  0.24279189109802246  s\n",
            "46 misclassified: 99\n",
            "pgd time:  0.2266826629638672  s\n",
            "47 misclassified: 82\n",
            "pgd time:  0.22895574569702148  s\n",
            "48 misclassified: 71\n",
            "pgd time:  0.28381896018981934  s\n",
            "49 misclassified: 71\n",
            "pgd time:  0.3926541805267334  s\n",
            "50 misclassified: 79\n",
            "pgd time:  0.23749732971191406  s\n",
            "51 misclassified: 99\n",
            "pgd time:  0.24160027503967285  s\n",
            "52 misclassified: 95\n",
            "pgd time:  0.2464292049407959  s\n",
            "53 misclassified: 82\n",
            "pgd time:  0.23293662071228027  s\n",
            "54 misclassified: 82\n",
            "pgd time:  0.2566792964935303  s\n",
            "55 misclassified: 74\n",
            "pgd time:  0.2466108798980713  s\n",
            "56 misclassified: 96\n",
            "pgd time:  0.1867372989654541  s\n",
            "57 misclassified: 95\n",
            "pgd time:  0.16102218627929688  s\n",
            "58 misclassified: 102\n",
            "pgd time:  0.33788633346557617  s\n",
            "59 misclassified: 93\n",
            "pgd time:  0.3542909622192383  s\n",
            "60 misclassified: 81\n",
            "pgd time:  0.17439627647399902  s\n",
            "61 misclassified: 86\n",
            "pgd time:  0.16216588020324707  s\n",
            "62 misclassified: 75\n",
            "pgd time:  0.19325590133666992  s\n",
            "63 misclassified: 84\n",
            "pgd time:  0.15506577491760254  s\n",
            "64 misclassified: 85\n",
            "pgd time:  0.16157174110412598  s\n",
            "65 misclassified: 86\n",
            "pgd time:  0.15764999389648438  s\n",
            "66 misclassified: 80\n",
            "pgd time:  0.16936898231506348  s\n",
            "67 misclassified: 82\n",
            "pgd time:  0.17277216911315918  s\n",
            "68 misclassified: 72\n",
            "pgd time:  0.16359639167785645  s\n",
            "69 misclassified: 74\n",
            "pgd time:  0.16758966445922852  s\n",
            "70 misclassified: 88\n",
            "pgd time:  0.19042515754699707  s\n",
            "71 misclassified: 81\n",
            "pgd time:  0.26714015007019043  s\n",
            "72 misclassified: 80\n",
            "pgd time:  0.32207751274108887  s\n",
            "73 misclassified: 90\n",
            "pgd time:  0.2450244426727295  s\n",
            "74 misclassified: 81\n",
            "pgd time:  0.15706968307495117  s\n",
            "75 misclassified: 88\n",
            "pgd time:  0.16018128395080566  s\n",
            "76 misclassified: 107\n",
            "pgd time:  0.16599130630493164  s\n",
            "77 misclassified: 98\n",
            "test_loss: 2.4724, test_acc: 27.64%, "
          ]
        },
        {
          "output_type": "display_data",
          "data": {
            "text/plain": [
              "<Figure size 432x288 with 1 Axes>"
            ],
            "image/png": "[encoded data removed]"
          },
          "metadata": {
            "needs_background": "light"
          }
        }
      ]
    },
    {
      "cell_type": "code",
      "source": [
        "tesloss, tesacc = eval_test(fnn, device, test_loader)\n",
        "print('test_loss: {:.4f}, trn_acc: {:.2f}%'.format(tesloss, 100. * tesacc), end='\\n')"
      ],
      "metadata": {
        "colab": {
          "base_uri": "https://localhost:8080/"
        },
        "outputId": "6580c284-1620-4465-eb70-458e348fc943",
        "id": "yh75aqMis9iQ"
      },
      "execution_count": null,
      "outputs": [
        {
          "output_type": "stream",
          "name": "stdout",
          "text": [
            "test_loss: 1.3276, trn_acc: 55.52%\n"
          ]
        }
      ]
    },
    {
      "cell_type": "code",
      "source": [
        "model = umodel\n",
        "\n",
        "# model.load_state_dict(torch.load(model_name))\n",
        "\n",
        "sgd = optim.SGD(model.parameters(), lr=args.lr)\n",
        "\n",
        "\n",
        "advloss, advacc = eval_adv_test(model, device, train_loader) # train or test\n",
        "print('test_loss: {:.4f}, test_acc: {:.2f}%'.format(advloss, 100. * advacc), end=', ')"
      ],
      "metadata": {
        "colab": {
          "base_uri": "https://localhost:8080/",
          "height": 1000
        },
        "id": "N0Wble3rl6ml",
        "outputId": "33939eeb-b40a-4ff8-82de-19a1fd7c8620"
      },
      "execution_count": null,
      "outputs": [
        {
          "output_type": "stream",
          "name": "stdout",
          "text": [
            "0 misclassified: 96\n",
            "1 misclassified: 90\n",
            "2 misclassified: 87\n",
            "3 misclassified: 88\n",
            "4 misclassified: 95\n",
            "5 misclassified: 90\n",
            "6 misclassified: 91\n",
            "7 misclassified: 85\n",
            "8 misclassified: 104\n",
            "9 misclassified: 92\n",
            "10 misclassified: 91\n",
            "11 misclassified: 94\n",
            "12 misclassified: 92\n",
            "13 misclassified: 96\n",
            "14 misclassified: 89\n",
            "15 misclassified: 86\n",
            "16 misclassified: 80\n",
            "17 misclassified: 88\n",
            "18 misclassified: 88\n",
            "19 misclassified: 97\n",
            "20 misclassified: 91\n",
            "21 misclassified: 94\n",
            "22 misclassified: 91\n",
            "23 misclassified: 89\n",
            "24 misclassified: 98\n",
            "25 misclassified: 95\n",
            "26 misclassified: 93\n",
            "27 misclassified: 95\n",
            "28 misclassified: 82\n",
            "29 misclassified: 90\n",
            "30 misclassified: 97\n",
            "31 misclassified: 98\n",
            "32 misclassified: 97\n",
            "33 misclassified: 91\n",
            "34 misclassified: 86\n",
            "35 misclassified: 90\n",
            "36 misclassified: 82\n",
            "37 misclassified: 99\n",
            "38 misclassified: 101\n",
            "39 misclassified: 98\n",
            "40 misclassified: 99\n",
            "41 misclassified: 88\n",
            "42 misclassified: 80\n",
            "43 misclassified: 88\n",
            "44 misclassified: 92\n",
            "45 misclassified: 101\n",
            "46 misclassified: 90\n",
            "47 misclassified: 81\n",
            "48 misclassified: 94\n",
            "49 misclassified: 96\n",
            "50 misclassified: 81\n",
            "51 misclassified: 89\n",
            "52 misclassified: 92\n",
            "53 misclassified: 102\n",
            "54 misclassified: 93\n",
            "55 misclassified: 98\n",
            "56 misclassified: 104\n",
            "57 misclassified: 96\n",
            "58 misclassified: 104\n",
            "59 misclassified: 97\n",
            "60 misclassified: 100\n",
            "61 misclassified: 82\n",
            "62 misclassified: 96\n",
            "63 misclassified: 98\n",
            "64 misclassified: 94\n",
            "65 misclassified: 96\n",
            "66 misclassified: 95\n",
            "67 misclassified: 100\n",
            "68 misclassified: 100\n",
            "69 misclassified: 99\n",
            "70 misclassified: 88\n",
            "71 misclassified: 93\n",
            "72 misclassified: 103\n",
            "73 misclassified: 86\n",
            "74 misclassified: 97\n",
            "75 misclassified: 96\n",
            "76 misclassified: 80\n",
            "77 misclassified: 80\n",
            "78 misclassified: 90\n",
            "79 misclassified: 89\n",
            "80 misclassified: 90\n",
            "81 misclassified: 91\n",
            "82 misclassified: 89\n",
            "83 misclassified: 95\n",
            "84 misclassified: 97\n",
            "85 misclassified: 87\n",
            "86 misclassified: 88\n",
            "87 misclassified: 100\n",
            "88 misclassified: 84\n",
            "89 misclassified: 95\n",
            "90 misclassified: 96\n",
            "91 misclassified: 93\n",
            "92 misclassified: 88\n",
            "93 misclassified: 90\n",
            "94 misclassified: 90\n",
            "95 misclassified: 93\n",
            "96 misclassified: 91\n",
            "97 misclassified: 106\n",
            "98 misclassified: 90\n",
            "99 misclassified: 94\n",
            "100 misclassified: 93\n",
            "101 misclassified: 93\n",
            "102 misclassified: 94\n",
            "103 misclassified: 88\n",
            "104 misclassified: 83\n",
            "105 misclassified: 81\n",
            "106 misclassified: 101\n",
            "107 misclassified: 91\n",
            "108 misclassified: 91\n",
            "109 misclassified: 94\n",
            "110 misclassified: 93\n",
            "111 misclassified: 97\n",
            "112 misclassified: 100\n",
            "113 misclassified: 102\n",
            "114 misclassified: 105\n",
            "115 misclassified: 103\n",
            "116 misclassified: 93\n",
            "117 misclassified: 96\n",
            "118 misclassified: 92\n",
            "119 misclassified: 92\n",
            "120 misclassified: 98\n",
            "121 misclassified: 85\n",
            "122 misclassified: 95\n",
            "123 misclassified: 99\n",
            "124 misclassified: 90\n",
            "125 misclassified: 101\n",
            "126 misclassified: 87\n",
            "127 misclassified: 92\n",
            "128 misclassified: 94\n",
            "129 misclassified: 81\n",
            "130 misclassified: 105\n",
            "131 misclassified: 106\n",
            "132 misclassified: 96\n",
            "133 misclassified: 92\n",
            "134 misclassified: 91\n",
            "135 misclassified: 92\n",
            "136 misclassified: 97\n",
            "137 misclassified: 105\n",
            "138 misclassified: 100\n",
            "139 misclassified: 109\n",
            "140 misclassified: 95\n",
            "141 misclassified: 98\n",
            "142 misclassified: 89\n",
            "143 misclassified: 102\n",
            "144 misclassified: 96\n",
            "145 misclassified: 98\n",
            "146 misclassified: 96\n",
            "147 misclassified: 84\n",
            "148 misclassified: 95\n",
            "149 misclassified: 98\n",
            "150 misclassified: 91\n",
            "151 misclassified: 92\n",
            "152 misclassified: 91\n",
            "153 misclassified: 78\n",
            "154 misclassified: 82\n",
            "155 misclassified: 92\n",
            "156 misclassified: 94\n",
            "157 misclassified: 97\n",
            "158 misclassified: 98\n",
            "159 misclassified: 90\n",
            "160 misclassified: 86\n",
            "161 misclassified: 90\n",
            "162 misclassified: 96\n",
            "163 misclassified: 102\n",
            "164 misclassified: 95\n",
            "165 misclassified: 92\n",
            "166 misclassified: 90\n",
            "167 misclassified: 96\n",
            "168 misclassified: 89\n",
            "169 misclassified: 100\n",
            "170 misclassified: 82\n",
            "171 misclassified: 89\n",
            "172 misclassified: 95\n",
            "173 misclassified: 98\n",
            "174 misclassified: 97\n",
            "175 misclassified: 101\n",
            "176 misclassified: 94\n",
            "177 misclassified: 90\n",
            "178 misclassified: 88\n",
            "179 misclassified: 77\n",
            "180 misclassified: 86\n",
            "181 misclassified: 91\n",
            "182 misclassified: 88\n",
            "183 misclassified: 96\n",
            "184 misclassified: 91\n",
            "185 misclassified: 95\n",
            "186 misclassified: 100\n",
            "187 misclassified: 92\n",
            "188 misclassified: 97\n",
            "189 misclassified: 97\n",
            "190 misclassified: 90\n",
            "191 misclassified: 99\n",
            "192 misclassified: 92\n",
            "193 misclassified: 103\n",
            "194 misclassified: 89\n",
            "195 misclassified: 93\n",
            "196 misclassified: 96\n",
            "197 misclassified: 97\n",
            "198 misclassified: 86\n",
            "199 misclassified: 86\n",
            "200 misclassified: 89\n",
            "201 misclassified: 99\n",
            "202 misclassified: 99\n",
            "203 misclassified: 91\n",
            "204 misclassified: 98\n",
            "205 misclassified: 90\n",
            "206 misclassified: 106\n",
            "207 misclassified: 106\n",
            "208 misclassified: 99\n",
            "209 misclassified: 101\n",
            "210 misclassified: 101\n",
            "211 misclassified: 104\n",
            "212 misclassified: 100\n",
            "213 misclassified: 92\n",
            "214 misclassified: 99\n",
            "215 misclassified: 90\n",
            "216 misclassified: 97\n",
            "217 misclassified: 98\n",
            "218 misclassified: 82\n",
            "219 misclassified: 87\n",
            "220 misclassified: 91\n",
            "221 misclassified: 90\n",
            "222 misclassified: 84\n",
            "223 misclassified: 94\n",
            "224 misclassified: 96\n",
            "225 misclassified: 95\n",
            "226 misclassified: 94\n",
            "227 misclassified: 105\n",
            "228 misclassified: 93\n",
            "229 misclassified: 87\n",
            "230 misclassified: 95\n",
            "231 misclassified: 96\n",
            "232 misclassified: 99\n",
            "233 misclassified: 107\n",
            "234 misclassified: 96\n",
            "235 misclassified: 101\n",
            "236 misclassified: 97\n",
            "237 misclassified: 95\n",
            "238 misclassified: 101\n",
            "239 misclassified: 104\n",
            "240 misclassified: 97\n",
            "241 misclassified: 99\n",
            "242 misclassified: 97\n",
            "243 misclassified: 99\n",
            "244 misclassified: 96\n",
            "245 misclassified: 94\n",
            "246 misclassified: 100\n",
            "247 misclassified: 108\n",
            "248 misclassified: 100\n",
            "249 misclassified: 94\n",
            "250 misclassified: 88\n",
            "251 misclassified: 105\n",
            "252 misclassified: 98\n",
            "253 misclassified: 100\n",
            "254 misclassified: 90\n",
            "255 misclassified: 101\n",
            "256 misclassified: 99\n",
            "257 misclassified: 91\n",
            "258 misclassified: 90\n",
            "259 misclassified: 94\n",
            "260 misclassified: 93\n",
            "261 misclassified: 102\n",
            "262 misclassified: 103\n",
            "263 misclassified: 96\n",
            "264 misclassified: 88\n",
            "265 misclassified: 93\n",
            "266 misclassified: 91\n",
            "267 misclassified: 88\n",
            "268 misclassified: 93\n",
            "269 misclassified: 83\n",
            "270 misclassified: 95\n",
            "271 misclassified: 93\n",
            "272 misclassified: 99\n",
            "273 misclassified: 87\n",
            "274 misclassified: 103\n",
            "275 misclassified: 92\n",
            "276 misclassified: 98\n",
            "277 misclassified: 91\n",
            "278 misclassified: 90\n",
            "279 misclassified: 94\n",
            "280 misclassified: 98\n",
            "281 misclassified: 102\n",
            "282 misclassified: 90\n",
            "283 misclassified: 91\n",
            "284 misclassified: 98\n",
            "285 misclassified: 100\n",
            "286 misclassified: 87\n",
            "287 misclassified: 85\n",
            "288 misclassified: 92\n",
            "289 misclassified: 97\n",
            "290 misclassified: 94\n",
            "291 misclassified: 97\n",
            "292 misclassified: 92\n",
            "293 misclassified: 105\n",
            "294 misclassified: 92\n",
            "295 misclassified: 92\n",
            "296 misclassified: 89\n",
            "297 misclassified: 89\n",
            "298 misclassified: 100\n",
            "299 misclassified: 104\n",
            "300 misclassified: 99\n",
            "301 misclassified: 97\n",
            "302 misclassified: 90\n",
            "303 misclassified: 90\n",
            "304 misclassified: 82\n",
            "305 misclassified: 95\n",
            "306 misclassified: 91\n",
            "307 misclassified: 96\n",
            "308 misclassified: 93\n",
            "309 misclassified: 92\n",
            "310 misclassified: 100\n",
            "311 misclassified: 104\n",
            "312 misclassified: 92\n",
            "313 misclassified: 88\n",
            "314 misclassified: 90\n",
            "315 misclassified: 99\n",
            "316 misclassified: 102\n",
            "317 misclassified: 91\n",
            "318 misclassified: 96\n",
            "319 misclassified: 95\n",
            "320 misclassified: 100\n",
            "321 misclassified: 90\n",
            "322 misclassified: 93\n",
            "323 misclassified: 88\n",
            "324 misclassified: 98\n",
            "325 misclassified: 98\n",
            "326 misclassified: 104\n",
            "327 misclassified: 88\n",
            "328 misclassified: 90\n",
            "329 misclassified: 104\n",
            "330 misclassified: 100\n",
            "331 misclassified: 99\n",
            "332 misclassified: 93\n",
            "333 misclassified: 88\n",
            "334 misclassified: 90\n",
            "335 misclassified: 98\n",
            "336 misclassified: 95\n",
            "337 misclassified: 87\n",
            "338 misclassified: 85\n",
            "339 misclassified: 89\n",
            "340 misclassified: 88\n",
            "341 misclassified: 93\n",
            "342 misclassified: 97\n",
            "343 misclassified: 97\n",
            "344 misclassified: 95\n",
            "345 misclassified: 92\n",
            "346 misclassified: 93\n",
            "347 misclassified: 95\n",
            "348 misclassified: 88\n",
            "349 misclassified: 94\n",
            "350 misclassified: 101\n",
            "351 misclassified: 99\n",
            "352 misclassified: 92\n",
            "353 misclassified: 95\n",
            "354 misclassified: 94\n",
            "355 misclassified: 94\n",
            "356 misclassified: 103\n",
            "357 misclassified: 101\n",
            "358 misclassified: 99\n",
            "359 misclassified: 100\n",
            "360 misclassified: 109\n",
            "361 misclassified: 101\n",
            "362 misclassified: 98\n",
            "363 misclassified: 97\n",
            "364 misclassified: 85\n",
            "365 misclassified: 85\n",
            "366 misclassified: 86\n",
            "367 misclassified: 82\n",
            "368 misclassified: 91\n",
            "369 misclassified: 100\n",
            "370 misclassified: 97\n",
            "371 misclassified: 93\n",
            "372 misclassified: 91\n",
            "373 misclassified: 87\n",
            "374 misclassified: 93\n",
            "375 misclassified: 87\n",
            "376 misclassified: 80\n",
            "377 misclassified: 86\n",
            "378 misclassified: 87\n",
            "379 misclassified: 80\n",
            "380 misclassified: 82\n",
            "381 misclassified: 85\n",
            "382 misclassified: 105\n",
            "383 misclassified: 95\n",
            "384 misclassified: 93\n",
            "385 misclassified: 96\n",
            "386 misclassified: 97\n",
            "387 misclassified: 100\n",
            "388 misclassified: 103\n",
            "389 misclassified: 107\n",
            "390 misclassified: 92\n",
            "391 misclassified: 96\n",
            "392 misclassified: 93\n",
            "393 misclassified: 99\n",
            "394 misclassified: 81\n",
            "395 misclassified: 97\n",
            "396 misclassified: 100\n",
            "397 misclassified: 107\n",
            "398 misclassified: 84\n",
            "399 misclassified: 95\n",
            "400 misclassified: 91\n",
            "401 misclassified: 86\n",
            "402 misclassified: 90\n",
            "403 misclassified: 90\n",
            "404 misclassified: 86\n",
            "405 misclassified: 95\n",
            "406 misclassified: 91\n",
            "407 misclassified: 104\n",
            "408 misclassified: 97\n",
            "409 misclassified: 96\n",
            "410 misclassified: 95\n",
            "411 misclassified: 88\n",
            "412 misclassified: 92\n",
            "413 misclassified: 98\n",
            "414 misclassified: 85\n",
            "415 misclassified: 96\n",
            "416 misclassified: 85\n",
            "417 misclassified: 88\n",
            "418 misclassified: 101\n",
            "419 misclassified: 89\n",
            "420 misclassified: 91\n",
            "421 misclassified: 91\n",
            "422 misclassified: 99\n",
            "423 misclassified: 101\n",
            "424 misclassified: 94\n",
            "425 misclassified: 90\n",
            "426 misclassified: 92\n",
            "427 misclassified: 92\n",
            "428 misclassified: 95\n",
            "429 misclassified: 97\n",
            "430 misclassified: 87\n",
            "431 misclassified: 84\n",
            "432 misclassified: 90\n",
            "433 misclassified: 92\n",
            "434 misclassified: 80\n",
            "435 misclassified: 88\n",
            "436 misclassified: 91\n",
            "437 misclassified: 85\n",
            "438 misclassified: 83\n",
            "439 misclassified: 92\n",
            "440 misclassified: 93\n",
            "441 misclassified: 94\n",
            "442 misclassified: 97\n",
            "443 misclassified: 91\n",
            "444 misclassified: 86\n",
            "445 misclassified: 95\n",
            "446 misclassified: 88\n",
            "447 misclassified: 107\n",
            "448 misclassified: 92\n",
            "449 misclassified: 90\n",
            "450 misclassified: 94\n",
            "451 misclassified: 102\n",
            "452 misclassified: 96\n",
            "453 misclassified: 88\n",
            "454 misclassified: 81\n",
            "455 misclassified: 81\n",
            "456 misclassified: 86\n",
            "457 misclassified: 94\n",
            "458 misclassified: 101\n",
            "459 misclassified: 94\n",
            "460 misclassified: 73\n",
            "461 misclassified: 91\n",
            "462 misclassified: 81\n",
            "463 misclassified: 99\n",
            "464 misclassified: 83\n",
            "465 misclassified: 95\n",
            "466 misclassified: 90\n",
            "467 misclassified: 79\n",
            "test_loss: 2.4789, test_acc: 26.91%, "
          ]
        },
        {
          "output_type": "display_data",
          "data": {
            "text/plain": [
              "<Figure size 432x288 with 1 Axes>"
            ],
            "image/png": "[encoded data removed]"
          },
          "metadata": {
            "needs_background": "light"
          }
        }
      ]
    },
    {
      "cell_type": "markdown",
      "source": [
        "# Attack Benchmark"
      ],
      "metadata": {
        "id": "HHwHvZe2xxce"
      }
    },
    {
      "cell_type": "code",
      "source": [
        "!pip install --quiet torchattacks"
      ],
      "metadata": {
        "id": "0sAa_QbBwKUP"
      },
      "execution_count": null,
      "outputs": []
    },
    {
      "cell_type": "code",
      "source": [
        "import torchattacks"
      ],
      "metadata": {
        "id": "G12vh_0uO6JL"
      },
      "execution_count": 22,
      "outputs": []
    },
    {
      "cell_type": "code",
      "source": [
        "for batch_idx, (data, target) in enumerate(test_loader):\n",
        "  if not batch_idx:\n",
        "    plt.imshow(data[0,:].cpu().detach().numpy().reshape((28,28)), cmap='gray')"
      ],
      "metadata": {
        "colab": {
          "base_uri": "https://localhost:8080/",
          "height": 430
        },
        "id": "wzaaibwi19qu",
        "outputId": "c8317fde-210c-4ccb-c43c-689c68379e2b"
      },
      "execution_count": 25,
      "outputs": [
        {
          "output_type": "display_data",
          "data": {
            "text/plain": [
              "<Figure size 640x480 with 1 Axes>"
            ],
            "image/png": "[encoded data removed]"
          },
          "metadata": {}
        }
      ]
    },
    {
      "cell_type": "code",
      "source": [
        "atk = torchattacks.SparseFool(fnn)\n",
        "for batch_idx, (data, target) in enumerate(test_loader):\n",
        "  if not batch_idx:\n",
        "      data, target = data.to(device), target.to(device)\n",
        "      data = data.view(data.size(0), 28 * 28)\n",
        "      atk.save(data_loader=[(data, target)], save_path=\"_transfer.pt\")\n",
        "      adv_data = atk(data, target)\n",
        "      saliency = IntegratedGradients(fnn)\n",
        "      audit2 = saliency.attribute(adv_data, target=target)"
      ],
      "metadata": {
        "colab": {
          "base_uri": "https://localhost:8080/"
        },
        "id": "0w-aJ0yLoeqZ",
        "outputId": "9afffd8f-0cd9-4420-f2a2-d04ae371bf43"
      },
      "execution_count": 36,
      "outputs": [
        {
          "output_type": "stream",
          "name": "stdout",
          "text": [
            "- Save progress: 100.00 % / Robust accuracy: 7.03 % / L2: nan (88.486 it/s) \t\r- Save progress: 100.00 % / Robust accuracy: 7.03 % / L2: nan (88.486 it/s) \t\n"
          ]
        }
      ]
    },
    {
      "cell_type": "code",
      "source": [
        "plt.imshow(audit2[0,:].cpu().detach().numpy().reshape((28,28)), cmap='gray')"
      ],
      "metadata": {
        "colab": {
          "base_uri": "https://localhost:8080/",
          "height": 447
        },
        "id": "dklJf_e910FF",
        "outputId": "db0f80c7-1d11-450d-b31e-f0b5d56de9cf"
      },
      "execution_count": 37,
      "outputs": [
        {
          "output_type": "execute_result",
          "data": {
            "text/plain": [
              "<matplotlib.image.AxesImage at 0x7f38bb26cdf0>"
            ]
          },
          "metadata": {},
          "execution_count": 37
        },
        {
          "output_type": "display_data",
          "data": {
            "text/plain": [
              "<Figure size 640x480 with 1 Axes>"
            ],
            "image/png": "[encoded data removed]"
          },
          "metadata": {}
        }
      ]
    },
    {
      "cell_type": "code",
      "source": [
        "#@title XAI Monitor(data vs SparseFool)\n",
        "sim = nn.CosineSimilarity()(label[0], audit2)\n",
        "sim = torch.nan_to_num(sim)\n",
        "print(torch.mean(sim))"
      ],
      "metadata": {
        "colab": {
          "base_uri": "https://localhost:8080/"
        },
        "id": "XtPiVxVdxlzr",
        "outputId": "9a4ec49c-9190-499b-e336-6d7d06a08df5"
      },
      "execution_count": 42,
      "outputs": [
        {
          "output_type": "stream",
          "name": "stdout",
          "text": [
            "tensor(0.6067, device='cuda:0', dtype=torch.float64)\n"
          ]
        }
      ]
    },
    {
      "cell_type": "markdown",
      "source": [
        "\n",
        "\n",
        "---\n",
        "\n"
      ],
      "metadata": {
        "id": "VJBZzbeQwNyj"
      }
    },
    {
      "cell_type": "code",
      "source": [
        "for batch_idx, (data, target) in enumerate(test_loader):\n",
        "  if not batch_idx:\n",
        "    plt.imshow(data[0,:].cpu().detach().numpy().reshape((28,28)), cmap='gray')"
      ],
      "metadata": {
        "colab": {
          "base_uri": "https://localhost:8080/",
          "height": 430
        },
        "id": "GNxraY-UnzWq",
        "outputId": "fcffa380-3256-4676-c02f-b1f93adf2ea8"
      },
      "execution_count": 41,
      "outputs": [
        {
          "output_type": "display_data",
          "data": {
            "text/plain": [
              "<Figure size 640x480 with 1 Axes>"
            ],
            "image/png": "[encoded data removed]"
          },
          "metadata": {}
        }
      ]
    },
    {
      "cell_type": "code",
      "source": [
        "from copy import deepcopy"
      ],
      "metadata": {
        "id": "evIfYrvS1OiQ"
      },
      "execution_count": 23,
      "outputs": []
    },
    {
      "cell_type": "code",
      "source": [
        "atk = torchattacks.SINIFGSM(fnn, steps=20)\n",
        "audit2 = []\n",
        "for batch_idx, (data, target) in enumerate(test_loader):\n",
        "    data, target = data.to(device), target.to(device)\n",
        "    targetx = deepcopy(target)\n",
        "    data = data.view(data.size(0), 28*28)\n",
        "    target = target.view(128,1).repeat(1,10)\n",
        "    #atk.save(data_loader=[(data, target)], save_path=\"_transfer.pt\")\n",
        "    #adv_data = atk(data, target)\n",
        "    atk.save(data_loader=[(data, targetx)], save_path=\"_transfer.pt\")\n",
        "    adv_data = atk(data, target.to(torch.float32))\n",
        "    saliency = IntegratedGradients(fnn)\n",
        "    audit2.append(saliency.attribute(adv_data, target=targetx))"
      ],
      "metadata": {
        "colab": {
          "base_uri": "https://localhost:8080/"
        },
        "id": "ny9c27LWL0bB",
        "outputId": "309f28eb-30bd-4781-9dbc-c80cc02cddc7"
      },
      "execution_count": 58,
      "outputs": [
        {
          "output_type": "stream",
          "name": "stdout",
          "text": [
            "- Save progress: 100.00 % / Robust accuracy: 49.22 % / L2: 0.63092 (0.257 it/s) \t\n",
            "- Save progress: 100.00 % / Robust accuracy: 51.56 % / L2: 0.62969 (0.266 it/s) \t\n",
            "- Save progress: 100.00 % / Robust accuracy: 49.22 % / L2: 0.61926 (0.204 it/s) \t\n",
            "- Save progress: 100.00 % / Robust accuracy: 46.88 % / L2: 0.63106 (0.179 it/s) \t\n",
            "- Save progress: 100.00 % / Robust accuracy: 47.66 % / L2: 0.63337 (0.157 it/s) \t\n",
            "- Save progress: 100.00 % / Robust accuracy: 46.88 % / L2: 0.62930 (0.248 it/s) \t\n",
            "- Save progress: 100.00 % / Robust accuracy: 52.34 % / L2: 0.63325 (0.251 it/s) \t\n",
            "- Save progress: 100.00 % / Robust accuracy: 45.31 % / L2: 0.63068 (0.242 it/s) \t\n",
            "- Save progress: 100.00 % / Robust accuracy: 49.22 % / L2: 0.62931 (0.238 it/s) \t\n",
            "- Save progress: 100.00 % / Robust accuracy: 52.34 % / L2: 0.63114 (0.309 it/s) \t\n",
            "- Save progress: 100.00 % / Robust accuracy: 46.88 % / L2: 0.63040 (0.163 it/s) \t\n",
            "- Save progress: 100.00 % / Robust accuracy: 44.53 % / L2: 0.63034 (0.162 it/s) \t\n",
            "- Save progress: 100.00 % / Robust accuracy: 50.78 % / L2: 0.63144 (0.201 it/s) \t\n",
            "- Save progress: 100.00 % / Robust accuracy: 47.66 % / L2: 0.62984 (0.156 it/s) \t\n",
            "- Save progress: 100.00 % / Robust accuracy: 45.31 % / L2: 0.62803 (0.162 it/s) \t\n",
            "- Save progress: 100.00 % / Robust accuracy: 40.62 % / L2: 0.63478 (0.161 it/s) \t\n",
            "- Save progress: 100.00 % / Robust accuracy: 57.81 % / L2: 0.63006 (0.204 it/s) \t\n",
            "- Save progress: 100.00 % / Robust accuracy: 53.12 % / L2: 0.63427 (0.158 it/s) \t\n",
            "- Save progress: 100.00 % / Robust accuracy: 46.09 % / L2: 0.63107 (0.163 it/s) \t\n",
            "- Save progress: 100.00 % / Robust accuracy: 55.47 % / L2: 0.62890 (0.161 it/s) \t\n",
            "- Save progress: 100.00 % / Robust accuracy: 51.56 % / L2: 0.63332 (0.162 it/s) \t\n",
            "- Save progress: 100.00 % / Robust accuracy: 43.75 % / L2: 0.63168 (0.219 it/s) \t\n",
            "- Save progress: 100.00 % / Robust accuracy: 50.78 % / L2: 0.63190 (0.168 it/s) \t\n",
            "- Save progress: 100.00 % / Robust accuracy: 47.66 % / L2: 0.63127 (0.160 it/s) \t\n",
            "- Save progress: 100.00 % / Robust accuracy: 49.22 % / L2: 0.63323 (0.172 it/s) \t\n",
            "- Save progress: 100.00 % / Robust accuracy: 53.12 % / L2: 0.62899 (0.152 it/s) \t\n",
            "- Save progress: 100.00 % / Robust accuracy: 51.56 % / L2: 0.63196 (0.155 it/s) \t\n",
            "- Save progress: 100.00 % / Robust accuracy: 49.22 % / L2: 0.63130 (0.181 it/s) \t\n",
            "- Save progress: 100.00 % / Robust accuracy: 56.25 % / L2: 0.62963 (0.235 it/s) \t\n",
            "- Save progress: 100.00 % / Robust accuracy: 43.75 % / L2: 0.63208 (0.232 it/s) \t\n",
            "- Save progress: 100.00 % / Robust accuracy: 46.09 % / L2: 0.62994 (0.260 it/s) \t\n",
            "- Save progress: 100.00 % / Robust accuracy: 41.41 % / L2: 0.62776 (0.241 it/s) \t\n",
            "- Save progress: 100.00 % / Robust accuracy: 46.88 % / L2: 0.63134 (0.235 it/s) \t\n",
            "- Save progress: 100.00 % / Robust accuracy: 43.75 % / L2: 0.62582 (0.173 it/s) \t\n",
            "- Save progress: 100.00 % / Robust accuracy: 55.47 % / L2: 0.63010 (0.206 it/s) \t\n",
            "- Save progress: 100.00 % / Robust accuracy: 42.19 % / L2: 0.62939 (0.167 it/s) \t\n",
            "- Save progress: 100.00 % / Robust accuracy: 46.09 % / L2: 0.62879 (0.178 it/s) \t\n",
            "- Save progress: 100.00 % / Robust accuracy: 55.47 % / L2: 0.63060 (0.162 it/s) \t\n",
            "- Save progress: 100.00 % / Robust accuracy: 46.88 % / L2: 0.62802 (0.164 it/s) \t\n",
            "- Save progress: 100.00 % / Robust accuracy: 57.03 % / L2: 0.63016 (0.212 it/s) \t\n",
            "- Save progress: 100.00 % / Robust accuracy: 52.34 % / L2: 0.62936 (0.156 it/s) \t\n",
            "- Save progress: 100.00 % / Robust accuracy: 57.03 % / L2: 0.63239 (0.170 it/s) \t\n",
            "- Save progress: 100.00 % / Robust accuracy: 57.81 % / L2: 0.63639 (0.172 it/s) \t\n",
            "- Save progress: 100.00 % / Robust accuracy: 53.91 % / L2: 0.62891 (0.178 it/s) \t\n",
            "- Save progress: 100.00 % / Robust accuracy: 52.34 % / L2: 0.63256 (0.203 it/s) \t\n",
            "- Save progress: 100.00 % / Robust accuracy: 51.56 % / L2: 0.63492 (0.168 it/s) \t\n",
            "- Save progress: 100.00 % / Robust accuracy: 50.78 % / L2: 0.62725 (0.165 it/s) \t\n",
            "- Save progress: 100.00 % / Robust accuracy: 53.12 % / L2: 0.63388 (0.160 it/s) \t\n",
            "- Save progress: 100.00 % / Robust accuracy: 60.94 % / L2: 0.63093 (0.168 it/s) \t\n",
            "- Save progress: 100.00 % / Robust accuracy: 59.38 % / L2: 0.63569 (0.206 it/s) \t\n",
            "- Save progress: 100.00 % / Robust accuracy: 53.12 % / L2: 0.63268 (0.254 it/s) \t\n",
            "- Save progress: 100.00 % / Robust accuracy: 46.88 % / L2: 0.63094 (0.249 it/s) \t\n",
            "- Save progress: 100.00 % / Robust accuracy: 43.75 % / L2: 0.63352 (0.307 it/s) \t\n",
            "- Save progress: 100.00 % / Robust accuracy: 58.59 % / L2: 0.62803 (0.252 it/s) \t\n",
            "- Save progress: 100.00 % / Robust accuracy: 55.47 % / L2: 0.61594 (0.208 it/s) \t\n",
            "- Save progress: 100.00 % / Robust accuracy: 57.81 % / L2: 0.62686 (0.170 it/s) \t\n",
            "- Save progress: 100.00 % / Robust accuracy: 48.44 % / L2: 0.63024 (0.178 it/s) \t\n",
            "- Save progress: 100.00 % / Robust accuracy: 57.03 % / L2: 0.62654 (0.163 it/s) \t\n",
            "- Save progress: 100.00 % / Robust accuracy: 48.44 % / L2: 0.62861 (0.178 it/s) \t\n",
            "- Save progress: 100.00 % / Robust accuracy: 57.81 % / L2: 0.62513 (0.170 it/s) \t\n",
            "- Save progress: 100.00 % / Robust accuracy: 57.03 % / L2: 0.62493 (0.167 it/s) \t\n",
            "- Save progress: 100.00 % / Robust accuracy: 47.66 % / L2: 0.59664 (0.181 it/s) \t\n",
            "- Save progress: 100.00 % / Robust accuracy: 55.47 % / L2: 0.63984 (0.191 it/s) \t\n",
            "- Save progress: 100.00 % / Robust accuracy: 53.91 % / L2: 0.63295 (0.174 it/s) \t\n",
            "- Save progress: 100.00 % / Robust accuracy: 53.91 % / L2: 0.63361 (0.193 it/s) \t\n",
            "- Save progress: 100.00 % / Robust accuracy: 51.56 % / L2: 0.63169 (0.169 it/s) \t\n",
            "- Save progress: 100.00 % / Robust accuracy: 55.47 % / L2: 0.63677 (0.195 it/s) \t\n",
            "- Save progress: 100.00 % / Robust accuracy: 60.94 % / L2: 0.63001 (0.159 it/s) \t\n",
            "- Save progress: 100.00 % / Robust accuracy: 59.38 % / L2: 0.63134 (0.164 it/s) \t\n",
            "- Save progress: 100.00 % / Robust accuracy: 57.81 % / L2: 0.63113 (0.176 it/s) \t\n",
            "- Save progress: 100.00 % / Robust accuracy: 42.19 % / L2: 0.63769 (0.161 it/s) \t\n",
            "- Save progress: 100.00 % / Robust accuracy: 56.25 % / L2: 0.63266 (0.154 it/s) \t\n",
            "- Save progress: 100.00 % / Robust accuracy: 54.69 % / L2: 0.63001 (0.246 it/s) \t\n",
            "- Save progress: 100.00 % / Robust accuracy: 53.91 % / L2: 0.62852 (0.236 it/s) \t\n",
            "- Save progress: 100.00 % / Robust accuracy: 53.12 % / L2: 0.62893 (0.294 it/s) \t\n",
            "- Save progress: 100.00 % / Robust accuracy: 48.44 % / L2: 0.63154 (0.294 it/s) \t\n",
            "- Save progress: 100.00 % / Robust accuracy: 39.84 % / L2: 0.63282 (0.245 it/s) \t\n",
            "- Save progress: 100.00 % / Robust accuracy: 49.22 % / L2: 0.63309 (0.156 it/s) \t\n"
          ]
        }
      ]
    },
    {
      "cell_type": "code",
      "source": [
        "print(len(audit2))"
      ],
      "metadata": {
        "colab": {
          "base_uri": "https://localhost:8080/"
        },
        "id": "5mrgynlDNEsK",
        "outputId": "3dfa0a54-eefb-4be5-e345-c9d2e9fb07be"
      },
      "execution_count": 57,
      "outputs": [
        {
          "output_type": "stream",
          "name": "stdout",
          "text": [
            "78\n"
          ]
        }
      ]
    },
    {
      "cell_type": "code",
      "source": [
        "plt.imshow(audit2[0][0,:].cpu().detach().numpy().reshape((28,28)), cmap='gray')"
      ],
      "metadata": {
        "colab": {
          "base_uri": "https://localhost:8080/",
          "height": 447
        },
        "id": "OFVQN9lEJzgg",
        "outputId": "3eab8fd8-ff5f-4da5-da0d-6f4307c4997f"
      },
      "execution_count": 60,
      "outputs": [
        {
          "output_type": "execute_result",
          "data": {
            "text/plain": [
              "<matplotlib.image.AxesImage at 0x7f92c8422b60>"
            ]
          },
          "metadata": {},
          "execution_count": 60
        },
        {
          "output_type": "display_data",
          "data": {
            "text/plain": [
              "<Figure size 640x480 with 1 Axes>"
            ],
            "image/png": "[encoded data removed]"
          },
          "metadata": {}
        }
      ]
    },
    {
      "cell_type": "code",
      "source": [
        "#@title XAI Monitor(data vs SINIFGSM)\n",
        "sim = 0\n",
        "for i in range(len(audit2)):\n",
        "  sim += torch.mean(nn.CosineSimilarity()(label[i], audit2[i]))\n",
        "print((sim)/len(audit2))"
      ],
      "metadata": {
        "colab": {
          "base_uri": "https://localhost:8080/"
        },
        "id": "RTLs6kx3QMW4",
        "outputId": "9dbd3f91-eaf1-43bc-a8bf-53ce14218fd2"
      },
      "execution_count": 68,
      "outputs": [
        {
          "output_type": "stream",
          "name": "stdout",
          "text": [
            "tensor(0.9430, dtype=torch.float64)\n"
          ]
        }
      ]
    },
    {
      "cell_type": "markdown",
      "source": [
        "# Transfer"
      ],
      "metadata": {
        "id": "EXpa8SPLccMm"
      }
    },
    {
      "cell_type": "code",
      "source": [
        "class AlexNet(nn.Module):\n",
        "    def __init__(self, num_classes=10):\n",
        "        super(AlexNet, self).__init__()\n",
        "        self.features = nn.Sequential(\n",
        "            nn.Conv2d(1, 64, kernel_size=3, stride=2, padding=1),\n",
        "            nn.ReLU(inplace=True),\n",
        "            nn.MaxPool2d(kernel_size=2),\n",
        "            nn.Conv2d(64, 192, kernel_size=3, padding=1),\n",
        "            nn.ReLU(inplace=True),\n",
        "            nn.MaxPool2d(kernel_size=2),\n",
        "            nn.Conv2d(192, 384, kernel_size=3, padding=1),\n",
        "            nn.ReLU(inplace=True),\n",
        "            nn.Conv2d(384, 256, kernel_size=3, padding=1),\n",
        "            nn.ReLU(inplace=True),\n",
        "            nn.Conv2d(256, 784, kernel_size=3, padding=1),\n",
        "            nn.ReLU(inplace=True),\n",
        "            nn.MaxPool2d(kernel_size=2),\n",
        "        )\n",
        "        self.classifier = nn.Sequential(\n",
        "            nn.Dropout(),\n",
        "            nn.Linear(28*28, 4096),\n",
        "            nn.ReLU(inplace=True),\n",
        "            nn.Dropout(),\n",
        "            nn.Linear(4096, 4096),\n",
        "            nn.ReLU(inplace=True),\n",
        "            nn.Linear(4096, num_classes),\n",
        "        )\n",
        "\n",
        "    def forward(self, x):\n",
        "        #x = x.reshape(1,3,512,1024)\n",
        "        x = self.features(x)\n",
        "        x = x.view(x.size(0), 28*28)\n",
        "        x = self.classifier(x)\n",
        "        return x"
      ],
      "metadata": {
        "id": "9jTowBVh3E2O"
      },
      "execution_count": 21,
      "outputs": []
    },
    {
      "cell_type": "code",
      "source": [
        "def eval_testX(model, device, test_loader):\n",
        "    model.eval()\n",
        "    test_loss = 0\n",
        "    correct = 0\n",
        "    idx = 0\n",
        "    with torch.no_grad():\n",
        "        for batch_idx, (data, target) in enumerate(test_loader):\n",
        "            data, target = data.to(device), target.to(device)\n",
        "\n",
        "            output = model(data)\n",
        "            test_loss += F.cross_entropy(output, target, size_average=False).item()\n",
        "            pred = output.max(1, keepdim=True)[1]\n",
        "            correct += pred.eq(target.view_as(pred)).sum().item()\n",
        "            #print(batch_idx, 'misclassified:', args.batch_size-pred.eq(target.view_as(pred)).sum().item())\n",
        "            idx += 1\n",
        "\n",
        "    test_loss /= len(test_loader.dataset)\n",
        "    test_accuracy = correct / len(test_loader.dataset)\n",
        "    return test_loss, test_accuracy"
      ],
      "metadata": {
        "id": "GnXXepNu3Il_"
      },
      "execution_count": 22,
      "outputs": []
    },
    {
      "cell_type": "code",
      "source": [
        "alex = AlexNet().to(device)"
      ],
      "metadata": {
        "id": "Cz9HC-2b3Lin"
      },
      "execution_count": 30,
      "outputs": []
    },
    {
      "cell_type": "code",
      "source": [
        "def train_alex(model, epochs=1):\n",
        "\tmodel = model.to(device)\n",
        " \n",
        "\tfor epoch in range(1, epochs+1):\n",
        "\t\tstart_time = time.time()\n",
        "\t\tsgd = optim.SGD(model.parameters(), lr=args.lr)\n",
        "  \n",
        "\t\ttrainX(args, model, device, train_loader, sgd, epoch)\n",
        "\n",
        "\t\ttrnloss, trnacc = eval_testX(model, device, train_loader)\n",
        "\n",
        "\t\tprint('Epoch ' + str(epoch) + ': ' + str(int(time.time() - start_time)) + 's', end=', ')\n",
        "\t\tprint('trn_loss: {:.4f}, trn_acc: {:.2f}%'.format(trnloss, 100. * trnacc), end='\\n')\n",
        "\n",
        "\treturn model"
      ],
      "metadata": {
        "id": "4QZhGNwa3NU3"
      },
      "execution_count": 24,
      "outputs": []
    },
    {
      "cell_type": "code",
      "source": [
        "from IPython.utils.path import target_update\n",
        "def trainX(args, model, device, train_loader, optimizer, epoch):\n",
        "    model.train()\n",
        "    # correct = 0\n",
        "    for batch_idx, (data, target) in enumerate(train_loader):\n",
        "        data, target = data.to(device), target.to(device)\n",
        "  \n",
        "        # clear gradients\n",
        "        optimizer.zero_grad()\n",
        "\n",
        "        loss = F.cross_entropy(model(data), target)\n",
        "\n",
        "        # get gradients and update\n",
        "        loss.backward()\n",
        "        optimizer.step()"
      ],
      "metadata": {
        "id": "_GgkvKUJ3PpL"
      },
      "execution_count": 25,
      "outputs": []
    },
    {
      "cell_type": "code",
      "source": [
        "alex = train_alex(alex)\n",
        "alex.eval()"
      ],
      "metadata": {
        "colab": {
          "base_uri": "https://localhost:8080/"
        },
        "id": "ymv2IiZX3RWM",
        "outputId": "52f71f78-4b5a-4c3d-b751-51f507d2d459"
      },
      "execution_count": 81,
      "outputs": [
        {
          "output_type": "stream",
          "name": "stdout",
          "text": [
            "Epoch 1: 15s, trn_loss: 2.3019, trn_acc: 9.83%\n"
          ]
        },
        {
          "output_type": "execute_result",
          "data": {
            "text/plain": [
              "AlexNet(\n",
              "  (features): Sequential(\n",
              "    (0): Conv2d(1, 64, kernel_size=(3, 3), stride=(2, 2), padding=(1, 1))\n",
              "    (1): ReLU(inplace=True)\n",
              "    (2): MaxPool2d(kernel_size=2, stride=2, padding=0, dilation=1, ceil_mode=False)\n",
              "    (3): Conv2d(64, 192, kernel_size=(3, 3), stride=(1, 1), padding=(1, 1))\n",
              "    (4): ReLU(inplace=True)\n",
              "    (5): MaxPool2d(kernel_size=2, stride=2, padding=0, dilation=1, ceil_mode=False)\n",
              "    (6): Conv2d(192, 384, kernel_size=(3, 3), stride=(1, 1), padding=(1, 1))\n",
              "    (7): ReLU(inplace=True)\n",
              "    (8): Conv2d(384, 256, kernel_size=(3, 3), stride=(1, 1), padding=(1, 1))\n",
              "    (9): ReLU(inplace=True)\n",
              "    (10): Conv2d(256, 784, kernel_size=(3, 3), stride=(1, 1), padding=(1, 1))\n",
              "    (11): ReLU(inplace=True)\n",
              "    (12): MaxPool2d(kernel_size=2, stride=2, padding=0, dilation=1, ceil_mode=False)\n",
              "  )\n",
              "  (classifier): Sequential(\n",
              "    (0): Dropout(p=0.5, inplace=False)\n",
              "    (1): Linear(in_features=784, out_features=4096, bias=True)\n",
              "    (2): ReLU(inplace=True)\n",
              "    (3): Dropout(p=0.5, inplace=False)\n",
              "    (4): Linear(in_features=4096, out_features=4096, bias=True)\n",
              "    (5): ReLU(inplace=True)\n",
              "    (6): Linear(in_features=4096, out_features=10, bias=True)\n",
              "  )\n",
              ")"
            ]
          },
          "metadata": {},
          "execution_count": 81
        }
      ]
    },
    {
      "cell_type": "code",
      "source": [
        "umodel = UNet().to(device)\n",
        "umodel.load_state_dict(torch.load('/content/drive/MyDrive/FYP/u1.1030278996743863.pt'))"
      ],
      "metadata": {
        "colab": {
          "base_uri": "https://localhost:8080/"
        },
        "outputId": "9bf0606e-1ffb-4a51-e670-00136423d41e",
        "id": "GTA8zF5APrBU"
      },
      "execution_count": 38,
      "outputs": [
        {
          "output_type": "execute_result",
          "data": {
            "text/plain": [
              "<All keys matched successfully>"
            ]
          },
          "metadata": {},
          "execution_count": 38
        }
      ]
    },
    {
      "cell_type": "code",
      "source": [
        "def pgd_whitebox(bi, model, X, mask, y, epsilon=args.epsilon, num_steps=args.num_steps, step_size=args.step_size, device=device):\n",
        "\n",
        "\tX_pgd = Variable(X.data, requires_grad=True)\n",
        " \n",
        "\tif args.random: \n",
        "\t\tnoise = torch.clamp(mask, -epsilon, epsilon).to(device) # XAI mask\n",
        "\t\tX_pgd = Variable(X_pgd.data + noise, requires_grad=True)\n",
        "\tst = time.time()\n",
        "\tlss = []\n",
        "\tfor _ in range(args.num_steps):\n",
        "\t\topt = optim.SGD([X_pgd], lr=1e-3)\n",
        "\t\topt.zero_grad()\n",
        "\n",
        "\t\twith torch.enable_grad():\n",
        "\t\t\tloss = F.cross_entropy(model(X_pgd), y)\n",
        "\t\t\tif not bi % 200: lss.append(loss.item())\n",
        "\t\tloss.backward()\n",
        "\n",
        "\t\teta = torch.clamp(mask, -step_size, step_size) * X_pgd.grad.data.sign() #grad for patch only # XAI mask based pixel wise step size\n",
        "\t\tX_pgd = Variable(X_pgd.data + eta, requires_grad=True)\n",
        "\t\teta = torch.clamp(X_pgd.data - X.data, -epsilon, epsilon)\n",
        "\t\tX_pgd = Variable(X.data + eta, requires_grad=True)\n",
        "\t\tX_pgd = Variable(torch.clamp(X_pgd, 0, 1.0), requires_grad=True)\n",
        "\tet = time.time()\n",
        "\t#print('pgd time: ', et-st, ' s')\n",
        "\tst = [i for i in range(20)]\n",
        "\tif not bi % 200: plt.plot(st, lss)\n",
        "\t#if not bi: plt.imsave('2.png', X_pgd.view(X_pgd.shape[0],28,28)[0,:,:].cpu(), cmap='gray')\n",
        "\treturn X_pgd"
      ],
      "metadata": {
        "id": "JND8N19CQqDO"
      },
      "execution_count": 39,
      "outputs": []
    },
    {
      "cell_type": "code",
      "source": [
        "def transfer_adv_test(model, device, test_loader):\n",
        "\n",
        "    model.eval().to(device)\n",
        "    fnn.eval().to(device)\n",
        "    alex.eval().to(device)\n",
        "    test_loss = 0\n",
        "    correct = 0\n",
        "    \n",
        "    with torch.no_grad():\n",
        "        for batch_idx, (data, target) in enumerate(test_loader):\n",
        "            data = data.to(device)\n",
        "            target = target.to(device)\n",
        "            buf = model(data)\n",
        "            adv = pgd_whitebox(batch_idx, fnn, data.view(data.size(0), 28*28), buf.view(buf.size(0), 28*28), target, device=device)\n",
        "            output = alex(adv.view(adv.size(0), 1, 28, 28))\n",
        "            test_loss += F.cross_entropy(output, target, size_average=False).item()\n",
        "            pred = output.max(1, keepdim=True)[1]\n",
        "            correct += pred.eq(target.view_as(pred)).sum().item()\n",
        "            print(batch_idx, 'misclassified:', args.batch_size-pred.eq(target.view_as(pred)).sum().item())\n",
        "            \n",
        "    test_loss /= len(test_loader.dataset)\n",
        "    test_accuracy = correct / len(test_loader.dataset)\n",
        "    return test_loss, test_accuracy"
      ],
      "metadata": {
        "id": "ZqQ-Hg2zQL-f"
      },
      "execution_count": 40,
      "outputs": []
    },
    {
      "cell_type": "code",
      "source": [
        "model = umodel\n",
        "\n",
        "# model.load_state_dict(torch.load(model_name))\n",
        "\n",
        "sgd = optim.SGD(model.parameters(), lr=args.lr)\n",
        "\n",
        "\n",
        "advloss, advacc = transfer_adv_test(model, device, test_loader) # train or test\n",
        "print('test_loss: {:.4f}, test_acc: {:.2f}%'.format(advloss, 100. * advacc), end=', ')"
      ],
      "metadata": {
        "colab": {
          "base_uri": "https://localhost:8080/",
          "height": 1000
        },
        "id": "WmoveeruQPty",
        "outputId": "939de4aa-ee73-458c-b3e3-c7f48444ed84"
      },
      "execution_count": 82,
      "outputs": [
        {
          "output_type": "stream",
          "name": "stdout",
          "text": [
            "0 misclassified: 116\n",
            "1 misclassified: 118\n",
            "2 misclassified: 119\n",
            "3 misclassified: 115\n",
            "4 misclassified: 115\n",
            "5 misclassified: 119\n",
            "6 misclassified: 117\n",
            "7 misclassified: 116\n",
            "8 misclassified: 119\n",
            "9 misclassified: 117\n",
            "10 misclassified: 116\n",
            "11 misclassified: 118\n",
            "12 misclassified: 115\n",
            "13 misclassified: 121\n",
            "14 misclassified: 113\n",
            "15 misclassified: 110\n",
            "16 misclassified: 113\n",
            "17 misclassified: 121\n",
            "18 misclassified: 118\n",
            "19 misclassified: 115\n",
            "20 misclassified: 118\n",
            "21 misclassified: 109\n",
            "22 misclassified: 119\n",
            "23 misclassified: 113\n",
            "24 misclassified: 114\n",
            "25 misclassified: 116\n",
            "26 misclassified: 109\n",
            "27 misclassified: 117\n",
            "28 misclassified: 116\n",
            "29 misclassified: 116\n",
            "30 misclassified: 116\n",
            "31 misclassified: 115\n",
            "32 misclassified: 120\n",
            "33 misclassified: 121\n",
            "34 misclassified: 116\n",
            "35 misclassified: 114\n",
            "36 misclassified: 115\n",
            "37 misclassified: 118\n",
            "38 misclassified: 117\n",
            "39 misclassified: 116\n",
            "40 misclassified: 115\n",
            "41 misclassified: 117\n",
            "42 misclassified: 113\n",
            "43 misclassified: 119\n",
            "44 misclassified: 115\n",
            "45 misclassified: 114\n",
            "46 misclassified: 114\n",
            "47 misclassified: 113\n",
            "48 misclassified: 117\n",
            "49 misclassified: 115\n",
            "50 misclassified: 120\n",
            "51 misclassified: 116\n",
            "52 misclassified: 113\n",
            "53 misclassified: 117\n",
            "54 misclassified: 116\n",
            "55 misclassified: 113\n",
            "56 misclassified: 116\n",
            "57 misclassified: 115\n",
            "58 misclassified: 113\n",
            "59 misclassified: 120\n",
            "60 misclassified: 113\n",
            "61 misclassified: 115\n",
            "62 misclassified: 116\n",
            "63 misclassified: 115\n",
            "64 misclassified: 117\n",
            "65 misclassified: 114\n",
            "66 misclassified: 115\n",
            "67 misclassified: 115\n",
            "68 misclassified: 114\n",
            "69 misclassified: 118\n",
            "70 misclassified: 111\n",
            "71 misclassified: 115\n",
            "72 misclassified: 116\n",
            "73 misclassified: 114\n",
            "74 misclassified: 117\n",
            "75 misclassified: 116\n",
            "76 misclassified: 116\n",
            "77 misclassified: 114\n",
            "test_loss: 2.2993, test_acc: 9.56%, "
          ]
        },
        {
          "output_type": "display_data",
          "data": {
            "text/plain": [
              "<Figure size 640x480 with 1 Axes>"
            ],
            "image/png": "[encoded data removed]"
          },
          "metadata": {}
        }
      ]
    },
    {
      "cell_type": "markdown",
      "source": [
        "## eva kernel"
      ],
      "metadata": {
        "id": "KssnfWYyjyhF"
      }
    },
    {
      "cell_type": "code",
      "source": [
        "!pip install --quiet torchshow"
      ],
      "metadata": {
        "id": "qe1-lM0jj_HS"
      },
      "execution_count": null,
      "outputs": []
    },
    {
      "cell_type": "code",
      "source": [
        "import torchshow as ts"
      ],
      "metadata": {
        "id": "3qpnWlCAkA1w"
      },
      "execution_count": null,
      "outputs": []
    },
    {
      "cell_type": "code",
      "execution_count": null,
      "metadata": {
        "colab": {
          "base_uri": "https://localhost:8080/"
        },
        "id": "PSW-lmIt4y0d",
        "outputId": "ffc274d7-2f4b-48da-9529-4cbdac8e5488"
      },
      "outputs": [
        {
          "output_type": "stream",
          "name": "stdout",
          "text": [
            "encoder.enc_blocks.0.conv1 Conv2d(3, 64, kernel_size=(3, 3), stride=(1, 1), padding=(1, 1)) Parameter containing:\n",
            "tensor([[[[ 4.3355e-03, -1.4336e-02, -1.2797e-02],\n",
            "          [ 5.1678e-03,  1.1321e-02,  9.1521e-04],\n",
            "          [ 8.1122e-03, -6.0914e-03, -1.5950e-02]],\n",
            "\n",
            "         [[-5.1129e-03, -2.1516e-02, -1.1083e-02],\n",
            "          [ 6.5492e-03,  1.8093e-03, -1.0439e-02],\n",
            "          [ 6.8852e-03, -3.0762e-04,  1.1994e-02]],\n",
            "\n",
            "         [[ 8.9396e-03, -2.2709e-03,  9.0533e-03],\n",
            "          [-8.1659e-03,  3.8766e-03,  7.1023e-03],\n",
            "          [ 6.2679e-03,  1.9559e-03, -8.3238e-04]]],\n",
            "\n",
            "\n",
            "        [[[-3.7152e-03,  8.7421e-03,  2.2367e-03],\n",
            "          [-1.4222e-02, -3.8915e-04, -2.6502e-03],\n",
            "          [-4.1332e-03, -6.5362e-03,  1.2438e-02]],\n",
            "\n",
            "         [[ 8.6501e-03, -2.8996e-03, -1.8476e-02],\n",
            "          [-7.0091e-03, -6.0769e-03,  7.8099e-03],\n",
            "          [-6.3846e-03, -1.7754e-02,  1.0387e-02]],\n",
            "\n",
            "         [[-6.0317e-03, -9.4767e-03, -1.1416e-02],\n",
            "          [ 4.1689e-03, -1.9137e-03, -3.1358e-03],\n",
            "          [ 1.4983e-02, -9.3215e-03, -2.8307e-03]]],\n",
            "\n",
            "\n",
            "        [[[ 7.0342e-06,  8.7668e-03, -3.2213e-03],\n",
            "          [-9.1624e-03, -1.6594e-02,  1.4698e-02],\n",
            "          [-1.8166e-02, -7.1529e-03, -4.3543e-03]],\n",
            "\n",
            "         [[ 1.4650e-03, -5.5379e-03, -1.0531e-02],\n",
            "          [-8.6955e-03, -8.5935e-04, -2.2537e-03],\n",
            "          [ 9.7391e-03, -9.3523e-03,  7.6357e-03]],\n",
            "\n",
            "         [[ 9.7171e-03,  2.1794e-03,  2.6594e-03],\n",
            "          [ 5.4172e-04, -9.1967e-03, -5.0688e-03],\n",
            "          [ 1.6086e-02, -4.2964e-03, -1.6774e-03]]],\n",
            "\n",
            "\n",
            "        ...,\n",
            "\n",
            "\n",
            "        [[[ 3.4146e-03, -4.3744e-04, -1.0992e-03],\n",
            "          [ 1.5364e-02, -1.1457e-02, -2.6571e-03],\n",
            "          [-1.1823e-03,  7.8585e-03, -4.1860e-03]],\n",
            "\n",
            "         [[ 2.1583e-02, -9.2726e-03,  1.3840e-03],\n",
            "          [ 1.9949e-02,  5.8755e-03,  4.6313e-03],\n",
            "          [-4.8866e-03, -1.5190e-02,  1.8222e-03]],\n",
            "\n",
            "         [[-4.0252e-03, -1.7916e-02, -1.7638e-03],\n",
            "          [ 6.0067e-04, -2.8031e-03, -1.6730e-02],\n",
            "          [ 3.6173e-03, -7.1523e-03,  1.1987e-02]]],\n",
            "\n",
            "\n",
            "        [[[-1.6220e-02,  1.7749e-02,  1.0133e-03],\n",
            "          [ 8.8265e-03, -5.8644e-03, -1.8681e-03],\n",
            "          [-2.7810e-03, -3.7820e-03, -1.2003e-02]],\n",
            "\n",
            "         [[ 1.3871e-02, -1.5242e-02, -1.3462e-02],\n",
            "          [-1.3677e-03, -8.4772e-03, -9.5306e-03],\n",
            "          [-3.0389e-04, -9.2405e-03,  1.0262e-02]],\n",
            "\n",
            "         [[-5.2018e-03,  1.0021e-03, -1.8038e-03],\n",
            "          [-9.7769e-03,  8.0919e-03,  3.2692e-04],\n",
            "          [ 4.3838e-03,  1.8400e-03,  7.8355e-03]]],\n",
            "\n",
            "\n",
            "        [[[ 6.5326e-03,  1.9483e-02,  1.8351e-02],\n",
            "          [ 7.5217e-04,  3.0951e-03,  1.0808e-03],\n",
            "          [ 1.4224e-02,  9.3118e-04, -3.4466e-03]],\n",
            "\n",
            "         [[-3.0133e-03, -6.5956e-03,  9.8739e-03],\n",
            "          [-1.7567e-02, -7.0534e-03,  7.0850e-03],\n",
            "          [ 9.3508e-03, -9.1956e-03,  6.4545e-03]],\n",
            "\n",
            "         [[-1.3689e-02, -4.4570e-03, -3.4130e-03],\n",
            "          [ 1.4024e-02, -1.9256e-02,  2.9485e-03],\n",
            "          [ 1.4669e-03, -5.8688e-03, -1.5127e-03]]]], device='cuda:0',\n",
            "       requires_grad=True)\n",
            "encoder.enc_blocks.0.conv2 Conv2d(64, 64, kernel_size=(3, 3), stride=(1, 1), padding=(1, 1)) Parameter containing:\n",
            "tensor([[[[-0.0141, -0.0241, -0.0181],\n",
            "          [ 0.0098, -0.0362,  0.0072],\n",
            "          [ 0.0238, -0.0260, -0.0206]],\n",
            "\n",
            "         [[-0.0035,  0.0019, -0.0002],\n",
            "          [-0.0395,  0.0026,  0.0020],\n",
            "          [ 0.0263,  0.0300,  0.0342]],\n",
            "\n",
            "         [[-0.0301, -0.0131,  0.0107],\n",
            "          [ 0.0289,  0.0192,  0.0085],\n",
            "          [ 0.0199,  0.0259, -0.0381]],\n",
            "\n",
            "         ...,\n",
            "\n",
            "         [[ 0.0074,  0.0360,  0.0389],\n",
            "          [ 0.0232, -0.0203,  0.0051],\n",
            "          [-0.0082,  0.0410,  0.0217]],\n",
            "\n",
            "         [[-0.0206, -0.0317, -0.0349],\n",
            "          [-0.0122,  0.0014,  0.0314],\n",
            "          [ 0.0202, -0.0256, -0.0016]],\n",
            "\n",
            "         [[ 0.0309, -0.0201, -0.0129],\n",
            "          [-0.0379,  0.0070,  0.0183],\n",
            "          [ 0.0124,  0.0337, -0.0035]]],\n",
            "\n",
            "\n",
            "        [[[-0.0359,  0.0338,  0.0333],\n",
            "          [ 0.0049, -0.0308,  0.0409],\n",
            "          [ 0.0289, -0.0096,  0.0153]],\n",
            "\n",
            "         [[ 0.0185, -0.0346, -0.0057],\n",
            "          [-0.0141, -0.0018, -0.0085],\n",
            "          [ 0.0204, -0.0285, -0.0191]],\n",
            "\n",
            "         [[ 0.0362,  0.0007,  0.0002],\n",
            "          [-0.0316, -0.0084, -0.0148],\n",
            "          [ 0.0321, -0.0131, -0.0224]],\n",
            "\n",
            "         ...,\n",
            "\n",
            "         [[-0.0163,  0.0249, -0.0208],\n",
            "          [ 0.0389,  0.0170, -0.0189],\n",
            "          [-0.0310, -0.0267, -0.0270]],\n",
            "\n",
            "         [[-0.0149, -0.0206, -0.0056],\n",
            "          [-0.0354, -0.0366,  0.0097],\n",
            "          [ 0.0103, -0.0119,  0.0050]],\n",
            "\n",
            "         [[-0.0225, -0.0332,  0.0012],\n",
            "          [ 0.0353, -0.0337,  0.0323],\n",
            "          [-0.0103,  0.0029,  0.0013]]],\n",
            "\n",
            "\n",
            "        [[[-0.0344, -0.0010,  0.0345],\n",
            "          [ 0.0273,  0.0181,  0.0353],\n",
            "          [ 0.0079,  0.0248, -0.0273]],\n",
            "\n",
            "         [[ 0.0384,  0.0192, -0.0306],\n",
            "          [-0.0375,  0.0304,  0.0084],\n",
            "          [ 0.0278,  0.0252, -0.0350]],\n",
            "\n",
            "         [[-0.0016, -0.0245,  0.0359],\n",
            "          [ 0.0305, -0.0063, -0.0028],\n",
            "          [-0.0128,  0.0256, -0.0277]],\n",
            "\n",
            "         ...,\n",
            "\n",
            "         [[-0.0185,  0.0058,  0.0397],\n",
            "          [ 0.0031,  0.0336, -0.0226],\n",
            "          [-0.0047,  0.0220, -0.0375]],\n",
            "\n",
            "         [[-0.0129, -0.0327,  0.0179],\n",
            "          [-0.0102,  0.0188,  0.0093],\n",
            "          [-0.0417, -0.0183,  0.0280]],\n",
            "\n",
            "         [[ 0.0077, -0.0300, -0.0038],\n",
            "          [-0.0002,  0.0033,  0.0248],\n",
            "          [ 0.0257,  0.0205, -0.0239]]],\n",
            "\n",
            "\n",
            "        ...,\n",
            "\n",
            "\n",
            "        [[[-0.0145, -0.0059,  0.0255],\n",
            "          [ 0.0002, -0.0389,  0.0125],\n",
            "          [-0.0243,  0.0047,  0.0229]],\n",
            "\n",
            "         [[-0.0064, -0.0110,  0.0188],\n",
            "          [-0.0133, -0.0221, -0.0356],\n",
            "          [ 0.0093,  0.0180,  0.0208]],\n",
            "\n",
            "         [[-0.0085, -0.0141, -0.0347],\n",
            "          [ 0.0351, -0.0292,  0.0046],\n",
            "          [ 0.0102,  0.0206,  0.0300]],\n",
            "\n",
            "         ...,\n",
            "\n",
            "         [[ 0.0270, -0.0363,  0.0125],\n",
            "          [-0.0087, -0.0216,  0.0380],\n",
            "          [ 0.0321,  0.0095, -0.0171]],\n",
            "\n",
            "         [[ 0.0257, -0.0241, -0.0227],\n",
            "          [ 0.0247, -0.0146, -0.0075],\n",
            "          [ 0.0184,  0.0086,  0.0230]],\n",
            "\n",
            "         [[-0.0014,  0.0117,  0.0356],\n",
            "          [ 0.0206, -0.0108, -0.0316],\n",
            "          [ 0.0082,  0.0402,  0.0103]]],\n",
            "\n",
            "\n",
            "        [[[-0.0086, -0.0089, -0.0151],\n",
            "          [-0.0323, -0.0095,  0.0200],\n",
            "          [-0.0170, -0.0142, -0.0008]],\n",
            "\n",
            "         [[-0.0063, -0.0269, -0.0014],\n",
            "          [-0.0367,  0.0129, -0.0184],\n",
            "          [ 0.0327, -0.0347, -0.0218]],\n",
            "\n",
            "         [[ 0.0097, -0.0121, -0.0223],\n",
            "          [-0.0110, -0.0063,  0.0051],\n",
            "          [-0.0288, -0.0339,  0.0143]],\n",
            "\n",
            "         ...,\n",
            "\n",
            "         [[ 0.0373, -0.0213, -0.0041],\n",
            "          [-0.0342, -0.0361,  0.0058],\n",
            "          [ 0.0206,  0.0258,  0.0271]],\n",
            "\n",
            "         [[ 0.0041,  0.0039, -0.0243],\n",
            "          [-0.0241, -0.0087, -0.0400],\n",
            "          [ 0.0251,  0.0031,  0.0141]],\n",
            "\n",
            "         [[ 0.0053, -0.0231, -0.0190],\n",
            "          [ 0.0110,  0.0340, -0.0172],\n",
            "          [ 0.0174,  0.0041,  0.0193]]],\n",
            "\n",
            "\n",
            "        [[[-0.0046,  0.0184, -0.0066],\n",
            "          [-0.0369,  0.0030, -0.0396],\n",
            "          [-0.0329,  0.0089,  0.0268]],\n",
            "\n",
            "         [[ 0.0399,  0.0189,  0.0073],\n",
            "          [ 0.0012,  0.0049, -0.0127],\n",
            "          [-0.0237, -0.0340,  0.0056]],\n",
            "\n",
            "         [[-0.0403, -0.0369,  0.0318],\n",
            "          [-0.0056, -0.0300, -0.0104],\n",
            "          [-0.0208, -0.0121,  0.0047]],\n",
            "\n",
            "         ...,\n",
            "\n",
            "         [[-0.0021,  0.0090,  0.0013],\n",
            "          [ 0.0134, -0.0388,  0.0178],\n",
            "          [-0.0098,  0.0397, -0.0377]],\n",
            "\n",
            "         [[ 0.0283,  0.0394,  0.0353],\n",
            "          [-0.0188, -0.0357,  0.0244],\n",
            "          [-0.0078,  0.0051,  0.0256]],\n",
            "\n",
            "         [[-0.0090,  0.0042, -0.0272],\n",
            "          [ 0.0035,  0.0283,  0.0114],\n",
            "          [-0.0142,  0.0140,  0.0172]]]], device='cuda:0', requires_grad=True)\n",
            "encoder.enc_blocks.1.conv1 Conv2d(64, 128, kernel_size=(3, 3), stride=(1, 1), padding=(1, 1)) Parameter containing:\n",
            "tensor([[[[ 4.4944e-03, -9.3657e-03,  1.9503e-04],\n",
            "          [ 8.0099e-04, -1.2039e-03, -6.8252e-03],\n",
            "          [-2.0425e-03,  1.0991e-03, -1.5145e-03]],\n",
            "\n",
            "         [[ 2.4202e-03, -9.2559e-05,  1.6637e-03],\n",
            "          [ 4.0371e-03, -3.5524e-03,  7.4153e-04],\n",
            "          [-3.9624e-03,  9.9477e-03, -3.3110e-03]],\n",
            "\n",
            "         [[ 2.3130e-03,  3.4273e-04,  3.8453e-03],\n",
            "          [ 4.1577e-03,  7.0767e-05,  2.4778e-03],\n",
            "          [-1.1889e-03,  4.8441e-04,  3.1021e-03]],\n",
            "\n",
            "         ...,\n",
            "\n",
            "         [[ 1.1719e-03, -6.1857e-03,  3.0701e-03],\n",
            "          [-8.1279e-04,  3.0155e-03,  5.6748e-03],\n",
            "          [ 1.1378e-03,  1.6999e-03, -7.8561e-03]],\n",
            "\n",
            "         [[ 3.3814e-03, -4.5880e-03,  5.6949e-03],\n",
            "          [-7.8828e-04,  5.6181e-04,  1.4106e-03],\n",
            "          [ 5.9838e-03, -6.0839e-03,  8.8986e-03]],\n",
            "\n",
            "         [[ 7.0998e-03,  2.1943e-03,  8.0271e-03],\n",
            "          [ 3.5869e-03,  5.1825e-03, -2.1388e-03],\n",
            "          [ 5.6126e-04, -7.5233e-03,  2.6257e-03]]],\n",
            "\n",
            "\n",
            "        [[[ 5.0111e-03, -1.0063e-03, -4.2048e-03],\n",
            "          [ 1.1635e-03, -2.1740e-03, -3.3568e-03],\n",
            "          [-6.0844e-03,  5.1546e-03,  1.6510e-03]],\n",
            "\n",
            "         [[ 3.2353e-03, -1.8648e-03,  2.4328e-03],\n",
            "          [-3.9737e-03, -3.4376e-03,  2.6486e-03],\n",
            "          [ 4.4778e-03,  3.9581e-03,  4.4564e-03]],\n",
            "\n",
            "         [[-3.0663e-03, -4.1985e-03,  2.2985e-03],\n",
            "          [-6.6718e-03, -4.6439e-03,  1.3345e-04],\n",
            "          [ 3.5485e-03,  1.0234e-03,  7.8749e-03]],\n",
            "\n",
            "         ...,\n",
            "\n",
            "         [[-3.8701e-03, -4.0851e-03, -2.6418e-03],\n",
            "          [ 2.9639e-03,  8.8685e-05, -2.1320e-04],\n",
            "          [-6.1319e-04, -4.0527e-04,  9.1321e-05]],\n",
            "\n",
            "         [[ 1.4869e-03, -1.9471e-03,  4.2212e-04],\n",
            "          [ 4.9056e-04,  3.9328e-03,  2.2489e-03],\n",
            "          [-5.1580e-03, -2.7198e-03,  3.8198e-03]],\n",
            "\n",
            "         [[ 7.5801e-04,  2.7620e-03, -7.0506e-03],\n",
            "          [-4.3293e-03,  8.9044e-04,  3.5357e-03],\n",
            "          [-5.2148e-03,  4.4783e-04,  3.6260e-03]]],\n",
            "\n",
            "\n",
            "        [[[ 7.0149e-03, -4.9205e-03,  7.8949e-03],\n",
            "          [ 2.1833e-03, -7.7238e-03,  1.9051e-03],\n",
            "          [ 7.3455e-03, -6.2096e-04, -8.6012e-04]],\n",
            "\n",
            "         [[-3.4495e-03, -3.9326e-04,  1.6315e-03],\n",
            "          [-3.5586e-03, -1.5027e-04, -3.0344e-03],\n",
            "          [-3.8984e-03, -5.5656e-04,  2.8463e-03]],\n",
            "\n",
            "         [[ 4.7117e-03,  3.2008e-03, -8.1117e-04],\n",
            "          [-4.3752e-03, -2.0253e-03, -2.3603e-04],\n",
            "          [ 3.4809e-03, -2.8806e-04, -1.7565e-03]],\n",
            "\n",
            "         ...,\n",
            "\n",
            "         [[ 3.6950e-03, -3.4289e-04,  2.3968e-03],\n",
            "          [ 1.5818e-03,  3.0099e-05, -1.3784e-03],\n",
            "          [-3.1205e-03,  5.5052e-03, -1.4735e-03]],\n",
            "\n",
            "         [[-9.6116e-04, -1.5487e-04,  2.2932e-03],\n",
            "          [ 3.6194e-03, -5.0170e-03,  5.9980e-03],\n",
            "          [ 1.0845e-03, -6.2865e-04, -3.7524e-03]],\n",
            "\n",
            "         [[-4.6393e-04, -1.8097e-03,  5.8324e-04],\n",
            "          [-3.5641e-03,  6.3659e-04,  5.5874e-03],\n",
            "          [-1.5321e-03, -5.0710e-04,  3.1917e-03]]],\n",
            "\n",
            "\n",
            "        ...,\n",
            "\n",
            "\n",
            "        [[[ 7.5803e-04, -1.2975e-03, -4.4712e-03],\n",
            "          [-4.9164e-03,  6.1303e-04,  4.7223e-03],\n",
            "          [-4.1280e-03, -2.1010e-04, -1.6850e-03]],\n",
            "\n",
            "         [[-3.8574e-04,  3.4841e-03, -1.4450e-03],\n",
            "          [ 3.8215e-04, -4.8220e-04, -3.7330e-03],\n",
            "          [-3.3272e-03,  3.9561e-03, -1.9336e-03]],\n",
            "\n",
            "         [[-3.6713e-03,  3.9946e-03,  4.1420e-03],\n",
            "          [ 1.0139e-03, -7.5470e-03,  1.0138e-03],\n",
            "          [ 7.3604e-03,  1.7962e-03,  1.5903e-03]],\n",
            "\n",
            "         ...,\n",
            "\n",
            "         [[ 3.0708e-04,  7.5335e-03,  4.6757e-04],\n",
            "          [ 6.6542e-03, -3.0696e-04, -1.4342e-03],\n",
            "          [-1.1467e-03,  1.5694e-03, -1.5630e-03]],\n",
            "\n",
            "         [[-1.8883e-03, -6.5889e-03, -1.2393e-03],\n",
            "          [ 1.4443e-05, -2.5963e-03,  4.9263e-03],\n",
            "          [-6.5080e-04, -6.2859e-03, -7.6130e-04]],\n",
            "\n",
            "         [[-3.5918e-03,  1.5213e-03,  5.7502e-04],\n",
            "          [-2.8572e-03, -1.4842e-03, -4.9588e-03],\n",
            "          [ 2.4240e-03, -3.1310e-03, -8.7436e-05]]],\n",
            "\n",
            "\n",
            "        [[[ 2.2454e-04, -2.6785e-03,  8.0748e-03],\n",
            "          [-4.9724e-03,  8.9726e-03,  2.3467e-03],\n",
            "          [-7.8348e-03,  7.1281e-04,  4.0337e-03]],\n",
            "\n",
            "         [[-3.8606e-03, -9.5327e-04,  9.5817e-04],\n",
            "          [-6.3797e-04,  6.8500e-03, -1.2348e-04],\n",
            "          [-1.9803e-04, -1.7059e-03,  6.1114e-05]],\n",
            "\n",
            "         [[ 6.0368e-03,  6.9609e-03,  5.4927e-04],\n",
            "          [-5.4984e-03, -5.0827e-03, -3.1932e-03],\n",
            "          [ 6.6443e-03, -5.6604e-03, -3.1056e-03]],\n",
            "\n",
            "         ...,\n",
            "\n",
            "         [[-5.1888e-03,  2.2452e-03,  9.9229e-05],\n",
            "          [ 7.1404e-04, -9.2687e-04,  6.9936e-03],\n",
            "          [ 2.3697e-03,  2.4189e-04,  6.1337e-03]],\n",
            "\n",
            "         [[-6.0492e-03, -1.2840e-03, -9.6119e-04],\n",
            "          [ 3.6579e-04,  3.7710e-04, -4.3136e-03],\n",
            "          [-1.7692e-03,  3.6245e-03, -2.2299e-03]],\n",
            "\n",
            "         [[ 1.1218e-03, -2.1444e-03,  2.0427e-03],\n",
            "          [-1.0237e-03,  4.8462e-03,  2.6700e-03],\n",
            "          [-1.9004e-04,  3.4569e-03, -3.9361e-03]]],\n",
            "\n",
            "\n",
            "        [[[ 1.5366e-03,  3.3613e-03,  1.9493e-03],\n",
            "          [ 8.1566e-03, -3.8119e-03,  9.7412e-04],\n",
            "          [-3.2558e-03,  5.6059e-03,  3.6927e-03]],\n",
            "\n",
            "         [[ 3.9073e-03, -2.8442e-04, -2.0167e-03],\n",
            "          [-5.7728e-03,  4.0493e-03,  6.8599e-04],\n",
            "          [ 7.2177e-03,  5.2278e-04, -3.7630e-04]],\n",
            "\n",
            "         [[ 2.3569e-03, -1.1957e-03,  6.2533e-03],\n",
            "          [-1.9258e-03,  4.2296e-03, -5.9210e-03],\n",
            "          [ 7.5525e-06, -6.2974e-04, -3.1256e-03]],\n",
            "\n",
            "         ...,\n",
            "\n",
            "         [[-5.1388e-03, -3.3655e-03,  9.7035e-04],\n",
            "          [-1.4356e-03, -2.1794e-03, -3.9928e-03],\n",
            "          [-7.7313e-04, -2.1370e-03, -1.3657e-04]],\n",
            "\n",
            "         [[-4.1443e-03,  5.9436e-04,  4.4888e-03],\n",
            "          [-1.8997e-03, -4.2297e-04, -1.5832e-03],\n",
            "          [-6.6943e-04,  3.1539e-04, -2.7271e-03]],\n",
            "\n",
            "         [[ 2.7575e-03,  2.3567e-03, -5.6416e-03],\n",
            "          [-1.0918e-03,  5.4295e-03, -5.9977e-03],\n",
            "          [ 2.0908e-03,  2.4401e-03, -5.1751e-03]]]], device='cuda:0',\n",
            "       requires_grad=True)\n",
            "encoder.enc_blocks.1.conv2 Conv2d(128, 128, kernel_size=(3, 3), stride=(1, 1), padding=(1, 1)) Parameter containing:\n",
            "tensor([[[[ 0.0049, -0.0010,  0.0229],\n",
            "          [-0.0104,  0.0107, -0.0242],\n",
            "          [ 0.0055,  0.0134, -0.0188]],\n",
            "\n",
            "         [[ 0.0162, -0.0102, -0.0199],\n",
            "          [-0.0272, -0.0009,  0.0045],\n",
            "          [-0.0088,  0.0272,  0.0242]],\n",
            "\n",
            "         [[-0.0243,  0.0041,  0.0085],\n",
            "          [ 0.0078, -0.0225, -0.0075],\n",
            "          [ 0.0047,  0.0272,  0.0176]],\n",
            "\n",
            "         ...,\n",
            "\n",
            "         [[-0.0083, -0.0258, -0.0035],\n",
            "          [ 0.0009, -0.0067, -0.0262],\n",
            "          [ 0.0020, -0.0217,  0.0136]],\n",
            "\n",
            "         [[ 0.0015, -0.0009, -0.0219],\n",
            "          [-0.0204,  0.0282,  0.0094],\n",
            "          [-0.0042,  0.0134,  0.0260]],\n",
            "\n",
            "         [[-0.0217, -0.0051,  0.0167],\n",
            "          [ 0.0067, -0.0243, -0.0205],\n",
            "          [-0.0065, -0.0126, -0.0173]]],\n",
            "\n",
            "\n",
            "        [[[-0.0290,  0.0270,  0.0159],\n",
            "          [-0.0119,  0.0074, -0.0276],\n",
            "          [-0.0240, -0.0083, -0.0146]],\n",
            "\n",
            "         [[ 0.0229, -0.0147, -0.0053],\n",
            "          [-0.0222,  0.0003, -0.0017],\n",
            "          [-0.0066, -0.0294, -0.0157]],\n",
            "\n",
            "         [[ 0.0262, -0.0250, -0.0281],\n",
            "          [-0.0049, -0.0032,  0.0154],\n",
            "          [ 0.0270,  0.0157, -0.0060]],\n",
            "\n",
            "         ...,\n",
            "\n",
            "         [[ 0.0037,  0.0158, -0.0039],\n",
            "          [ 0.0161, -0.0236, -0.0199],\n",
            "          [-0.0039, -0.0126, -0.0154]],\n",
            "\n",
            "         [[ 0.0105, -0.0131, -0.0083],\n",
            "          [ 0.0063, -0.0124,  0.0239],\n",
            "          [-0.0225,  0.0271,  0.0156]],\n",
            "\n",
            "         [[-0.0003,  0.0098, -0.0064],\n",
            "          [-0.0159,  0.0010,  0.0111],\n",
            "          [-0.0065, -0.0002,  0.0102]]],\n",
            "\n",
            "\n",
            "        [[[ 0.0080, -0.0010,  0.0169],\n",
            "          [-0.0074, -0.0085,  0.0111],\n",
            "          [-0.0237,  0.0147, -0.0153]],\n",
            "\n",
            "         [[-0.0069, -0.0203,  0.0005],\n",
            "          [ 0.0074,  0.0295, -0.0074],\n",
            "          [-0.0173,  0.0041,  0.0278]],\n",
            "\n",
            "         [[ 0.0167,  0.0239, -0.0003],\n",
            "          [ 0.0019, -0.0126,  0.0055],\n",
            "          [ 0.0156,  0.0096,  0.0165]],\n",
            "\n",
            "         ...,\n",
            "\n",
            "         [[ 0.0054,  0.0043, -0.0256],\n",
            "          [-0.0240,  0.0026,  0.0140],\n",
            "          [-0.0238,  0.0256,  0.0155]],\n",
            "\n",
            "         [[-0.0063, -0.0107, -0.0226],\n",
            "          [ 0.0071, -0.0157,  0.0199],\n",
            "          [-0.0148,  0.0206,  0.0240]],\n",
            "\n",
            "         [[ 0.0202, -0.0258,  0.0258],\n",
            "          [-0.0130, -0.0293, -0.0010],\n",
            "          [ 0.0045,  0.0244,  0.0125]]],\n",
            "\n",
            "\n",
            "        ...,\n",
            "\n",
            "\n",
            "        [[[ 0.0164,  0.0091, -0.0195],\n",
            "          [-0.0086, -0.0007, -0.0086],\n",
            "          [-0.0212,  0.0020,  0.0017]],\n",
            "\n",
            "         [[-0.0218, -0.0069,  0.0186],\n",
            "          [ 0.0293,  0.0182, -0.0129],\n",
            "          [-0.0068, -0.0220, -0.0045]],\n",
            "\n",
            "         [[-0.0015, -0.0029,  0.0156],\n",
            "          [-0.0204,  0.0271,  0.0184],\n",
            "          [ 0.0278, -0.0135,  0.0137]],\n",
            "\n",
            "         ...,\n",
            "\n",
            "         [[-0.0204, -0.0230, -0.0074],\n",
            "          [-0.0194, -0.0091, -0.0203],\n",
            "          [-0.0159,  0.0084, -0.0181]],\n",
            "\n",
            "         [[ 0.0078,  0.0095, -0.0086],\n",
            "          [ 0.0179,  0.0025, -0.0190],\n",
            "          [ 0.0228,  0.0083,  0.0127]],\n",
            "\n",
            "         [[-0.0021, -0.0147,  0.0087],\n",
            "          [ 0.0178,  0.0216, -0.0100],\n",
            "          [-0.0265,  0.0152, -0.0129]]],\n",
            "\n",
            "\n",
            "        [[[ 0.0146, -0.0145, -0.0221],\n",
            "          [-0.0023, -0.0174, -0.0201],\n",
            "          [ 0.0245,  0.0243,  0.0147]],\n",
            "\n",
            "         [[ 0.0031,  0.0029,  0.0095],\n",
            "          [ 0.0271, -0.0010,  0.0214],\n",
            "          [-0.0141,  0.0128,  0.0245]],\n",
            "\n",
            "         [[ 0.0004, -0.0193,  0.0179],\n",
            "          [ 0.0044,  0.0001,  0.0262],\n",
            "          [-0.0252, -0.0227, -0.0209]],\n",
            "\n",
            "         ...,\n",
            "\n",
            "         [[-0.0271,  0.0032,  0.0286],\n",
            "          [ 0.0121, -0.0100, -0.0033],\n",
            "          [-0.0010,  0.0274, -0.0180]],\n",
            "\n",
            "         [[ 0.0280, -0.0046,  0.0170],\n",
            "          [ 0.0277, -0.0059, -0.0004],\n",
            "          [ 0.0042,  0.0070, -0.0022]],\n",
            "\n",
            "         [[ 0.0156,  0.0261, -0.0180],\n",
            "          [-0.0205,  0.0141, -0.0221],\n",
            "          [ 0.0031, -0.0169, -0.0003]]],\n",
            "\n",
            "\n",
            "        [[[-0.0070, -0.0266, -0.0055],\n",
            "          [-0.0212,  0.0104, -0.0143],\n",
            "          [ 0.0224, -0.0226,  0.0229]],\n",
            "\n",
            "         [[ 0.0053, -0.0208, -0.0254],\n",
            "          [ 0.0094,  0.0107,  0.0288],\n",
            "          [-0.0064, -0.0126, -0.0042]],\n",
            "\n",
            "         [[ 0.0042,  0.0220,  0.0107],\n",
            "          [ 0.0137, -0.0269, -0.0258],\n",
            "          [ 0.0015, -0.0279,  0.0091]],\n",
            "\n",
            "         ...,\n",
            "\n",
            "         [[ 0.0291,  0.0090,  0.0075],\n",
            "          [-0.0272, -0.0184, -0.0285],\n",
            "          [-0.0194, -0.0104, -0.0020]],\n",
            "\n",
            "         [[-0.0228, -0.0286, -0.0135],\n",
            "          [ 0.0281, -0.0145, -0.0143],\n",
            "          [-0.0063, -0.0092,  0.0095]],\n",
            "\n",
            "         [[-0.0103,  0.0065, -0.0258],\n",
            "          [-0.0146, -0.0294,  0.0158],\n",
            "          [-0.0189,  0.0191,  0.0023]]]], device='cuda:0', requires_grad=True)\n",
            "encoder.enc_blocks.2.conv1 Conv2d(128, 256, kernel_size=(3, 3), stride=(1, 1), padding=(1, 1)) Parameter containing:\n",
            "tensor([[[[-5.0754e-04,  7.3256e-04,  1.1410e-03],\n",
            "          [ 3.0561e-03, -1.5271e-03, -5.2186e-04],\n",
            "          [ 2.2640e-03, -1.0997e-04,  1.2138e-03]],\n",
            "\n",
            "         [[-8.8914e-04, -6.0394e-05, -6.0604e-04],\n",
            "          [-1.1603e-03,  1.4712e-03,  2.7179e-03],\n",
            "          [-1.1137e-03, -9.5391e-04, -6.4092e-04]],\n",
            "\n",
            "         [[ 3.5594e-03, -9.2730e-04,  3.4953e-04],\n",
            "          [-1.2459e-03, -3.0035e-03, -2.8912e-04],\n",
            "          [-7.9673e-04,  1.9422e-04, -1.0731e-03]],\n",
            "\n",
            "         ...,\n",
            "\n",
            "         [[ 1.2498e-03, -1.0097e-03,  5.3496e-04],\n",
            "          [-1.8449e-03,  1.5196e-03,  1.1361e-04],\n",
            "          [ 3.8067e-03,  2.0070e-03,  1.6274e-03]],\n",
            "\n",
            "         [[-1.2025e-03,  6.7217e-04, -3.8138e-04],\n",
            "          [ 1.3863e-03,  1.5935e-03, -9.0112e-04],\n",
            "          [-1.3111e-04,  3.9231e-04, -2.8988e-03]],\n",
            "\n",
            "         [[ 1.5819e-04,  1.3378e-03,  2.1903e-03],\n",
            "          [ 1.4962e-03, -2.3432e-04,  1.8166e-03],\n",
            "          [-2.4575e-03, -1.0723e-04, -2.9760e-03]]],\n",
            "\n",
            "\n",
            "        [[[-6.1345e-04,  2.7794e-03,  1.5789e-03],\n",
            "          [-1.2062e-03, -1.8283e-03, -6.0831e-04],\n",
            "          [-9.1333e-04,  4.0373e-03,  1.0582e-03]],\n",
            "\n",
            "         [[-1.7220e-03,  2.6979e-03,  1.0856e-03],\n",
            "          [ 2.6229e-03, -1.3363e-03, -2.4099e-03],\n",
            "          [ 1.1214e-03,  3.1532e-03,  3.6766e-06]],\n",
            "\n",
            "         [[ 3.3270e-03, -2.9897e-04,  5.0328e-04],\n",
            "          [ 7.6340e-04, -1.9972e-05, -8.6092e-04],\n",
            "          [-5.5853e-04, -4.7939e-04,  3.9254e-04]],\n",
            "\n",
            "         ...,\n",
            "\n",
            "         [[ 1.2546e-04, -1.4603e-03,  2.6148e-03],\n",
            "          [ 1.9820e-03,  1.5275e-03, -2.5736e-03],\n",
            "          [-1.3201e-03,  2.3451e-03, -3.8657e-04]],\n",
            "\n",
            "         [[ 3.9836e-03,  6.0208e-04, -2.4246e-04],\n",
            "          [ 4.9391e-04,  8.9251e-04,  1.8273e-04],\n",
            "          [ 1.7706e-03, -1.5338e-03,  1.6230e-04]],\n",
            "\n",
            "         [[-2.9250e-03, -2.3339e-03,  1.0383e-04],\n",
            "          [-1.9492e-03,  1.0821e-04,  7.6284e-04],\n",
            "          [ 3.0191e-03,  1.4770e-04, -7.8379e-04]]],\n",
            "\n",
            "\n",
            "        [[[-6.6434e-04,  1.8228e-03, -5.7538e-04],\n",
            "          [-2.5393e-04,  7.8451e-04,  8.1774e-05],\n",
            "          [ 1.7716e-03,  1.1051e-03,  1.3408e-03]],\n",
            "\n",
            "         [[ 8.6432e-04,  1.4629e-03, -1.9643e-03],\n",
            "          [ 1.1451e-03, -8.1587e-04, -1.4021e-03],\n",
            "          [-4.0895e-04, -1.9323e-03, -4.4499e-04]],\n",
            "\n",
            "         [[ 6.1035e-05, -1.6370e-03, -1.3552e-03],\n",
            "          [-6.7843e-04,  1.5572e-03,  1.2613e-05],\n",
            "          [ 5.8652e-04, -2.9726e-04,  4.2036e-04]],\n",
            "\n",
            "         ...,\n",
            "\n",
            "         [[ 6.3419e-04, -3.8014e-05,  5.9902e-04],\n",
            "          [ 5.5932e-04,  8.1125e-04, -7.7672e-04],\n",
            "          [ 2.2620e-03, -6.9740e-04, -3.1085e-04]],\n",
            "\n",
            "         [[-1.0058e-03, -9.0174e-04,  2.2104e-04],\n",
            "          [-2.1537e-03,  1.4480e-03,  1.6674e-03],\n",
            "          [ 1.5408e-03,  2.4637e-03,  2.9831e-03]],\n",
            "\n",
            "         [[-8.7067e-04,  4.5792e-04,  3.1996e-03],\n",
            "          [-2.3553e-04, -1.1668e-03, -1.4355e-03],\n",
            "          [-7.4303e-04, -6.0151e-04, -1.7601e-03]]],\n",
            "\n",
            "\n",
            "        ...,\n",
            "\n",
            "\n",
            "        [[[-4.3330e-03, -4.1442e-04, -1.2637e-03],\n",
            "          [ 1.1746e-03,  4.3024e-04, -1.9129e-03],\n",
            "          [-1.1321e-03,  1.6568e-03, -2.6069e-03]],\n",
            "\n",
            "         [[-1.5286e-03, -6.1472e-04, -1.2296e-04],\n",
            "          [ 3.6983e-03, -1.9516e-03, -7.0008e-04],\n",
            "          [ 4.8068e-04,  2.5389e-04,  2.8824e-03]],\n",
            "\n",
            "         [[ 1.9871e-03,  2.4388e-03,  1.8240e-03],\n",
            "          [ 8.7941e-04, -1.6260e-04,  1.0424e-03],\n",
            "          [-1.3036e-05,  1.7332e-03,  1.3750e-03]],\n",
            "\n",
            "         ...,\n",
            "\n",
            "         [[-1.9230e-03, -5.0155e-03,  1.1957e-04],\n",
            "          [-1.7452e-03, -2.7233e-04,  1.0714e-03],\n",
            "          [-2.2283e-03, -7.0986e-04,  3.4538e-04]],\n",
            "\n",
            "         [[ 8.6796e-04,  2.2424e-03, -2.7570e-03],\n",
            "          [ 2.5444e-04, -2.8965e-03, -2.9118e-03],\n",
            "          [-9.7867e-04,  9.9555e-04, -6.9364e-04]],\n",
            "\n",
            "         [[ 7.3333e-04,  5.2646e-03, -2.0755e-03],\n",
            "          [ 3.8128e-03, -1.4186e-03,  6.3189e-04],\n",
            "          [-8.3052e-04, -3.3259e-04,  1.1646e-04]]],\n",
            "\n",
            "\n",
            "        [[[-6.1307e-04,  1.3123e-03, -2.2624e-03],\n",
            "          [-2.0251e-03, -1.9594e-04,  2.1710e-03],\n",
            "          [ 4.9071e-03,  4.1128e-03,  1.4678e-04]],\n",
            "\n",
            "         [[-4.1081e-04, -2.7015e-03, -3.5286e-04],\n",
            "          [ 1.5844e-03,  5.7213e-04,  2.9287e-04],\n",
            "          [ 1.7469e-03, -1.4256e-03, -2.0899e-03]],\n",
            "\n",
            "         [[-2.2404e-03,  2.4717e-03, -1.8590e-03],\n",
            "          [ 1.9834e-03,  1.9924e-03, -3.2422e-03],\n",
            "          [ 7.7593e-04,  1.2831e-03, -2.1971e-03]],\n",
            "\n",
            "         ...,\n",
            "\n",
            "         [[ 1.7660e-04, -9.5919e-04, -3.2157e-03],\n",
            "          [ 3.6125e-03, -4.6419e-03, -2.1508e-03],\n",
            "          [ 3.6026e-04,  1.8017e-03, -1.0049e-03]],\n",
            "\n",
            "         [[-1.5711e-03, -6.3587e-04,  9.7616e-04],\n",
            "          [-1.1476e-03,  9.7652e-04, -3.9856e-05],\n",
            "          [-4.9985e-04, -1.4701e-03, -4.1379e-04]],\n",
            "\n",
            "         [[-1.6666e-03, -5.4942e-04, -3.1367e-03],\n",
            "          [-1.0409e-03,  9.0812e-04,  3.8394e-04],\n",
            "          [ 4.0433e-03,  3.0144e-03,  1.2795e-04]]],\n",
            "\n",
            "\n",
            "        [[[ 2.7541e-04,  3.3663e-03, -5.6109e-03],\n",
            "          [-8.7265e-04,  1.8934e-03, -1.2114e-03],\n",
            "          [ 1.4672e-03,  7.3761e-04,  8.2323e-04]],\n",
            "\n",
            "         [[-1.0597e-03,  8.3420e-04,  1.6403e-04],\n",
            "          [ 1.5336e-03,  3.1269e-03, -2.7049e-03],\n",
            "          [ 1.2880e-03,  6.2772e-04,  9.9802e-04]],\n",
            "\n",
            "         [[-8.6507e-05,  1.7374e-03, -7.5285e-04],\n",
            "          [ 2.1504e-03,  2.2530e-03, -4.3417e-03],\n",
            "          [ 2.1020e-03, -5.3857e-04,  4.2503e-03]],\n",
            "\n",
            "         ...,\n",
            "\n",
            "         [[ 5.0705e-04, -1.2301e-03, -1.2081e-03],\n",
            "          [ 1.9238e-03,  2.5623e-03, -1.8454e-03],\n",
            "          [ 3.6732e-04,  1.8856e-03,  1.9786e-04]],\n",
            "\n",
            "         [[-5.6988e-04,  1.9460e-03,  1.1763e-03],\n",
            "          [ 1.5030e-03, -2.1568e-03,  4.8810e-04],\n",
            "          [ 1.6115e-03,  1.9432e-03,  2.6566e-03]],\n",
            "\n",
            "         [[ 1.9282e-03,  4.0111e-03,  1.2807e-03],\n",
            "          [-2.1952e-03, -5.8017e-04, -1.7885e-03],\n",
            "          [-3.4606e-04, -4.0856e-03, -1.0109e-03]]]], device='cuda:0',\n",
            "       requires_grad=True)\n",
            "encoder.enc_blocks.2.conv2 Conv2d(256, 256, kernel_size=(3, 3), stride=(1, 1), padding=(1, 1)) Parameter containing:\n",
            "tensor([[[[-1.3182e-02, -3.6264e-03,  1.0616e-02],\n",
            "          [ 4.2921e-03, -1.6129e-02,  3.4397e-04],\n",
            "          [-1.2561e-02,  1.2950e-02, -6.0207e-03]],\n",
            "\n",
            "         [[ 9.6624e-03,  1.8164e-02,  3.3825e-03],\n",
            "          [-2.0323e-02,  1.2828e-03,  1.6436e-02],\n",
            "          [-2.0309e-02, -6.2401e-03,  1.2575e-02]],\n",
            "\n",
            "         [[ 1.6689e-02,  8.0983e-03, -1.0212e-02],\n",
            "          [ 8.0248e-03, -1.0358e-02,  2.0685e-02],\n",
            "          [ 1.1965e-02,  1.2260e-02, -6.2643e-03]],\n",
            "\n",
            "         ...,\n",
            "\n",
            "         [[ 1.7051e-02,  1.8413e-02,  5.6914e-03],\n",
            "          [ 8.6366e-03, -1.9312e-02, -2.2008e-03],\n",
            "          [-1.0323e-02, -5.5116e-03,  1.9572e-02]],\n",
            "\n",
            "         [[-1.1975e-02,  3.1793e-03,  1.6264e-02],\n",
            "          [ 8.1657e-04, -1.8003e-02,  2.9534e-03],\n",
            "          [-1.9305e-02, -1.3284e-02, -5.5899e-03]],\n",
            "\n",
            "         [[-1.8809e-02, -1.0294e-02, -2.4200e-03],\n",
            "          [ 6.1110e-03,  1.4648e-02, -1.8001e-02],\n",
            "          [-1.3378e-02, -1.4990e-03, -4.8492e-03]]],\n",
            "\n",
            "\n",
            "        [[[-6.7315e-03,  5.1848e-03, -9.2966e-03],\n",
            "          [-4.6197e-03,  1.5904e-02, -8.5445e-03],\n",
            "          [ 1.1928e-02, -8.1863e-03, -1.6787e-02]],\n",
            "\n",
            "         [[ 1.6656e-02, -1.3613e-02,  1.4820e-02],\n",
            "          [-1.4907e-02,  2.0037e-02,  6.7803e-03],\n",
            "          [-5.9004e-03,  2.8869e-03, -9.8830e-03]],\n",
            "\n",
            "         [[ 1.5248e-02,  1.2901e-02,  1.1725e-03],\n",
            "          [-3.1442e-03, -1.5783e-02,  1.6511e-02],\n",
            "          [-7.3392e-03, -1.5389e-02,  1.7588e-02]],\n",
            "\n",
            "         ...,\n",
            "\n",
            "         [[-7.1794e-03,  1.3999e-02, -1.4059e-02],\n",
            "          [-3.2550e-03,  9.9369e-03,  1.1136e-02],\n",
            "          [-1.0925e-02,  5.3583e-03, -1.4806e-02]],\n",
            "\n",
            "         [[ 1.5203e-02,  1.7535e-03, -1.4033e-02],\n",
            "          [-1.4492e-02,  1.8056e-02, -4.7139e-03],\n",
            "          [-1.0043e-02,  1.3499e-02,  8.6018e-03]],\n",
            "\n",
            "         [[ 2.1181e-03, -1.3621e-02,  3.0850e-03],\n",
            "          [-1.3451e-02,  1.3821e-02,  1.1936e-02],\n",
            "          [ 1.9626e-03, -7.9543e-03, -1.7480e-02]]],\n",
            "\n",
            "\n",
            "        [[[-6.3113e-03, -8.2370e-03,  3.8767e-03],\n",
            "          [ 1.5124e-04, -1.8500e-02, -2.8146e-03],\n",
            "          [ 9.7635e-03,  1.8259e-02,  8.8281e-03]],\n",
            "\n",
            "         [[-1.9128e-03, -1.1569e-02,  1.9384e-02],\n",
            "          [ 1.5093e-02, -1.6980e-02, -1.5011e-02],\n",
            "          [-2.1692e-03,  1.8534e-02,  8.2577e-03]],\n",
            "\n",
            "         [[ 7.9390e-03,  1.7762e-03,  2.5101e-03],\n",
            "          [ 1.2516e-02,  3.8051e-03,  1.7207e-02],\n",
            "          [ 1.6304e-02, -5.9370e-03,  5.7368e-03]],\n",
            "\n",
            "         ...,\n",
            "\n",
            "         [[ 1.4380e-02, -5.8934e-03, -5.7287e-03],\n",
            "          [ 7.4376e-03,  8.4163e-03, -2.0255e-02],\n",
            "          [-1.1307e-02, -1.4379e-03, -9.3391e-04]],\n",
            "\n",
            "         [[-7.6383e-03, -1.0203e-02, -1.2362e-02],\n",
            "          [-4.3883e-03, -1.3537e-02,  2.2715e-03],\n",
            "          [-1.1607e-02,  3.0932e-03,  2.0055e-02]],\n",
            "\n",
            "         [[ 1.6800e-02,  7.5932e-03, -1.7277e-02],\n",
            "          [-1.9886e-02, -1.4594e-02, -1.1494e-02],\n",
            "          [ 8.8068e-03,  1.1373e-02,  8.5249e-03]]],\n",
            "\n",
            "\n",
            "        ...,\n",
            "\n",
            "\n",
            "        [[[ 3.0795e-03, -8.9727e-03,  1.8433e-02],\n",
            "          [ 8.6115e-03, -1.8184e-02,  4.4208e-03],\n",
            "          [-9.1332e-03,  2.0278e-02, -1.6530e-03]],\n",
            "\n",
            "         [[-9.4219e-03,  1.7171e-02, -1.3633e-02],\n",
            "          [ 5.2753e-03, -2.7076e-03, -1.9621e-02],\n",
            "          [ 1.9748e-03,  5.2401e-03,  9.6481e-04]],\n",
            "\n",
            "         [[ 7.6718e-03,  6.6453e-03, -1.2374e-02],\n",
            "          [ 4.4130e-03, -1.0158e-02,  2.0173e-02],\n",
            "          [ 1.0250e-02,  1.9425e-02,  9.8228e-04]],\n",
            "\n",
            "         ...,\n",
            "\n",
            "         [[ 1.9456e-02, -1.4264e-02,  1.2116e-02],\n",
            "          [ 6.8493e-03,  1.6478e-02,  1.7190e-02],\n",
            "          [ 7.6437e-03,  4.7751e-03,  6.2938e-03]],\n",
            "\n",
            "         [[-1.1296e-02,  2.1196e-03, -1.5311e-02],\n",
            "          [ 4.1273e-03,  9.4289e-03,  1.1857e-02],\n",
            "          [ 5.3819e-03,  1.1265e-02, -1.7605e-02]],\n",
            "\n",
            "         [[ 1.1882e-02, -1.9245e-02, -1.7513e-04],\n",
            "          [-3.4954e-03,  3.9021e-03, -1.7940e-02],\n",
            "          [-1.9722e-02, -8.5830e-03,  6.9266e-03]]],\n",
            "\n",
            "\n",
            "        [[[-1.1910e-02, -5.6994e-03,  5.9612e-03],\n",
            "          [-4.4338e-03, -1.2426e-02,  1.1290e-02],\n",
            "          [ 2.0343e-02,  1.1282e-02,  4.8219e-03]],\n",
            "\n",
            "         [[-1.5242e-03, -2.2258e-03, -1.8343e-02],\n",
            "          [ 1.7271e-02,  6.8889e-03, -1.3004e-02],\n",
            "          [ 3.4110e-04,  1.3602e-03, -1.4412e-02]],\n",
            "\n",
            "         [[-3.9264e-03, -6.4052e-04, -1.0296e-02],\n",
            "          [ 1.5034e-02,  1.9059e-02, -4.3796e-03],\n",
            "          [-1.7492e-02,  1.0268e-02,  1.5934e-02]],\n",
            "\n",
            "         ...,\n",
            "\n",
            "         [[ 1.1220e-02, -1.3837e-02,  5.4579e-03],\n",
            "          [-7.9574e-03, -2.9382e-03,  2.1778e-03],\n",
            "          [-4.9422e-03,  3.2551e-03, -1.9619e-02]],\n",
            "\n",
            "         [[ 1.9316e-02,  1.1868e-02, -9.6249e-03],\n",
            "          [-1.1820e-02, -6.2279e-03,  5.4880e-04],\n",
            "          [-2.0496e-02, -1.3208e-02, -2.4707e-03]],\n",
            "\n",
            "         [[-1.6597e-02,  1.4739e-02, -1.4449e-03],\n",
            "          [-5.8673e-03, -1.5102e-02,  8.6690e-06],\n",
            "          [-1.2618e-02, -1.1462e-02, -3.5186e-03]]],\n",
            "\n",
            "\n",
            "        [[[-1.2573e-02,  8.8465e-03,  1.4880e-03],\n",
            "          [ 8.9645e-03,  1.1742e-03,  3.9664e-03],\n",
            "          [-7.0172e-03,  4.3042e-03, -4.8995e-03]],\n",
            "\n",
            "         [[ 5.0685e-03,  1.9939e-03, -1.2075e-02],\n",
            "          [ 1.7560e-02, -2.9424e-03,  3.2283e-03],\n",
            "          [ 3.1272e-03, -1.0029e-02, -5.0667e-03]],\n",
            "\n",
            "         [[ 1.0093e-02,  1.9618e-02,  3.9670e-03],\n",
            "          [ 1.9489e-02,  5.4963e-03,  2.6695e-03],\n",
            "          [ 7.0934e-03, -2.0319e-02,  1.5184e-02]],\n",
            "\n",
            "         ...,\n",
            "\n",
            "         [[-1.9929e-03,  2.0615e-02, -1.2004e-02],\n",
            "          [-6.9412e-03, -1.5752e-03, -8.2041e-04],\n",
            "          [-5.8869e-03,  1.1344e-02, -6.2099e-03]],\n",
            "\n",
            "         [[-1.4467e-02, -1.4706e-02, -1.1688e-02],\n",
            "          [-1.5288e-02,  1.2815e-02,  2.2309e-03],\n",
            "          [ 5.5317e-03, -1.7832e-02, -9.4767e-03]],\n",
            "\n",
            "         [[-1.9012e-02,  1.3774e-02,  1.5941e-02],\n",
            "          [ 1.1611e-02, -1.4350e-03,  1.2312e-02],\n",
            "          [-4.3741e-03,  7.6630e-03, -1.8553e-02]]]], device='cuda:0',\n",
            "       requires_grad=True)\n",
            "encoder.pool_blks.0 Conv2d(64, 64, kernel_size=(1, 1), stride=(2, 2)) Parameter containing:\n",
            "tensor([[[[ 0.0135]],\n",
            "\n",
            "         [[-0.0362]],\n",
            "\n",
            "         [[ 0.0475]],\n",
            "\n",
            "         ...,\n",
            "\n",
            "         [[-0.0040]],\n",
            "\n",
            "         [[ 0.0043]],\n",
            "\n",
            "         [[ 0.1106]]],\n",
            "\n",
            "\n",
            "        [[[-0.0470]],\n",
            "\n",
            "         [[-0.0007]],\n",
            "\n",
            "         [[ 0.0020]],\n",
            "\n",
            "         ...,\n",
            "\n",
            "         [[-0.0603]],\n",
            "\n",
            "         [[-0.1193]],\n",
            "\n",
            "         [[ 0.0511]]],\n",
            "\n",
            "\n",
            "        [[[ 0.0341]],\n",
            "\n",
            "         [[-0.0797]],\n",
            "\n",
            "         [[ 0.0556]],\n",
            "\n",
            "         ...,\n",
            "\n",
            "         [[ 0.0856]],\n",
            "\n",
            "         [[-0.0235]],\n",
            "\n",
            "         [[ 0.0885]]],\n",
            "\n",
            "\n",
            "        ...,\n",
            "\n",
            "\n",
            "        [[[ 0.0367]],\n",
            "\n",
            "         [[-0.1143]],\n",
            "\n",
            "         [[-0.0050]],\n",
            "\n",
            "         ...,\n",
            "\n",
            "         [[-0.0039]],\n",
            "\n",
            "         [[-0.0839]],\n",
            "\n",
            "         [[-0.0435]]],\n",
            "\n",
            "\n",
            "        [[[-0.0865]],\n",
            "\n",
            "         [[ 0.1193]],\n",
            "\n",
            "         [[-0.1227]],\n",
            "\n",
            "         ...,\n",
            "\n",
            "         [[ 0.0122]],\n",
            "\n",
            "         [[-0.1137]],\n",
            "\n",
            "         [[ 0.1168]]],\n",
            "\n",
            "\n",
            "        [[[-0.0277]],\n",
            "\n",
            "         [[ 0.1142]],\n",
            "\n",
            "         [[-0.0374]],\n",
            "\n",
            "         ...,\n",
            "\n",
            "         [[ 0.0107]],\n",
            "\n",
            "         [[-0.0882]],\n",
            "\n",
            "         [[ 0.0296]]]], device='cuda:0', requires_grad=True)\n",
            "encoder.pool_blks.1 Conv2d(128, 128, kernel_size=(1, 1), stride=(2, 2)) Parameter containing:\n",
            "tensor([[[[-0.0503]],\n",
            "\n",
            "         [[-0.0180]],\n",
            "\n",
            "         [[-0.0675]],\n",
            "\n",
            "         ...,\n",
            "\n",
            "         [[-0.0211]],\n",
            "\n",
            "         [[-0.0828]],\n",
            "\n",
            "         [[ 0.0673]]],\n",
            "\n",
            "\n",
            "        [[[ 0.0220]],\n",
            "\n",
            "         [[ 0.0703]],\n",
            "\n",
            "         [[ 0.0465]],\n",
            "\n",
            "         ...,\n",
            "\n",
            "         [[-0.0651]],\n",
            "\n",
            "         [[ 0.0449]],\n",
            "\n",
            "         [[ 0.0655]]],\n",
            "\n",
            "\n",
            "        [[[ 0.0314]],\n",
            "\n",
            "         [[ 0.0561]],\n",
            "\n",
            "         [[-0.0220]],\n",
            "\n",
            "         ...,\n",
            "\n",
            "         [[ 0.0164]],\n",
            "\n",
            "         [[-0.0738]],\n",
            "\n",
            "         [[ 0.0492]]],\n",
            "\n",
            "\n",
            "        ...,\n",
            "\n",
            "\n",
            "        [[[-0.0406]],\n",
            "\n",
            "         [[ 0.0098]],\n",
            "\n",
            "         [[-0.0618]],\n",
            "\n",
            "         ...,\n",
            "\n",
            "         [[ 0.0435]],\n",
            "\n",
            "         [[-0.0498]],\n",
            "\n",
            "         [[-0.0554]]],\n",
            "\n",
            "\n",
            "        [[[-0.0400]],\n",
            "\n",
            "         [[-0.0099]],\n",
            "\n",
            "         [[-0.0829]],\n",
            "\n",
            "         ...,\n",
            "\n",
            "         [[ 0.0805]],\n",
            "\n",
            "         [[-0.0460]],\n",
            "\n",
            "         [[-0.0847]]],\n",
            "\n",
            "\n",
            "        [[[ 0.0353]],\n",
            "\n",
            "         [[-0.0837]],\n",
            "\n",
            "         [[-0.0731]],\n",
            "\n",
            "         ...,\n",
            "\n",
            "         [[-0.0402]],\n",
            "\n",
            "         [[-0.0388]],\n",
            "\n",
            "         [[-0.0161]]]], device='cuda:0', requires_grad=True)\n",
            "encoder.pool_blks.2 Conv2d(256, 256, kernel_size=(1, 1), stride=(2, 2)) Parameter containing:\n",
            "tensor([[[[-0.0131]],\n",
            "\n",
            "         [[-0.0332]],\n",
            "\n",
            "         [[-0.0161]],\n",
            "\n",
            "         ...,\n",
            "\n",
            "         [[ 0.0218]],\n",
            "\n",
            "         [[ 0.0342]],\n",
            "\n",
            "         [[ 0.0089]]],\n",
            "\n",
            "\n",
            "        [[[-0.0204]],\n",
            "\n",
            "         [[-0.0345]],\n",
            "\n",
            "         [[-0.0029]],\n",
            "\n",
            "         ...,\n",
            "\n",
            "         [[ 0.0440]],\n",
            "\n",
            "         [[ 0.0541]],\n",
            "\n",
            "         [[-0.0166]]],\n",
            "\n",
            "\n",
            "        [[[ 0.0269]],\n",
            "\n",
            "         [[-0.0421]],\n",
            "\n",
            "         [[-0.0457]],\n",
            "\n",
            "         ...,\n",
            "\n",
            "         [[ 0.0450]],\n",
            "\n",
            "         [[ 0.0025]],\n",
            "\n",
            "         [[-0.0182]]],\n",
            "\n",
            "\n",
            "        ...,\n",
            "\n",
            "\n",
            "        [[[ 0.0012]],\n",
            "\n",
            "         [[-0.0213]],\n",
            "\n",
            "         [[ 0.0545]],\n",
            "\n",
            "         ...,\n",
            "\n",
            "         [[ 0.0180]],\n",
            "\n",
            "         [[-0.0281]],\n",
            "\n",
            "         [[ 0.0382]]],\n",
            "\n",
            "\n",
            "        [[[-0.0485]],\n",
            "\n",
            "         [[ 0.0622]],\n",
            "\n",
            "         [[-0.0558]],\n",
            "\n",
            "         ...,\n",
            "\n",
            "         [[ 0.0088]],\n",
            "\n",
            "         [[ 0.0274]],\n",
            "\n",
            "         [[-0.0256]]],\n",
            "\n",
            "\n",
            "        [[[ 0.0006]],\n",
            "\n",
            "         [[-0.0449]],\n",
            "\n",
            "         [[ 0.0522]],\n",
            "\n",
            "         ...,\n",
            "\n",
            "         [[-0.0078]],\n",
            "\n",
            "         [[ 0.0577]],\n",
            "\n",
            "         [[ 0.0053]]]], device='cuda:0', requires_grad=True)\n",
            "decoder.dec_blocks.0.conv1 Conv2d(256, 128, kernel_size=(3, 3), stride=(1, 1), padding=(1, 1)) Parameter containing:\n",
            "tensor([[[[ 1.5753e-03, -3.3914e-04, -1.6892e-03],\n",
            "          [-1.6505e-03, -1.8173e-03, -4.3618e-04],\n",
            "          [-1.0862e-03,  2.7088e-03,  1.1094e-03]],\n",
            "\n",
            "         [[-1.1455e-03,  1.8505e-04,  1.2839e-03],\n",
            "          [-1.5128e-03,  2.7862e-03, -1.6986e-03],\n",
            "          [-1.0531e-03, -2.5433e-03, -1.6326e-03]],\n",
            "\n",
            "         [[ 3.6737e-03,  2.8994e-03, -1.0827e-03],\n",
            "          [ 2.3087e-03, -1.9214e-05, -9.0593e-04],\n",
            "          [ 1.5248e-04, -3.1689e-03,  3.9992e-03]],\n",
            "\n",
            "         ...,\n",
            "\n",
            "         [[ 2.4935e-03,  3.3390e-04,  2.6126e-03],\n",
            "          [ 2.4426e-03,  1.8876e-03, -2.4963e-03],\n",
            "          [-4.5013e-04,  2.2369e-03,  3.0774e-03]],\n",
            "\n",
            "         [[-8.8936e-05,  1.6745e-03, -2.0481e-03],\n",
            "          [-4.0095e-04, -1.0632e-03,  2.2069e-03],\n",
            "          [-1.0399e-03, -1.4221e-03,  2.5691e-03]],\n",
            "\n",
            "         [[-1.2810e-03, -1.3008e-03,  5.0153e-04],\n",
            "          [-3.0755e-04, -2.0749e-03,  5.0268e-04],\n",
            "          [-1.7184e-03,  2.1437e-03, -8.3290e-04]]],\n",
            "\n",
            "\n",
            "        [[[ 2.6061e-03, -2.1456e-03,  7.2771e-04],\n",
            "          [ 1.0521e-04, -1.6109e-03,  1.7253e-03],\n",
            "          [ 1.5116e-03, -3.9318e-04, -1.0170e-03]],\n",
            "\n",
            "         [[-4.5283e-04,  2.4721e-03, -2.2153e-03],\n",
            "          [-1.7518e-03, -5.6620e-04, -5.2675e-04],\n",
            "          [-3.0779e-03, -6.4237e-04,  1.4922e-03]],\n",
            "\n",
            "         [[-9.3613e-04,  8.0370e-04, -1.0294e-03],\n",
            "          [ 1.9070e-03,  4.5463e-04,  1.6209e-03],\n",
            "          [ 1.1054e-04,  2.1770e-03,  2.4593e-03]],\n",
            "\n",
            "         ...,\n",
            "\n",
            "         [[-9.6514e-04,  9.5472e-04, -2.0404e-03],\n",
            "          [ 6.8382e-04, -2.8301e-03, -1.7291e-04],\n",
            "          [-3.6285e-03,  2.1210e-03,  4.6620e-04]],\n",
            "\n",
            "         [[ 3.8085e-03, -1.8148e-03, -7.8346e-04],\n",
            "          [-8.5823e-05,  7.4095e-04,  3.1773e-04],\n",
            "          [-1.7564e-03, -1.3519e-04, -4.5202e-03]],\n",
            "\n",
            "         [[-1.3529e-03, -6.8173e-04, -1.1382e-03],\n",
            "          [-2.7096e-03, -1.4874e-03, -3.4544e-04],\n",
            "          [-3.7733e-04, -2.5551e-03,  4.1728e-04]]],\n",
            "\n",
            "\n",
            "        [[[ 1.0041e-03, -2.9074e-03, -9.1995e-04],\n",
            "          [-1.9099e-03, -8.0291e-04,  3.0192e-03],\n",
            "          [ 1.3069e-03,  1.0884e-03, -1.1290e-04]],\n",
            "\n",
            "         [[-4.0827e-04,  1.3748e-04, -5.1973e-04],\n",
            "          [ 1.1814e-03, -1.0935e-03,  1.7044e-03],\n",
            "          [-2.3277e-03,  1.4719e-03,  1.5039e-03]],\n",
            "\n",
            "         [[ 1.1259e-03, -7.3080e-04,  2.2704e-03],\n",
            "          [-3.0713e-03, -1.2125e-03,  8.6181e-04],\n",
            "          [ 1.6986e-03, -2.5231e-03, -4.2695e-03]],\n",
            "\n",
            "         ...,\n",
            "\n",
            "         [[-2.1302e-03,  8.8462e-04,  3.7196e-04],\n",
            "          [ 3.9112e-03,  2.5166e-03, -1.6938e-03],\n",
            "          [-1.5888e-03,  4.1180e-03, -2.0256e-03]],\n",
            "\n",
            "         [[-3.9383e-03, -1.5013e-03, -1.9358e-04],\n",
            "          [ 2.6125e-03,  1.0946e-03,  1.6171e-03],\n",
            "          [ 1.6939e-03,  4.1037e-04, -6.4300e-04]],\n",
            "\n",
            "         [[ 2.3634e-04, -4.1413e-04, -8.5591e-04],\n",
            "          [ 5.7269e-04,  4.7761e-03, -8.5970e-06],\n",
            "          [ 9.4917e-04, -1.1035e-05, -4.3388e-04]]],\n",
            "\n",
            "\n",
            "        ...,\n",
            "\n",
            "\n",
            "        [[[ 8.9550e-04, -3.0434e-03, -1.0272e-03],\n",
            "          [ 2.9462e-04, -1.6443e-03,  8.5169e-04],\n",
            "          [ 6.3395e-04,  8.1853e-04,  3.3567e-04]],\n",
            "\n",
            "         [[-2.0059e-03, -2.0580e-03,  3.0914e-03],\n",
            "          [ 2.0405e-03,  1.6286e-03, -1.6224e-03],\n",
            "          [-1.0652e-04,  4.0422e-04,  3.4439e-04]],\n",
            "\n",
            "         [[ 4.3010e-04, -7.5720e-04,  2.3519e-03],\n",
            "          [ 2.7211e-03,  4.1031e-03,  5.0451e-04],\n",
            "          [-9.3918e-04, -1.6371e-03,  4.4509e-04]],\n",
            "\n",
            "         ...,\n",
            "\n",
            "         [[ 1.8602e-03, -1.9584e-03, -1.9308e-04],\n",
            "          [ 1.4895e-03, -1.0839e-03, -9.0725e-04],\n",
            "          [-1.1093e-03, -1.4445e-03,  1.6992e-03]],\n",
            "\n",
            "         [[ 2.4431e-03,  1.6592e-03, -2.5170e-03],\n",
            "          [ 3.5873e-03, -2.3848e-03, -2.0794e-04],\n",
            "          [-7.1077e-05,  7.3135e-04,  3.2883e-04]],\n",
            "\n",
            "         [[-1.4148e-03,  3.5486e-03,  2.0104e-03],\n",
            "          [-1.0681e-03, -8.0264e-04, -4.0318e-04],\n",
            "          [-1.9703e-03,  2.1986e-03,  1.8689e-05]]],\n",
            "\n",
            "\n",
            "        [[[-2.2566e-05,  1.7095e-03,  1.3522e-03],\n",
            "          [-4.5299e-03, -1.9032e-03, -1.9513e-03],\n",
            "          [-8.2401e-04, -9.5342e-04,  2.8763e-03]],\n",
            "\n",
            "         [[ 2.6793e-03,  1.5311e-03, -6.2353e-04],\n",
            "          [ 1.7937e-03, -1.2882e-03,  1.6031e-03],\n",
            "          [-3.1595e-03, -1.0923e-03,  4.4571e-04]],\n",
            "\n",
            "         [[ 2.1554e-03, -1.0870e-03, -2.8960e-03],\n",
            "          [-8.8451e-04,  1.5030e-03,  1.8759e-03],\n",
            "          [ 1.2448e-03,  7.4698e-04, -1.8317e-03]],\n",
            "\n",
            "         ...,\n",
            "\n",
            "         [[-2.4877e-04, -2.2736e-03, -2.2212e-03],\n",
            "          [ 1.4534e-03, -5.5611e-04,  2.9911e-03],\n",
            "          [-1.4848e-04,  1.1646e-03, -2.2130e-03]],\n",
            "\n",
            "         [[ 9.9862e-05,  3.0178e-03, -1.8731e-03],\n",
            "          [ 1.3911e-03, -9.4762e-04, -2.9523e-03],\n",
            "          [ 7.7873e-05,  3.6508e-04, -1.7883e-03]],\n",
            "\n",
            "         [[ 2.5221e-04, -3.0890e-03,  5.3042e-05],\n",
            "          [-1.8216e-03,  2.7725e-04, -7.6702e-05],\n",
            "          [ 3.8006e-04, -3.4956e-04, -3.8986e-04]]],\n",
            "\n",
            "\n",
            "        [[[ 3.2891e-04, -4.5082e-04, -1.7765e-04],\n",
            "          [ 8.8017e-04,  4.9368e-04,  1.4776e-04],\n",
            "          [ 1.6986e-03,  9.2480e-04, -3.0872e-03]],\n",
            "\n",
            "         [[-2.3734e-03,  2.9446e-04, -1.1814e-03],\n",
            "          [-6.8061e-04,  2.1689e-03, -1.8621e-03],\n",
            "          [-1.4597e-03, -1.2753e-04,  1.7254e-03]],\n",
            "\n",
            "         [[-1.9906e-03, -8.6337e-04, -1.7819e-03],\n",
            "          [ 6.5084e-04, -7.5073e-04,  4.3050e-04],\n",
            "          [ 2.5343e-03,  9.8701e-04,  5.7557e-04]],\n",
            "\n",
            "         ...,\n",
            "\n",
            "         [[ 2.9757e-04, -3.1823e-03, -6.6204e-04],\n",
            "          [-3.0629e-04,  2.3005e-04,  9.5400e-04],\n",
            "          [ 3.3030e-03,  2.4082e-04, -1.8618e-03]],\n",
            "\n",
            "         [[-5.3714e-04, -4.3948e-04, -5.1352e-04],\n",
            "          [ 4.4886e-03,  2.0897e-03,  2.9874e-04],\n",
            "          [ 5.1294e-04,  1.8046e-03,  2.1309e-03]],\n",
            "\n",
            "         [[-4.0625e-04, -2.3067e-04, -1.4385e-03],\n",
            "          [-1.6102e-03,  1.6522e-03, -2.3590e-03],\n",
            "          [-1.5981e-03, -3.5450e-03,  2.0031e-04]]]], device='cuda:0',\n",
            "       requires_grad=True)\n",
            "decoder.dec_blocks.0.conv2 Conv2d(128, 128, kernel_size=(3, 3), stride=(1, 1), padding=(1, 1)) Parameter containing:\n",
            "tensor([[[[ 0.0247,  0.0152,  0.0289],\n",
            "          [ 0.0286,  0.0064,  0.0294],\n",
            "          [-0.0242,  0.0039,  0.0062]],\n",
            "\n",
            "         [[ 0.0070, -0.0280,  0.0188],\n",
            "          [ 0.0071, -0.0282,  0.0078],\n",
            "          [-0.0203,  0.0224,  0.0287]],\n",
            "\n",
            "         [[ 0.0166, -0.0036, -0.0226],\n",
            "          [-0.0131,  0.0187,  0.0186],\n",
            "          [ 0.0137,  0.0132, -0.0195]],\n",
            "\n",
            "         ...,\n",
            "\n",
            "         [[ 0.0222, -0.0005, -0.0126],\n",
            "          [-0.0238, -0.0112, -0.0030],\n",
            "          [ 0.0197, -0.0066,  0.0107]],\n",
            "\n",
            "         [[-0.0154,  0.0198, -0.0026],\n",
            "          [-0.0275,  0.0054,  0.0160],\n",
            "          [ 0.0113, -0.0096,  0.0260]],\n",
            "\n",
            "         [[ 0.0285,  0.0008, -0.0246],\n",
            "          [ 0.0146,  0.0050, -0.0168],\n",
            "          [ 0.0047,  0.0025, -0.0295]]],\n",
            "\n",
            "\n",
            "        [[[-0.0178,  0.0082, -0.0185],\n",
            "          [ 0.0007,  0.0150,  0.0098],\n",
            "          [ 0.0006,  0.0228,  0.0265]],\n",
            "\n",
            "         [[-0.0085, -0.0069, -0.0199],\n",
            "          [ 0.0073,  0.0159,  0.0228],\n",
            "          [-0.0114, -0.0053, -0.0282]],\n",
            "\n",
            "         [[-0.0232,  0.0148, -0.0115],\n",
            "          [-0.0202,  0.0222, -0.0187],\n",
            "          [-0.0194, -0.0030, -0.0012]],\n",
            "\n",
            "         ...,\n",
            "\n",
            "         [[-0.0067, -0.0019,  0.0223],\n",
            "          [-0.0258,  0.0175,  0.0249],\n",
            "          [ 0.0272, -0.0251,  0.0144]],\n",
            "\n",
            "         [[ 0.0174,  0.0279,  0.0088],\n",
            "          [ 0.0008,  0.0062,  0.0046],\n",
            "          [ 0.0181, -0.0087, -0.0125]],\n",
            "\n",
            "         [[ 0.0088, -0.0116,  0.0087],\n",
            "          [-0.0222,  0.0030,  0.0261],\n",
            "          [-0.0189,  0.0004,  0.0240]]],\n",
            "\n",
            "\n",
            "        [[[ 0.0094,  0.0231, -0.0134],\n",
            "          [ 0.0210, -0.0256,  0.0233],\n",
            "          [-0.0155, -0.0155,  0.0050]],\n",
            "\n",
            "         [[-0.0254, -0.0236, -0.0207],\n",
            "          [ 0.0183, -0.0010,  0.0201],\n",
            "          [-0.0146,  0.0110,  0.0253]],\n",
            "\n",
            "         [[ 0.0029,  0.0041, -0.0113],\n",
            "          [-0.0029,  0.0073, -0.0030],\n",
            "          [ 0.0057,  0.0054,  0.0170]],\n",
            "\n",
            "         ...,\n",
            "\n",
            "         [[ 0.0161, -0.0230,  0.0024],\n",
            "          [ 0.0038, -0.0246, -0.0148],\n",
            "          [-0.0102, -0.0163, -0.0202]],\n",
            "\n",
            "         [[ 0.0083,  0.0136, -0.0123],\n",
            "          [-0.0172,  0.0095, -0.0281],\n",
            "          [-0.0121,  0.0264,  0.0052]],\n",
            "\n",
            "         [[ 0.0073,  0.0135,  0.0137],\n",
            "          [ 0.0251,  0.0055,  0.0164],\n",
            "          [ 0.0233,  0.0291, -0.0069]]],\n",
            "\n",
            "\n",
            "        ...,\n",
            "\n",
            "\n",
            "        [[[ 0.0066, -0.0167,  0.0096],\n",
            "          [-0.0140,  0.0164,  0.0278],\n",
            "          [-0.0029, -0.0243,  0.0291]],\n",
            "\n",
            "         [[ 0.0188,  0.0002, -0.0027],\n",
            "          [-0.0085, -0.0272, -0.0289],\n",
            "          [-0.0151,  0.0032,  0.0097]],\n",
            "\n",
            "         [[ 0.0246, -0.0208, -0.0133],\n",
            "          [-0.0156,  0.0287,  0.0180],\n",
            "          [-0.0208, -0.0089, -0.0153]],\n",
            "\n",
            "         ...,\n",
            "\n",
            "         [[ 0.0018, -0.0065,  0.0283],\n",
            "          [ 0.0215,  0.0024, -0.0225],\n",
            "          [ 0.0197,  0.0090, -0.0099]],\n",
            "\n",
            "         [[-0.0075, -0.0058,  0.0243],\n",
            "          [-0.0206, -0.0005,  0.0110],\n",
            "          [-0.0045, -0.0142, -0.0062]],\n",
            "\n",
            "         [[ 0.0278,  0.0132,  0.0139],\n",
            "          [ 0.0071,  0.0025,  0.0248],\n",
            "          [-0.0260,  0.0055,  0.0140]]],\n",
            "\n",
            "\n",
            "        [[[-0.0194, -0.0084,  0.0157],\n",
            "          [-0.0141,  0.0195,  0.0033],\n",
            "          [ 0.0230, -0.0066,  0.0135]],\n",
            "\n",
            "         [[ 0.0221,  0.0089,  0.0240],\n",
            "          [ 0.0077,  0.0071,  0.0014],\n",
            "          [-0.0118,  0.0003,  0.0090]],\n",
            "\n",
            "         [[-0.0162,  0.0206,  0.0140],\n",
            "          [-0.0139,  0.0014,  0.0213],\n",
            "          [-0.0057, -0.0099, -0.0208]],\n",
            "\n",
            "         ...,\n",
            "\n",
            "         [[ 0.0036, -0.0283, -0.0022],\n",
            "          [-0.0250,  0.0163,  0.0281],\n",
            "          [-0.0025,  0.0171,  0.0006]],\n",
            "\n",
            "         [[ 0.0261, -0.0003, -0.0052],\n",
            "          [-0.0127, -0.0213,  0.0215],\n",
            "          [ 0.0075, -0.0143,  0.0178]],\n",
            "\n",
            "         [[-0.0138,  0.0173,  0.0027],\n",
            "          [-0.0275,  0.0023, -0.0176],\n",
            "          [-0.0291, -0.0232, -0.0216]]],\n",
            "\n",
            "\n",
            "        [[[-0.0049,  0.0020, -0.0165],\n",
            "          [ 0.0234,  0.0195,  0.0129],\n",
            "          [ 0.0200,  0.0270, -0.0119]],\n",
            "\n",
            "         [[ 0.0175,  0.0146, -0.0175],\n",
            "          [ 0.0140, -0.0199,  0.0142],\n",
            "          [ 0.0213, -0.0126, -0.0161]],\n",
            "\n",
            "         [[-0.0132,  0.0030, -0.0057],\n",
            "          [-0.0029,  0.0183, -0.0267],\n",
            "          [ 0.0081,  0.0135, -0.0247]],\n",
            "\n",
            "         ...,\n",
            "\n",
            "         [[ 0.0148, -0.0049, -0.0282],\n",
            "          [ 0.0075, -0.0122, -0.0128],\n",
            "          [-0.0191,  0.0217, -0.0086]],\n",
            "\n",
            "         [[-0.0026, -0.0183, -0.0037],\n",
            "          [ 0.0129, -0.0109,  0.0188],\n",
            "          [-0.0227,  0.0209, -0.0061]],\n",
            "\n",
            "         [[ 0.0032,  0.0086,  0.0134],\n",
            "          [-0.0237, -0.0103,  0.0196],\n",
            "          [ 0.0226, -0.0082,  0.0228]]]], device='cuda:0', requires_grad=True)\n",
            "decoder.dec_blocks.1.conv1 Conv2d(128, 64, kernel_size=(3, 3), stride=(1, 1), padding=(1, 1)) Parameter containing:\n",
            "tensor([[[[-1.5840e-03,  5.4858e-03, -6.8294e-04],\n",
            "          [-1.7520e-03, -7.8750e-04,  1.5034e-03],\n",
            "          [ 5.5579e-03, -3.8319e-03, -6.2288e-03]],\n",
            "\n",
            "         [[ 2.3794e-03,  2.0071e-03, -2.5426e-03],\n",
            "          [-3.9723e-03,  1.7358e-03, -5.2240e-03],\n",
            "          [-6.3393e-03,  2.7584e-03, -5.2096e-03]],\n",
            "\n",
            "         [[-2.4523e-04,  1.2664e-03, -3.3335e-03],\n",
            "          [ 1.6436e-03, -2.3453e-04, -9.5256e-03],\n",
            "          [ 3.9629e-03,  8.6033e-04,  6.1066e-03]],\n",
            "\n",
            "         ...,\n",
            "\n",
            "         [[ 3.2018e-03, -2.4071e-03,  5.2286e-03],\n",
            "          [-5.2696e-03, -7.4101e-03,  3.4429e-03],\n",
            "          [-1.6339e-03,  3.3898e-03,  7.4960e-04]],\n",
            "\n",
            "         [[ 2.0045e-03,  4.2359e-03,  5.0751e-03],\n",
            "          [-1.7929e-03,  2.8356e-04,  1.4778e-03],\n",
            "          [ 6.1361e-04, -5.0272e-03, -3.1357e-04]],\n",
            "\n",
            "         [[ 2.1815e-03,  1.8622e-03, -4.4963e-04],\n",
            "          [-4.4283e-03,  1.4896e-03,  1.9902e-03],\n",
            "          [ 1.9976e-03, -4.3944e-03, -5.1091e-03]]],\n",
            "\n",
            "\n",
            "        [[[-2.2843e-03, -2.8194e-03, -8.0664e-04],\n",
            "          [ 4.7603e-03,  5.7269e-05, -4.9630e-03],\n",
            "          [-1.3564e-03,  2.9678e-03, -1.5524e-03]],\n",
            "\n",
            "         [[-4.2961e-04, -2.6644e-03, -1.6280e-03],\n",
            "          [ 1.1902e-03,  2.4804e-03,  1.3151e-04],\n",
            "          [ 5.1372e-03,  2.0978e-03,  3.6933e-03]],\n",
            "\n",
            "         [[-4.5282e-03,  3.9599e-03, -3.1581e-03],\n",
            "          [ 6.2071e-04,  6.4991e-04, -2.9921e-04],\n",
            "          [ 1.9660e-03,  1.0419e-03, -3.7463e-03]],\n",
            "\n",
            "         ...,\n",
            "\n",
            "         [[-5.4072e-05,  3.4666e-03, -5.3592e-03],\n",
            "          [ 2.0936e-03,  3.1811e-03, -2.8875e-03],\n",
            "          [ 5.5389e-04, -9.2083e-04, -7.4316e-03]],\n",
            "\n",
            "         [[ 1.8490e-03,  3.0849e-03, -4.7727e-03],\n",
            "          [ 9.0817e-03,  7.5809e-03,  9.0286e-04],\n",
            "          [-5.5562e-03, -9.1179e-04,  3.2313e-03]],\n",
            "\n",
            "         [[ 6.7162e-04, -3.2237e-03, -1.3209e-03],\n",
            "          [-2.2286e-03,  4.5157e-03,  8.9824e-04],\n",
            "          [-2.0783e-04, -1.0373e-03, -9.1867e-04]]],\n",
            "\n",
            "\n",
            "        [[[ 4.6917e-03, -3.7825e-03, -2.2362e-03],\n",
            "          [-3.4480e-03,  6.9992e-03, -1.5673e-04],\n",
            "          [-3.7334e-03,  2.0517e-03,  1.6059e-03]],\n",
            "\n",
            "         [[ 5.7412e-03,  8.9131e-04,  4.8876e-03],\n",
            "          [ 2.3084e-03,  9.5687e-04,  2.5731e-03],\n",
            "          [ 7.3547e-03,  2.7657e-03,  6.2470e-03]],\n",
            "\n",
            "         [[ 4.9480e-03,  6.5592e-04, -5.4845e-04],\n",
            "          [-2.1756e-03, -4.4824e-03, -9.0423e-04],\n",
            "          [-2.2435e-03, -1.5959e-03, -2.4858e-04]],\n",
            "\n",
            "         ...,\n",
            "\n",
            "         [[ 2.3044e-03,  1.5933e-03,  2.2633e-03],\n",
            "          [ 2.2426e-04, -5.8275e-03,  1.9935e-03],\n",
            "          [ 7.4579e-03,  1.2314e-03,  6.8745e-04]],\n",
            "\n",
            "         [[ 5.4188e-03, -5.3183e-04,  3.7942e-04],\n",
            "          [-3.6854e-03,  2.3911e-03, -1.8101e-04],\n",
            "          [ 8.8470e-03, -4.8163e-03,  4.1438e-03]],\n",
            "\n",
            "         [[ 1.3215e-03,  1.3150e-03, -1.0457e-03],\n",
            "          [ 4.7180e-03, -1.7052e-03,  1.9429e-03],\n",
            "          [ 9.5692e-04,  1.4096e-03, -1.3420e-03]]],\n",
            "\n",
            "\n",
            "        ...,\n",
            "\n",
            "\n",
            "        [[[-2.7790e-03, -1.6646e-03,  7.0520e-03],\n",
            "          [ 8.9200e-04, -1.8991e-03,  2.0602e-03],\n",
            "          [-1.8757e-03,  3.6261e-03,  2.6084e-03]],\n",
            "\n",
            "         [[ 4.1796e-03,  9.7830e-04, -5.2956e-03],\n",
            "          [-1.4652e-03,  1.2411e-03,  1.4336e-03],\n",
            "          [ 2.1184e-03,  4.3521e-03,  3.1179e-03]],\n",
            "\n",
            "         [[ 4.5227e-03,  3.3009e-03,  5.1617e-04],\n",
            "          [ 7.0309e-03, -5.9854e-03, -1.9431e-03],\n",
            "          [ 8.6425e-03,  1.0783e-03, -1.3203e-03]],\n",
            "\n",
            "         ...,\n",
            "\n",
            "         [[-4.6606e-03, -2.0639e-03,  3.0604e-03],\n",
            "          [ 2.6036e-03, -2.0087e-03,  1.6294e-04],\n",
            "          [ 1.3319e-03,  8.8146e-03, -9.6448e-04]],\n",
            "\n",
            "         [[-7.6972e-03,  3.7938e-03,  4.0494e-03],\n",
            "          [-3.3362e-03, -3.6514e-04,  1.9514e-03],\n",
            "          [-1.1757e-04,  3.9842e-03,  5.1497e-03]],\n",
            "\n",
            "         [[ 7.9387e-04,  1.0987e-03, -1.4640e-03],\n",
            "          [-1.8875e-03, -4.3446e-03,  4.7119e-03],\n",
            "          [-7.7067e-04, -4.1174e-03, -4.5830e-03]]],\n",
            "\n",
            "\n",
            "        [[[ 8.5980e-04, -3.5769e-03,  2.4181e-04],\n",
            "          [-2.2338e-04, -2.2201e-03,  1.6717e-03],\n",
            "          [ 5.5835e-03,  3.6502e-03,  7.6447e-03]],\n",
            "\n",
            "         [[ 6.4499e-03, -3.7920e-03,  1.8059e-03],\n",
            "          [ 1.8251e-03,  1.0063e-03,  4.4508e-03],\n",
            "          [ 1.5179e-03,  1.6722e-03, -4.5213e-03]],\n",
            "\n",
            "         [[ 4.8473e-04,  2.2492e-03, -3.2414e-03],\n",
            "          [ 1.7902e-03, -4.8510e-03,  4.5251e-04],\n",
            "          [-1.1571e-03,  9.6847e-03,  1.5467e-03]],\n",
            "\n",
            "         ...,\n",
            "\n",
            "         [[-2.7248e-03,  1.4197e-03, -2.5289e-03],\n",
            "          [ 3.9195e-03, -2.2297e-05, -3.7067e-03],\n",
            "          [ 8.0411e-03, -9.8636e-04,  1.0493e-03]],\n",
            "\n",
            "         [[ 6.4675e-04, -1.6688e-03,  1.8589e-03],\n",
            "          [ 7.1894e-04, -3.3865e-03,  1.9294e-03],\n",
            "          [-1.0013e-02, -1.4424e-03, -1.1873e-03]],\n",
            "\n",
            "         [[-4.4766e-03, -2.5102e-03, -1.6550e-03],\n",
            "          [-1.8798e-03,  5.1655e-03,  4.5087e-03],\n",
            "          [-3.9082e-03, -2.3162e-03, -2.9448e-04]]],\n",
            "\n",
            "\n",
            "        [[[-4.0069e-03,  2.5227e-03, -5.0001e-03],\n",
            "          [-3.9132e-03,  3.2002e-03, -4.2791e-03],\n",
            "          [ 3.8037e-03, -2.4432e-03,  3.2139e-04]],\n",
            "\n",
            "         [[-9.6459e-04, -2.5181e-03, -1.6947e-03],\n",
            "          [ 4.3042e-03,  2.7717e-03,  1.1926e-03],\n",
            "          [-2.2962e-03, -6.6152e-03,  5.7453e-04]],\n",
            "\n",
            "         [[-2.6598e-04,  8.5154e-04, -2.2906e-03],\n",
            "          [ 1.2977e-03, -6.3762e-03, -4.0338e-03],\n",
            "          [ 1.1006e-03,  3.6385e-04,  8.4931e-04]],\n",
            "\n",
            "         ...,\n",
            "\n",
            "         [[ 1.4512e-03,  3.6145e-03, -2.9835e-03],\n",
            "          [-2.7997e-03,  5.2387e-03, -1.6729e-03],\n",
            "          [-1.8338e-03, -2.9704e-03,  4.2806e-05]],\n",
            "\n",
            "         [[ 2.1542e-03,  1.6157e-03, -7.4266e-03],\n",
            "          [-6.7814e-03,  3.6110e-04,  9.6907e-04],\n",
            "          [-9.3361e-04, -7.0896e-03, -1.1056e-03]],\n",
            "\n",
            "         [[ 1.9323e-03, -4.9352e-04,  3.3676e-03],\n",
            "          [-6.7239e-03, -1.2818e-03, -1.3587e-03],\n",
            "          [ 4.0963e-03,  8.1776e-03, -3.5709e-04]]]], device='cuda:0',\n",
            "       requires_grad=True)\n",
            "decoder.dec_blocks.1.conv2 Conv2d(64, 64, kernel_size=(3, 3), stride=(1, 1), padding=(1, 1)) Parameter containing:\n",
            "tensor([[[[-7.4065e-04, -3.8794e-02, -1.4134e-02],\n",
            "          [ 5.4483e-03, -1.4550e-02,  1.8716e-02],\n",
            "          [ 3.5233e-02,  3.9991e-02, -1.6865e-02]],\n",
            "\n",
            "         [[-2.3547e-02,  6.8365e-03,  3.6888e-03],\n",
            "          [ 9.3087e-03, -5.8678e-03, -7.2482e-03],\n",
            "          [-1.8999e-02,  1.3800e-02,  7.1694e-03]],\n",
            "\n",
            "         [[ 6.1116e-03, -2.2851e-02, -3.6958e-03],\n",
            "          [ 3.6533e-02, -9.8728e-03,  1.5990e-02],\n",
            "          [-1.7622e-02,  1.1309e-02,  4.7057e-03]],\n",
            "\n",
            "         ...,\n",
            "\n",
            "         [[ 1.3343e-02,  3.3372e-02,  9.3843e-03],\n",
            "          [-3.2332e-03, -3.5392e-02, -4.9953e-03],\n",
            "          [ 2.8408e-02,  3.6764e-02,  2.1494e-03]],\n",
            "\n",
            "         [[-1.6122e-02,  3.2241e-02,  3.2422e-03],\n",
            "          [-1.8258e-02, -2.4144e-03, -1.4205e-04],\n",
            "          [-1.3156e-02, -2.1703e-02, -3.0377e-02]],\n",
            "\n",
            "         [[-1.1894e-02, -3.5430e-02,  1.9456e-02],\n",
            "          [-2.4245e-02, -1.0933e-02,  1.3886e-02],\n",
            "          [-1.9984e-02, -1.7734e-02,  2.7610e-02]]],\n",
            "\n",
            "\n",
            "        [[[ 1.4028e-02, -3.2272e-02,  1.0038e-02],\n",
            "          [ 2.1257e-02,  4.7677e-03,  3.6786e-02],\n",
            "          [-5.0644e-03,  3.1215e-02,  2.2963e-02]],\n",
            "\n",
            "         [[-3.9080e-05,  2.7707e-02,  1.9213e-02],\n",
            "          [-2.9463e-02,  2.0410e-02,  3.7719e-02],\n",
            "          [-2.1946e-02, -3.6385e-02, -2.6233e-02]],\n",
            "\n",
            "         [[-1.2879e-02,  6.1928e-03, -1.8298e-02],\n",
            "          [ 1.0206e-02, -4.0968e-02, -3.7233e-02],\n",
            "          [-3.5766e-02, -1.9438e-02, -1.5202e-02]],\n",
            "\n",
            "         ...,\n",
            "\n",
            "         [[-3.8364e-02,  2.8721e-02, -1.4333e-02],\n",
            "          [-1.9537e-02,  4.1191e-03,  3.5814e-02],\n",
            "          [-1.9603e-03, -2.4245e-02, -3.0342e-02]],\n",
            "\n",
            "         [[-9.1304e-03, -3.0882e-02, -2.4088e-02],\n",
            "          [-6.4475e-03, -3.3492e-02,  3.8207e-02],\n",
            "          [ 1.5152e-02,  1.4273e-02,  3.5137e-02]],\n",
            "\n",
            "         [[ 1.4120e-02, -1.1351e-02,  2.6353e-02],\n",
            "          [ 2.1009e-02, -1.3771e-02,  5.6148e-03],\n",
            "          [-1.1573e-02, -3.2155e-02,  2.2998e-02]]],\n",
            "\n",
            "\n",
            "        [[[-4.0048e-02,  1.3533e-02,  1.5625e-02],\n",
            "          [ 1.4040e-02,  3.6488e-02,  1.7072e-02],\n",
            "          [-2.9442e-02,  3.8545e-02, -7.8707e-03]],\n",
            "\n",
            "         [[ 2.8405e-03, -1.8346e-02,  2.0362e-02],\n",
            "          [-2.9730e-02, -5.9486e-03,  1.6413e-02],\n",
            "          [ 5.9036e-03, -3.7752e-02,  2.3274e-02]],\n",
            "\n",
            "         [[ 4.0176e-02, -4.4831e-03, -3.6926e-02],\n",
            "          [-1.8203e-03,  1.0352e-02,  3.0521e-02],\n",
            "          [-1.4280e-02, -2.8214e-02,  3.4673e-02]],\n",
            "\n",
            "         ...,\n",
            "\n",
            "         [[ 4.0728e-02, -9.7589e-03,  3.7597e-03],\n",
            "          [ 1.0479e-02,  2.7637e-02,  3.5782e-02],\n",
            "          [ 7.8760e-04,  1.9227e-02, -1.4546e-03]],\n",
            "\n",
            "         [[-8.7758e-03,  6.9964e-03, -2.7114e-02],\n",
            "          [ 2.3730e-02,  1.9030e-02, -2.3528e-02],\n",
            "          [ 3.0637e-02, -4.1185e-02,  1.2891e-02]],\n",
            "\n",
            "         [[ 4.0859e-02, -3.9336e-02, -1.6777e-02],\n",
            "          [ 4.3381e-03, -3.3937e-02,  1.0964e-02],\n",
            "          [ 5.3263e-03,  1.6912e-02, -2.8333e-02]]],\n",
            "\n",
            "\n",
            "        ...,\n",
            "\n",
            "\n",
            "        [[[-3.7612e-02, -2.4377e-02, -1.8325e-02],\n",
            "          [ 2.9471e-02,  2.0208e-03, -2.7175e-03],\n",
            "          [ 1.8734e-02,  3.9099e-03,  2.0480e-02]],\n",
            "\n",
            "         [[ 6.8894e-03, -2.9473e-02,  6.1011e-03],\n",
            "          [ 3.3048e-02, -2.4805e-02, -3.2369e-02],\n",
            "          [-3.9778e-02,  1.8918e-02,  7.2562e-03]],\n",
            "\n",
            "         [[ 1.6587e-02, -2.4944e-02, -4.5045e-03],\n",
            "          [-2.6427e-02, -1.0542e-02, -3.5762e-02],\n",
            "          [ 2.2636e-02, -1.3136e-02,  8.3722e-03]],\n",
            "\n",
            "         ...,\n",
            "\n",
            "         [[-2.4320e-02,  8.4735e-03,  1.3177e-02],\n",
            "          [-2.8355e-02, -3.8501e-02, -3.4698e-02],\n",
            "          [-2.3065e-02,  4.7331e-04, -2.1894e-02]],\n",
            "\n",
            "         [[-1.1568e-02, -2.1328e-02,  1.0473e-02],\n",
            "          [ 3.9439e-02,  6.7236e-03,  3.2432e-03],\n",
            "          [ 3.8264e-02, -3.0162e-02,  2.1340e-02]],\n",
            "\n",
            "         [[ 3.2839e-02, -1.5328e-02,  2.2625e-02],\n",
            "          [ 4.0913e-02, -4.0279e-02, -1.6413e-02],\n",
            "          [ 1.5095e-02,  1.9169e-02,  2.0153e-02]]],\n",
            "\n",
            "\n",
            "        [[[-3.5513e-03,  1.6024e-02,  3.1141e-02],\n",
            "          [-2.7715e-02, -7.1370e-03,  1.2491e-02],\n",
            "          [-3.7749e-02, -3.1695e-02, -1.3531e-03]],\n",
            "\n",
            "         [[ 2.8939e-02, -3.4650e-02,  2.0357e-02],\n",
            "          [ 1.1152e-02, -2.0579e-02, -1.0168e-02],\n",
            "          [ 1.2105e-02, -1.2822e-02,  3.5030e-02]],\n",
            "\n",
            "         [[ 8.4997e-03,  4.0860e-02,  1.9009e-02],\n",
            "          [-2.2581e-02,  1.5590e-02, -6.0537e-04],\n",
            "          [-2.3727e-02, -2.1419e-02, -4.2960e-03]],\n",
            "\n",
            "         ...,\n",
            "\n",
            "         [[-4.0198e-02, -6.0254e-03,  3.9332e-02],\n",
            "          [-1.5596e-02,  1.6436e-02,  1.5524e-03],\n",
            "          [ 8.7945e-03, -2.2788e-02, -3.1241e-02]],\n",
            "\n",
            "         [[ 3.4861e-02, -1.6518e-02, -2.5370e-03],\n",
            "          [ 2.9310e-02,  2.0226e-02, -1.1086e-02],\n",
            "          [-8.0896e-03, -3.8415e-02, -9.0490e-03]],\n",
            "\n",
            "         [[ 3.1580e-03, -3.7487e-02,  2.7410e-02],\n",
            "          [ 1.3754e-02,  2.1540e-02, -1.0028e-02],\n",
            "          [ 1.1784e-02,  3.7778e-02,  2.0501e-02]]],\n",
            "\n",
            "\n",
            "        [[[-3.6337e-02, -8.6506e-03, -2.4291e-02],\n",
            "          [ 3.9459e-03, -9.6521e-03, -7.0822e-03],\n",
            "          [ 2.8565e-02,  8.3331e-03, -2.4086e-02]],\n",
            "\n",
            "         [[ 2.4982e-03, -4.0291e-02,  2.6803e-02],\n",
            "          [ 3.6324e-02, -2.5438e-02,  8.9357e-05],\n",
            "          [-2.3926e-03, -1.7841e-02, -7.1662e-03]],\n",
            "\n",
            "         [[-2.1856e-02, -3.2813e-02,  2.5966e-02],\n",
            "          [-7.4206e-05, -6.7600e-03,  2.0164e-02],\n",
            "          [ 4.0662e-02,  1.7543e-02,  1.3582e-02]],\n",
            "\n",
            "         ...,\n",
            "\n",
            "         [[ 2.2933e-02,  2.1577e-02,  3.6315e-02],\n",
            "          [ 1.4209e-02,  4.0811e-02,  3.7942e-02],\n",
            "          [-2.0524e-02,  3.9626e-02,  3.2570e-02]],\n",
            "\n",
            "         [[-4.0208e-02,  6.6718e-03, -1.3847e-02],\n",
            "          [ 6.5455e-04,  3.5510e-02,  1.5412e-02],\n",
            "          [-3.1087e-02, -3.3013e-02, -2.4520e-02]],\n",
            "\n",
            "         [[ 2.7482e-02,  7.7347e-03, -3.1352e-02],\n",
            "          [-4.0121e-02, -2.1974e-02, -1.0468e-02],\n",
            "          [-2.2678e-02,  7.3374e-03, -1.7664e-02]]]], device='cuda:0',\n",
            "       requires_grad=True)\n",
            "head Conv2d(64, 1, kernel_size=(1, 1), stride=(1, 1)) Parameter containing:\n",
            "tensor([[[[ 0.1239]],\n",
            "\n",
            "         [[ 0.0223]],\n",
            "\n",
            "         [[-0.0231]],\n",
            "\n",
            "         [[ 0.0390]],\n",
            "\n",
            "         [[-0.1028]],\n",
            "\n",
            "         [[ 0.0580]],\n",
            "\n",
            "         [[ 0.1065]],\n",
            "\n",
            "         [[ 0.1014]],\n",
            "\n",
            "         [[-0.0325]],\n",
            "\n",
            "         [[ 0.0829]],\n",
            "\n",
            "         [[ 0.0480]],\n",
            "\n",
            "         [[ 0.0218]],\n",
            "\n",
            "         [[ 0.0945]],\n",
            "\n",
            "         [[ 0.0097]],\n",
            "\n",
            "         [[-0.0898]],\n",
            "\n",
            "         [[-0.1040]],\n",
            "\n",
            "         [[-0.0085]],\n",
            "\n",
            "         [[ 0.0823]],\n",
            "\n",
            "         [[-0.0567]],\n",
            "\n",
            "         [[ 0.0813]],\n",
            "\n",
            "         [[ 0.0540]],\n",
            "\n",
            "         [[-0.0153]],\n",
            "\n",
            "         [[-0.1031]],\n",
            "\n",
            "         [[-0.0038]],\n",
            "\n",
            "         [[-0.0783]],\n",
            "\n",
            "         [[ 0.0150]],\n",
            "\n",
            "         [[-0.1205]],\n",
            "\n",
            "         [[-0.0047]],\n",
            "\n",
            "         [[-0.1200]],\n",
            "\n",
            "         [[ 0.1221]],\n",
            "\n",
            "         [[ 0.0405]],\n",
            "\n",
            "         [[-0.0307]],\n",
            "\n",
            "         [[-0.0140]],\n",
            "\n",
            "         [[ 0.0421]],\n",
            "\n",
            "         [[-0.0475]],\n",
            "\n",
            "         [[ 0.1235]],\n",
            "\n",
            "         [[-0.0267]],\n",
            "\n",
            "         [[-0.0821]],\n",
            "\n",
            "         [[ 0.0616]],\n",
            "\n",
            "         [[ 0.1104]],\n",
            "\n",
            "         [[ 0.0815]],\n",
            "\n",
            "         [[-0.0150]],\n",
            "\n",
            "         [[-0.0520]],\n",
            "\n",
            "         [[ 0.0644]],\n",
            "\n",
            "         [[ 0.0560]],\n",
            "\n",
            "         [[-0.1063]],\n",
            "\n",
            "         [[-0.0838]],\n",
            "\n",
            "         [[-0.1203]],\n",
            "\n",
            "         [[ 0.0657]],\n",
            "\n",
            "         [[-0.0915]],\n",
            "\n",
            "         [[ 0.0902]],\n",
            "\n",
            "         [[-0.0421]],\n",
            "\n",
            "         [[ 0.0044]],\n",
            "\n",
            "         [[-0.0654]],\n",
            "\n",
            "         [[ 0.0605]],\n",
            "\n",
            "         [[-0.0830]],\n",
            "\n",
            "         [[ 0.0450]],\n",
            "\n",
            "         [[ 0.0584]],\n",
            "\n",
            "         [[ 0.0997]],\n",
            "\n",
            "         [[-0.1209]],\n",
            "\n",
            "         [[ 0.1043]],\n",
            "\n",
            "         [[ 0.0221]],\n",
            "\n",
            "         [[ 0.0846]],\n",
            "\n",
            "         [[-0.0842]]]], device='cuda:0', requires_grad=True)\n"
          ]
        }
      ],
      "source": [
        "for name, layer in umodel.named_modules():\n",
        "  if isinstance(layer, torch.nn.Conv2d):\n",
        "    print(name, layer, layer.weight)\n",
        "    ts.save(layer.weight)"
      ]
    },
    {
      "cell_type": "code",
      "source": [
        "!zip -r ukts.zip /content/_torchshow"
      ],
      "metadata": {
        "id": "-Gv17rWkk5_Q",
        "colab": {
          "base_uri": "https://localhost:8080/"
        },
        "outputId": "b88b5706-83f5-403e-afda-bd631d85dd64"
      },
      "execution_count": null,
      "outputs": [
        {
          "output_type": "stream",
          "name": "stdout",
          "text": [
            "  adding: content/_torchshow/ (stored 0%)\n",
            "  adding: content/_torchshow/2023-03-23_08-33-54-007447.png (deflated 11%)\n",
            "  adding: content/_torchshow/2023-03-23_08-34-32-867741.png (deflated 7%)\n",
            "  adding: content/_torchshow/2023-03-23_08-34-30-548266.png (deflated 8%)\n",
            "  adding: content/_torchshow/2023-03-23_08-34-24-311029.png (deflated 8%)\n",
            "  adding: content/_torchshow/2023-03-23_08-33-24-724381.png (deflated 19%)\n",
            "  adding: content/_torchshow/2023-03-23_08-34-18-005787.png (deflated 14%)\n",
            "  adding: content/_torchshow/2023-03-23_08-34-03-004560.png (deflated 11%)\n",
            "  adding: content/_torchshow/2023-03-23_08-34-06-599184.png (deflated 18%)\n",
            "  adding: content/_torchshow/2023-03-23_08-34-27-501956.png (deflated 8%)\n",
            "  adding: content/_torchshow/2023-03-23_08-33-30-833083.png (deflated 9%)\n",
            "  adding: content/_torchshow/2023-03-23_08-33-26-711661.png (deflated 7%)\n",
            "  adding: content/_torchshow/2023-03-23_08-33-37-644980.png (deflated 9%)\n",
            "  adding: content/_torchshow/2023-03-23_08-34-33-263935.png (stored 0%)\n",
            "  adding: content/_torchshow/2023-03-23_08-34-10-023655.png (deflated 15%)\n"
          ]
        }
      ]
    }
  ],
  "metadata": {
    "accelerator": "GPU",
    "colab": {
      "collapsed_sections": [
        "jUvnj-aWyuCp",
        "RuNvXzbZy2C_",
        "_RigL-3xh09O",
        "s88uApKTgAeN",
        "wFWOLu4rfvCw",
        "TVf8PyJNIaHQ",
        "a4dT5tszuZez",
        "c73i34uMp6Eb",
        "c22Haa7fXlat",
        "blO3JRs10iDA",
        "kQOiIGQ9nej8",
        "0NXyxCjunW1H",
        "-zvKlWkvRo1j",
        "EXpa8SPLccMm",
        "KssnfWYyjyhF"
      ],
      "provenance": []
    },
    "gpuClass": "standard",
    "kernelspec": {
      "display_name": "Python 3",
      "name": "python3"
    },
    "language_info": {
      "name": "python"
    }
  },
  "nbformat": 4,
  "nbformat_minor": 0
}